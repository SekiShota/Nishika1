{
 "cells": [
  {
   "cell_type": "markdown",
   "id": "b608d89d",
   "metadata": {},
   "source": [
    "## データ読み込み"
   ]
  },
  {
   "cell_type": "code",
   "execution_count": 1,
   "id": "8eb735c0",
   "metadata": {},
   "outputs": [
    {
     "name": "stderr",
     "output_type": "stream",
     "text": [
      "/var/folders/ks/17djw9_d5r3300_0z8cc33sh0000gn/T/ipykernel_61699/1329853670.py:14: DtypeWarning: Columns (10) have mixed types. Specify dtype option on import or set low_memory=False.\n",
      "  train1 = pd.read_csv(file)\n",
      "/var/folders/ks/17djw9_d5r3300_0z8cc33sh0000gn/T/ipykernel_61699/1329853670.py:14: DtypeWarning: Columns (10) have mixed types. Specify dtype option on import or set low_memory=False.\n",
      "  train1 = pd.read_csv(file)\n",
      "/var/folders/ks/17djw9_d5r3300_0z8cc33sh0000gn/T/ipykernel_61699/1329853670.py:14: DtypeWarning: Columns (10) have mixed types. Specify dtype option on import or set low_memory=False.\n",
      "  train1 = pd.read_csv(file)\n",
      "/var/folders/ks/17djw9_d5r3300_0z8cc33sh0000gn/T/ipykernel_61699/1329853670.py:14: DtypeWarning: Columns (10) have mixed types. Specify dtype option on import or set low_memory=False.\n",
      "  train1 = pd.read_csv(file)\n"
     ]
    },
    {
     "data": {
      "text/html": [
       "<div>\n",
       "<style scoped>\n",
       "    .dataframe tbody tr th:only-of-type {\n",
       "        vertical-align: middle;\n",
       "    }\n",
       "\n",
       "    .dataframe tbody tr th {\n",
       "        vertical-align: top;\n",
       "    }\n",
       "\n",
       "    .dataframe thead th {\n",
       "        text-align: right;\n",
       "    }\n",
       "</style>\n",
       "<table border=\"1\" class=\"dataframe\">\n",
       "  <thead>\n",
       "    <tr style=\"text-align: right;\">\n",
       "      <th></th>\n",
       "      <th>ID</th>\n",
       "      <th>種類</th>\n",
       "      <th>地域</th>\n",
       "      <th>市区町村コード</th>\n",
       "      <th>都道府県名</th>\n",
       "      <th>市区町村名</th>\n",
       "      <th>地区名</th>\n",
       "      <th>最寄駅：名称</th>\n",
       "      <th>最寄駅：距離（分）</th>\n",
       "      <th>間取り</th>\n",
       "      <th>...</th>\n",
       "      <th>前面道路：方位</th>\n",
       "      <th>前面道路：種類</th>\n",
       "      <th>前面道路：幅員（ｍ）</th>\n",
       "      <th>都市計画</th>\n",
       "      <th>建ぺい率（％）</th>\n",
       "      <th>容積率（％）</th>\n",
       "      <th>取引時点</th>\n",
       "      <th>改装</th>\n",
       "      <th>取引の事情等</th>\n",
       "      <th>取引価格（総額）_log</th>\n",
       "    </tr>\n",
       "  </thead>\n",
       "  <tbody>\n",
       "    <tr>\n",
       "      <th>0</th>\n",
       "      <td>40020197</td>\n",
       "      <td>中古マンション等</td>\n",
       "      <td>NaN</td>\n",
       "      <td>40133</td>\n",
       "      <td>福岡県</td>\n",
       "      <td>福岡市中央区</td>\n",
       "      <td>谷</td>\n",
       "      <td>桜坂</td>\n",
       "      <td>7</td>\n",
       "      <td>２ＬＤＫ</td>\n",
       "      <td>...</td>\n",
       "      <td>NaN</td>\n",
       "      <td>NaN</td>\n",
       "      <td>NaN</td>\n",
       "      <td>第１種中高層住居専用地域</td>\n",
       "      <td>60.0</td>\n",
       "      <td>150.0</td>\n",
       "      <td>2021年第2四半期</td>\n",
       "      <td>改装済</td>\n",
       "      <td>NaN</td>\n",
       "      <td>7.041393</td>\n",
       "    </tr>\n",
       "    <tr>\n",
       "      <th>1</th>\n",
       "      <td>40031380</td>\n",
       "      <td>中古マンション等</td>\n",
       "      <td>NaN</td>\n",
       "      <td>40137</td>\n",
       "      <td>福岡県</td>\n",
       "      <td>福岡市早良区</td>\n",
       "      <td>西新</td>\n",
       "      <td>西新</td>\n",
       "      <td>4</td>\n",
       "      <td>１Ｋ</td>\n",
       "      <td>...</td>\n",
       "      <td>NaN</td>\n",
       "      <td>NaN</td>\n",
       "      <td>NaN</td>\n",
       "      <td>商業地域</td>\n",
       "      <td>80.0</td>\n",
       "      <td>400.0</td>\n",
       "      <td>2020年第2四半期</td>\n",
       "      <td>未改装</td>\n",
       "      <td>NaN</td>\n",
       "      <td>6.602060</td>\n",
       "    </tr>\n",
       "    <tr>\n",
       "      <th>2</th>\n",
       "      <td>40030436</td>\n",
       "      <td>中古マンション等</td>\n",
       "      <td>NaN</td>\n",
       "      <td>40137</td>\n",
       "      <td>福岡県</td>\n",
       "      <td>福岡市早良区</td>\n",
       "      <td>小田部</td>\n",
       "      <td>室見</td>\n",
       "      <td>18</td>\n",
       "      <td>４ＬＤＫ</td>\n",
       "      <td>...</td>\n",
       "      <td>NaN</td>\n",
       "      <td>NaN</td>\n",
       "      <td>NaN</td>\n",
       "      <td>第１種中高層住居専用地域</td>\n",
       "      <td>60.0</td>\n",
       "      <td>150.0</td>\n",
       "      <td>2020年第4四半期</td>\n",
       "      <td>改装済</td>\n",
       "      <td>NaN</td>\n",
       "      <td>7.397940</td>\n",
       "    </tr>\n",
       "    <tr>\n",
       "      <th>3</th>\n",
       "      <td>40015295</td>\n",
       "      <td>中古マンション等</td>\n",
       "      <td>NaN</td>\n",
       "      <td>40132</td>\n",
       "      <td>福岡県</td>\n",
       "      <td>福岡市博多区</td>\n",
       "      <td>竹丘町</td>\n",
       "      <td>雑餉隈</td>\n",
       "      <td>5</td>\n",
       "      <td>２ＬＤＫ</td>\n",
       "      <td>...</td>\n",
       "      <td>NaN</td>\n",
       "      <td>NaN</td>\n",
       "      <td>NaN</td>\n",
       "      <td>商業地域</td>\n",
       "      <td>80.0</td>\n",
       "      <td>400.0</td>\n",
       "      <td>2020年第1四半期</td>\n",
       "      <td>未改装</td>\n",
       "      <td>NaN</td>\n",
       "      <td>7.278754</td>\n",
       "    </tr>\n",
       "    <tr>\n",
       "      <th>4</th>\n",
       "      <td>40147771</td>\n",
       "      <td>中古マンション等</td>\n",
       "      <td>NaN</td>\n",
       "      <td>40133</td>\n",
       "      <td>福岡県</td>\n",
       "      <td>福岡市中央区</td>\n",
       "      <td>荒戸</td>\n",
       "      <td>大濠公園</td>\n",
       "      <td>6</td>\n",
       "      <td>３ＤＫ</td>\n",
       "      <td>...</td>\n",
       "      <td>NaN</td>\n",
       "      <td>NaN</td>\n",
       "      <td>NaN</td>\n",
       "      <td>商業地域</td>\n",
       "      <td>80.0</td>\n",
       "      <td>400.0</td>\n",
       "      <td>2007年第3四半期</td>\n",
       "      <td>未改装</td>\n",
       "      <td>NaN</td>\n",
       "      <td>6.929419</td>\n",
       "    </tr>\n",
       "  </tbody>\n",
       "</table>\n",
       "<p>5 rows × 28 columns</p>\n",
       "</div>"
      ],
      "text/plain": [
       "         ID        種類  地域  市区町村コード 都道府県名   市区町村名  地区名 最寄駅：名称 最寄駅：距離（分）   間取り  \\\n",
       "0  40020197  中古マンション等 NaN    40133   福岡県  福岡市中央区    谷     桜坂         7  ２ＬＤＫ   \n",
       "1  40031380  中古マンション等 NaN    40137   福岡県  福岡市早良区   西新     西新         4    １Ｋ   \n",
       "2  40030436  中古マンション等 NaN    40137   福岡県  福岡市早良区  小田部     室見        18  ４ＬＤＫ   \n",
       "3  40015295  中古マンション等 NaN    40132   福岡県  福岡市博多区  竹丘町    雑餉隈         5  ２ＬＤＫ   \n",
       "4  40147771  中古マンション等 NaN    40133   福岡県  福岡市中央区   荒戸   大濠公園         6   ３ＤＫ   \n",
       "\n",
       "   ... 前面道路：方位  前面道路：種類  前面道路：幅員（ｍ）          都市計画 建ぺい率（％） 容積率（％）        取引時点  \\\n",
       "0  ...     NaN      NaN         NaN  第１種中高層住居専用地域    60.0  150.0  2021年第2四半期   \n",
       "1  ...     NaN      NaN         NaN          商業地域    80.0  400.0  2020年第2四半期   \n",
       "2  ...     NaN      NaN         NaN  第１種中高層住居専用地域    60.0  150.0  2020年第4四半期   \n",
       "3  ...     NaN      NaN         NaN          商業地域    80.0  400.0  2020年第1四半期   \n",
       "4  ...     NaN      NaN         NaN          商業地域    80.0  400.0  2007年第3四半期   \n",
       "\n",
       "    改装  取引の事情等  取引価格（総額）_log  \n",
       "0  改装済     NaN      7.041393  \n",
       "1  未改装     NaN      6.602060  \n",
       "2  改装済     NaN      7.397940  \n",
       "3  未改装     NaN      7.278754  \n",
       "4  未改装     NaN      6.929419  \n",
       "\n",
       "[5 rows x 28 columns]"
      ]
     },
     "execution_count": 1,
     "metadata": {},
     "output_type": "execute_result"
    }
   ],
   "source": [
    "import pandas as pd\n",
    "import numpy as np\n",
    "import matplotlib.pyplot as plt\n",
    "import seaborn as sns\n",
    "import glob\n",
    "\n",
    "#出力する行数を設定、省略をなくす\n",
    "pd.set_option('display.max_rows', 500)\n",
    "\n",
    "#データをまとめて読み込み、訓練データはtrain\n",
    "train_files = glob.glob('./data/train/*.csv')\n",
    "train = pd.DataFrame()\n",
    "for file in train_files:\n",
    "    train1 = pd.read_csv(file)\n",
    "    cat_train = pd.concat([train,train1])\n",
    "    train = cat_train\n",
    "\n",
    "train.head()"
   ]
  },
  {
   "cell_type": "code",
   "execution_count": 2,
   "id": "628b9aa0",
   "metadata": {},
   "outputs": [
    {
     "data": {
      "text/plain": [
       "array(['2021年第2四半期', '2020年第2四半期', '2020年第4四半期', '2020年第1四半期',\n",
       "       '2007年第3四半期', '2013年第4四半期', '2015年第1四半期', '2006年第2四半期',\n",
       "       '2010年第1四半期', '2011年第1四半期', '2006年第4四半期', '2016年第3四半期',\n",
       "       '2012年第4四半期', '2010年第3四半期', '2008年第3四半期', '2019年第1四半期',\n",
       "       '2015年第2四半期', '2016年第2四半期', '2019年第2四半期', '2013年第2四半期',\n",
       "       '2011年第4四半期', '2018年第3四半期', '2018年第1四半期', '2007年第4四半期',\n",
       "       '2013年第3四半期', '2014年第3四半期', '2020年第3四半期', '2017年第4四半期',\n",
       "       '2019年第3四半期', '2012年第3四半期', '2017年第3四半期', '2010年第4四半期',\n",
       "       '2012年第2四半期', '2021年第1四半期', '2009年第4四半期', '2017年第2四半期',\n",
       "       '2008年第4四半期', '2009年第2四半期', '2016年第4四半期', '2013年第1四半期',\n",
       "       '2015年第4四半期', '2007年第1四半期', '2018年第4四半期', '2016年第1四半期',\n",
       "       '2011年第2四半期', '2014年第2四半期', '2015年第3四半期', '2007年第2四半期',\n",
       "       '2019年第4四半期', '2006年第3四半期', '2014年第4四半期', '2010年第2四半期',\n",
       "       '2012年第1四半期', '2018年第2四半期', '2009年第1四半期', '2011年第3四半期',\n",
       "       '2008年第2四半期', '2009年第3四半期', '2014年第1四半期', '2017年第1四半期',\n",
       "       '2008年第1四半期', '2006年第1四半期', '2005年第3四半期', '2005年第4四半期'],\n",
       "      dtype=object)"
      ]
     },
     "execution_count": 2,
     "metadata": {},
     "output_type": "execute_result"
    }
   ],
   "source": [
    "train['取引時点'].unique()"
   ]
  },
  {
   "cell_type": "code",
   "execution_count": 9,
   "id": "f10eb2d7",
   "metadata": {},
   "outputs": [
    {
     "data": {
      "text/plain": [
       "2021.25"
      ]
     },
     "execution_count": 9,
     "metadata": {},
     "output_type": "execute_result"
    }
   ],
   "source": [
    "a=int(train['取引時点'].iloc[0][:4])+0.25\n",
    "a"
   ]
  },
  {
   "cell_type": "markdown",
   "id": "0527561d",
   "metadata": {},
   "source": [
    "## 訓練データのカラム"
   ]
  },
  {
   "cell_type": "code",
   "execution_count": 6,
   "id": "7a345947",
   "metadata": {},
   "outputs": [
    {
     "data": {
      "text/plain": [
       "Index(['ID', '種類', '地域', '市区町村コード', '都道府県名', '市区町村名', '地区名', '最寄駅：名称',\n",
       "       '最寄駅：距離（分）', '間取り', '面積（㎡）', '土地の形状', '間口', '延床面積（㎡）', '建築年', '建物の構造',\n",
       "       '用途', '今後の利用目的', '前面道路：方位', '前面道路：種類', '前面道路：幅員（ｍ）', '都市計画', '建ぺい率（％）',\n",
       "       '容積率（％）', '取引時点', '改装', '取引の事情等', '取引価格（総額）_log'],\n",
       "      dtype='object')"
      ]
     },
     "execution_count": 6,
     "metadata": {},
     "output_type": "execute_result"
    }
   ],
   "source": [
    "train.columns"
   ]
  },
  {
   "cell_type": "markdown",
   "id": "e621b419",
   "metadata": {},
   "source": [
    "## 欠損値が多いカラムを削除"
   ]
  },
  {
   "cell_type": "code",
   "execution_count": 7,
   "id": "7b85396f",
   "metadata": {},
   "outputs": [
    {
     "data": {
      "text/plain": [
       "(722574, 20)"
      ]
     },
     "execution_count": 7,
     "metadata": {},
     "output_type": "execute_result"
    }
   ],
   "source": [
    "class Delete_Null_Data():\n",
    "    \"\"\"\n",
    "    欠損率が高いcolumnを削除するclass\n",
    "    \"\"\"\n",
    "    \n",
    "    def __init__(self,df):\n",
    "        self.df = df\n",
    "        \n",
    "    #nullのカウントとnullの%のDataframeを返すメソッド\n",
    "    def null_counts(self):\n",
    "        null_counts_df = self.df\n",
    "        null_counts_df = pd.DataFrame(null_counts_df.isnull().sum(),columns=['null_counts'])\n",
    "        null_counts_df['null_par'] = null_counts_df['null_counts']/len(self.df)\n",
    "        return null_counts_df\n",
    "    \n",
    "    #nullの多いcolumnを削除するメソッド引数にnullの%を指定　１００％→１　５０％→0.5\n",
    "    def delete_null_columns(self,null_par=0.9):\n",
    "        df = self.null_counts()\n",
    "        re_df = df[df['null_par']>null_par]\n",
    "        cols = re_df.index.tolist()\n",
    "        delete_df = self.df.drop(labels=cols,axis=1)\n",
    "        \n",
    "        return delete_df\n",
    "\n",
    "#インスタンス化して訓練データを更新する\n",
    "Adj_Data=Delete_Null_Data(train)\n",
    "train=Adj_Data.delete_null_columns()\n",
    "train.shape"
   ]
  },
  {
   "cell_type": "markdown",
   "id": "1b0b53ed",
   "metadata": {},
   "source": [
    "## 更新後の訓練データ"
   ]
  },
  {
   "cell_type": "code",
   "execution_count": 8,
   "id": "e584ac56",
   "metadata": {},
   "outputs": [
    {
     "data": {
      "text/plain": [
       "Index(['ID', '種類', '市区町村コード', '都道府県名', '市区町村名', '地区名', '最寄駅：名称', '最寄駅：距離（分）',\n",
       "       '間取り', '面積（㎡）', '建築年', '建物の構造', '用途', '今後の利用目的', '都市計画', '建ぺい率（％）',\n",
       "       '容積率（％）', '取引時点', '改装', '取引価格（総額）_log'],\n",
       "      dtype='object')"
      ]
     },
     "execution_count": 8,
     "metadata": {},
     "output_type": "execute_result"
    }
   ],
   "source": [
    "train.columns"
   ]
  },
  {
   "cell_type": "code",
   "execution_count": 9,
   "id": "df1322e3",
   "metadata": {},
   "outputs": [
    {
     "name": "stdout",
     "output_type": "stream",
     "text": [
      "<class 'pandas.core.frame.DataFrame'>\n",
      "Int64Index: 722574 entries, 0 to 37378\n",
      "Data columns (total 20 columns):\n",
      " #   Column        Non-Null Count   Dtype  \n",
      "---  ------        --------------   -----  \n",
      " 0   ID            722574 non-null  int64  \n",
      " 1   種類            722574 non-null  object \n",
      " 2   市区町村コード       722574 non-null  int64  \n",
      " 3   都道府県名         722574 non-null  object \n",
      " 4   市区町村名         722574 non-null  object \n",
      " 5   地区名           721906 non-null  object \n",
      " 6   最寄駅：名称        719843 non-null  object \n",
      " 7   最寄駅：距離（分）     699417 non-null  object \n",
      " 8   間取り           696682 non-null  object \n",
      " 9   面積（㎡）         722574 non-null  object \n",
      " 10  建築年           701593 non-null  object \n",
      " 11  建物の構造         703422 non-null  object \n",
      " 12  用途            651713 non-null  object \n",
      " 13  今後の利用目的       356654 non-null  object \n",
      " 14  都市計画          702756 non-null  object \n",
      " 15  建ぺい率（％）       698413 non-null  float64\n",
      " 16  容積率（％）        698413 non-null  float64\n",
      " 17  取引時点          722574 non-null  object \n",
      " 18  改装            654498 non-null  object \n",
      " 19  取引価格（総額）_log  722574 non-null  float64\n",
      "dtypes: float64(3), int64(2), object(15)\n",
      "memory usage: 115.8+ MB\n"
     ]
    }
   ],
   "source": [
    "#データの型の確認\n",
    "train.info()"
   ]
  },
  {
   "cell_type": "code",
   "execution_count": 10,
   "id": "49e16519",
   "metadata": {},
   "outputs": [
    {
     "data": {
      "text/html": [
       "<div>\n",
       "<style scoped>\n",
       "    .dataframe tbody tr th:only-of-type {\n",
       "        vertical-align: middle;\n",
       "    }\n",
       "\n",
       "    .dataframe tbody tr th {\n",
       "        vertical-align: top;\n",
       "    }\n",
       "\n",
       "    .dataframe thead th {\n",
       "        text-align: right;\n",
       "    }\n",
       "</style>\n",
       "<table border=\"1\" class=\"dataframe\">\n",
       "  <thead>\n",
       "    <tr style=\"text-align: right;\">\n",
       "      <th></th>\n",
       "      <th>ID</th>\n",
       "      <th>種類</th>\n",
       "      <th>市区町村コード</th>\n",
       "      <th>都道府県名</th>\n",
       "      <th>市区町村名</th>\n",
       "      <th>地区名</th>\n",
       "      <th>最寄駅：名称</th>\n",
       "      <th>最寄駅：距離（分）</th>\n",
       "      <th>間取り</th>\n",
       "      <th>面積（㎡）</th>\n",
       "      <th>建築年</th>\n",
       "      <th>建物の構造</th>\n",
       "      <th>用途</th>\n",
       "      <th>今後の利用目的</th>\n",
       "      <th>都市計画</th>\n",
       "      <th>建ぺい率（％）</th>\n",
       "      <th>容積率（％）</th>\n",
       "      <th>取引時点</th>\n",
       "      <th>改装</th>\n",
       "      <th>取引価格（総額）_log</th>\n",
       "    </tr>\n",
       "  </thead>\n",
       "  <tbody>\n",
       "    <tr>\n",
       "      <th>0</th>\n",
       "      <td>40020197</td>\n",
       "      <td>中古マンション等</td>\n",
       "      <td>40133</td>\n",
       "      <td>福岡県</td>\n",
       "      <td>福岡市中央区</td>\n",
       "      <td>谷</td>\n",
       "      <td>桜坂</td>\n",
       "      <td>7</td>\n",
       "      <td>２ＬＤＫ</td>\n",
       "      <td>45</td>\n",
       "      <td>昭和63年</td>\n",
       "      <td>ＲＣ</td>\n",
       "      <td>住宅</td>\n",
       "      <td>住宅</td>\n",
       "      <td>第１種中高層住居専用地域</td>\n",
       "      <td>60.0</td>\n",
       "      <td>150.0</td>\n",
       "      <td>2021年第2四半期</td>\n",
       "      <td>改装済</td>\n",
       "      <td>7.041393</td>\n",
       "    </tr>\n",
       "    <tr>\n",
       "      <th>1</th>\n",
       "      <td>40031380</td>\n",
       "      <td>中古マンション等</td>\n",
       "      <td>40137</td>\n",
       "      <td>福岡県</td>\n",
       "      <td>福岡市早良区</td>\n",
       "      <td>西新</td>\n",
       "      <td>西新</td>\n",
       "      <td>4</td>\n",
       "      <td>１Ｋ</td>\n",
       "      <td>15</td>\n",
       "      <td>昭和64年</td>\n",
       "      <td>ＳＲＣ</td>\n",
       "      <td>住宅</td>\n",
       "      <td>住宅</td>\n",
       "      <td>商業地域</td>\n",
       "      <td>80.0</td>\n",
       "      <td>400.0</td>\n",
       "      <td>2020年第2四半期</td>\n",
       "      <td>未改装</td>\n",
       "      <td>6.602060</td>\n",
       "    </tr>\n",
       "    <tr>\n",
       "      <th>2</th>\n",
       "      <td>40030436</td>\n",
       "      <td>中古マンション等</td>\n",
       "      <td>40137</td>\n",
       "      <td>福岡県</td>\n",
       "      <td>福岡市早良区</td>\n",
       "      <td>小田部</td>\n",
       "      <td>室見</td>\n",
       "      <td>18</td>\n",
       "      <td>４ＬＤＫ</td>\n",
       "      <td>80</td>\n",
       "      <td>昭和63年</td>\n",
       "      <td>ＲＣ</td>\n",
       "      <td>住宅</td>\n",
       "      <td>住宅</td>\n",
       "      <td>第１種中高層住居専用地域</td>\n",
       "      <td>60.0</td>\n",
       "      <td>150.0</td>\n",
       "      <td>2020年第4四半期</td>\n",
       "      <td>改装済</td>\n",
       "      <td>7.397940</td>\n",
       "    </tr>\n",
       "  </tbody>\n",
       "</table>\n",
       "</div>"
      ],
      "text/plain": [
       "         ID        種類  市区町村コード 都道府県名   市区町村名  地区名 最寄駅：名称 最寄駅：距離（分）   間取り  \\\n",
       "0  40020197  中古マンション等    40133   福岡県  福岡市中央区    谷     桜坂         7  ２ＬＤＫ   \n",
       "1  40031380  中古マンション等    40137   福岡県  福岡市早良区   西新     西新         4    １Ｋ   \n",
       "2  40030436  中古マンション等    40137   福岡県  福岡市早良区  小田部     室見        18  ４ＬＤＫ   \n",
       "\n",
       "  面積（㎡）    建築年 建物の構造  用途 今後の利用目的          都市計画  建ぺい率（％）  容積率（％）        取引時点  \\\n",
       "0    45  昭和63年    ＲＣ  住宅      住宅  第１種中高層住居専用地域     60.0   150.0  2021年第2四半期   \n",
       "1    15  昭和64年   ＳＲＣ  住宅      住宅          商業地域     80.0   400.0  2020年第2四半期   \n",
       "2    80  昭和63年    ＲＣ  住宅      住宅  第１種中高層住居専用地域     60.0   150.0  2020年第4四半期   \n",
       "\n",
       "    改装  取引価格（総額）_log  \n",
       "0  改装済      7.041393  \n",
       "1  未改装      6.602060  \n",
       "2  改装済      7.397940  "
      ]
     },
     "execution_count": 10,
     "metadata": {},
     "output_type": "execute_result"
    }
   ],
   "source": [
    "train.head(3)"
   ]
  },
  {
   "cell_type": "markdown",
   "id": "e9015817",
   "metadata": {},
   "source": [
    "## 変数の欠損値補完"
   ]
  },
  {
   "cell_type": "code",
   "execution_count": 11,
   "id": "4b11c793",
   "metadata": {},
   "outputs": [
    {
     "data": {
      "text/plain": [
       "ID                   0\n",
       "種類                   0\n",
       "市区町村コード              0\n",
       "都道府県名                0\n",
       "市区町村名                0\n",
       "地区名                668\n",
       "最寄駅：名称            2731\n",
       "最寄駅：距離（分）        23157\n",
       "間取り              25892\n",
       "面積（㎡）                0\n",
       "建築年              20981\n",
       "建物の構造            19152\n",
       "用途               70861\n",
       "今後の利用目的         365920\n",
       "都市計画             19818\n",
       "建ぺい率（％）          24161\n",
       "容積率（％）           24161\n",
       "取引時点                 0\n",
       "改装               68076\n",
       "取引価格（総額）_log         0\n",
       "dtype: int64"
      ]
     },
     "execution_count": 11,
     "metadata": {},
     "output_type": "execute_result"
    }
   ],
   "source": [
    "train.isnull().sum()"
   ]
  },
  {
   "cell_type": "markdown",
   "id": "e1b3541b",
   "metadata": {},
   "source": [
    "### 目的変数：取引価格（総額）_log \n",
    "- 各変数との相関を確認するのでまだ分割しない \n",
    "- float型の変数"
   ]
  },
  {
   "cell_type": "code",
   "execution_count": 12,
   "id": "f3977e0a",
   "metadata": {},
   "outputs": [
    {
     "data": {
      "text/plain": [
       "0    7.041393\n",
       "1    6.602060\n",
       "2    7.397940\n",
       "3    7.278754\n",
       "4    6.929419\n",
       "Name: 取引価格（総額）_log, dtype: float64"
      ]
     },
     "execution_count": 12,
     "metadata": {},
     "output_type": "execute_result"
    }
   ],
   "source": [
    "train['取引価格（総額）_log'].head()"
   ]
  },
  {
   "cell_type": "markdown",
   "id": "c63f9bee",
   "metadata": {},
   "source": [
    "### 地区名 \n",
    "使わない"
   ]
  },
  {
   "cell_type": "code",
   "execution_count": 13,
   "id": "1e608219",
   "metadata": {},
   "outputs": [
    {
     "data": {
      "text/plain": [
       "array(['谷', '西新', '小田部', ..., '馬込町', '二十世紀が丘梨元町', '山田橋'], dtype=object)"
      ]
     },
     "execution_count": 13,
     "metadata": {},
     "output_type": "execute_result"
    }
   ],
   "source": [
    "train['地区名'].unique()"
   ]
  },
  {
   "cell_type": "markdown",
   "id": "aac7b41f",
   "metadata": {},
   "source": [
    "### 最寄駅：名称 \n",
    "使わない"
   ]
  },
  {
   "cell_type": "code",
   "execution_count": 14,
   "id": "e96494a5",
   "metadata": {},
   "outputs": [
    {
     "data": {
      "text/plain": [
       "array(['桜坂', '西新', '室見', ..., '葭川公園', '馬立', '千葉公園'], dtype=object)"
      ]
     },
     "execution_count": 14,
     "metadata": {},
     "output_type": "execute_result"
    }
   ],
   "source": [
    "train['最寄駅：名称'].unique()"
   ]
  },
  {
   "cell_type": "markdown",
   "id": "d2f93397",
   "metadata": {},
   "source": [
    "### 最寄駅：距離（分）  \n",
    "使う"
   ]
  },
  {
   "cell_type": "code",
   "execution_count": 15,
   "id": "a777a181",
   "metadata": {},
   "outputs": [
    {
     "data": {
      "text/plain": [
       "array(['7', '4', '18', '5', '6', '22', nan, '8', '16', '3', '30分?60分',\n",
       "       '29', '9', '17', '12', '23', '14', '21', '15', '25', '20', '19',\n",
       "       '10', '13', '11', '1', '24', '1H30?2H', '28', '26', '2', '1H?1H30',\n",
       "       '27', '0', '2H?'], dtype=object)"
      ]
     },
     "execution_count": 15,
     "metadata": {},
     "output_type": "execute_result"
    }
   ],
   "source": [
    "train['最寄駅：距離（分）'].unique()"
   ]
  },
  {
   "cell_type": "code",
   "execution_count": 16,
   "id": "14c17768",
   "metadata": {},
   "outputs": [],
   "source": [
    "#時間がわからない部分の補完、欠損値は10で補完\n",
    "train['最寄駅：距離（分）']=train['最寄駅：距離（分）'].replace({'30分?60分':'45', '1H30?2H':'105', '1H?1H30':'75', '2H?':'120'})\n",
    "train['最寄駅：距離（分）']=train['最寄駅：距離（分）'].fillna('10')\n",
    "\n",
    "#文字列型から整数型に変換\n",
    "train['最寄駅：距離（分）']=train['最寄駅：距離（分）'].astype(int)"
   ]
  },
  {
   "cell_type": "code",
   "execution_count": 17,
   "id": "de4b16e5",
   "metadata": {},
   "outputs": [
    {
     "data": {
      "text/plain": [
       "array([[ 1.        , -0.21807361],\n",
       "       [-0.21807361,  1.        ]])"
      ]
     },
     "execution_count": 17,
     "metadata": {},
     "output_type": "execute_result"
    }
   ],
   "source": [
    "#最寄駅：距離（分）と価格の相関確認\n",
    "np.corrcoef(train['最寄駅：距離（分）'], train['取引価格（総額）_log'])\n",
    "\n",
    "#駅からの距離が近い（駅チカ）は価格が高い"
   ]
  },
  {
   "cell_type": "markdown",
   "id": "67896e96",
   "metadata": {},
   "source": [
    "### 間取り \n",
    "使う"
   ]
  },
  {
   "cell_type": "code",
   "execution_count": 18,
   "id": "da7ec56c",
   "metadata": {},
   "outputs": [
    {
     "data": {
      "text/plain": [
       "array(['２ＬＤＫ', '１Ｋ', '４ＬＤＫ', '３ＤＫ', '３ＬＤＫ', '１ＬＤＫ', '１ＤＫ', nan, '４ＤＫ',\n",
       "       '２ＤＫ', '２Ｋ', 'オープンフロア', '１Ｒ', '５ＬＤＫ', '１ＬＤＫ＋Ｓ', '３ＬＤＫ＋Ｓ', '１Ｒ＋Ｓ',\n",
       "       '２ＬＤＫ＋Ｓ', '４Ｋ', '３Ｋ', '３ＤＫ＋Ｓ', '４ＬＤＫ＋Ｓ', '５ＤＫ', '４Ｌ＋Ｋ', 'スタジオ',\n",
       "       '２ＤＫ＋Ｓ', '６ＤＫ', '６ＬＤＫ＋Ｓ', '７ＬＤＫ', '１ＤＫ＋Ｓ', '６ＬＤＫ', '１Ｋ＋Ｓ', '３Ｄ',\n",
       "       '１ＬＫ', '５ＬＤＫ＋Ｓ', '７ＤＫ', '３ＬＫ', '５Ｋ', '２Ｋ＋Ｓ', '１Ｌ', '４ＤＫ＋Ｓ', '３ＬＤ',\n",
       "       '８ＬＤＫ', '２ＬＫ', '３ＬＤＫ＋Ｋ', '３ＬＤ＋Ｓ', '４Ｌ', 'メゾネット', '４ＬＤＫ＋Ｋ',\n",
       "       '８ＬＤＫ＋Ｓ', '７ＬＤＫ＋Ｓ', '２ＬＤ＋Ｓ', '２Ｌ', '２ＬＤＫ＋Ｋ', '１ＬＤ＋Ｓ', '２ＬＫ＋Ｓ',\n",
       "       '５ＬＤＫ＋Ｋ', '２Ｌ＋Ｓ', '３Ｋ＋Ｓ', '１ＤＫ＋Ｋ', '２Ｄ', '１ＬＫ＋Ｓ', '１Ｌ＋Ｓ', '２ＬＤ',\n",
       "       '４Ｄ'], dtype=object)"
      ]
     },
     "execution_count": 18,
     "metadata": {},
     "output_type": "execute_result"
    }
   ],
   "source": [
    "train['間取り'].unique()"
   ]
  },
  {
   "cell_type": "code",
   "execution_count": 19,
   "id": "7cef87e7",
   "metadata": {},
   "outputs": [
    {
     "data": {
      "text/plain": [
       "array(['２ＬＤＫ', '１Ｋ', '４ＬＤＫ', '３ＤＫ', '３ＬＤＫ', '１ＬＤＫ', '１ＤＫ', '４ＤＫ', '２ＤＫ',\n",
       "       '２Ｋ', 'オープンフロア', '１Ｒ', '５ＬＤＫ', '１ＬＤＫ＋Ｓ', '３ＬＤＫ＋Ｓ', '１Ｒ＋Ｓ',\n",
       "       '２ＬＤＫ＋Ｓ', '４Ｋ', '３Ｋ', '３ＤＫ＋Ｓ', '４ＬＤＫ＋Ｓ', '５ＤＫ', '４Ｌ＋Ｋ', 'スタジオ',\n",
       "       '２ＤＫ＋Ｓ', '６ＤＫ', '６ＬＤＫ＋Ｓ', '７ＬＤＫ', '１ＤＫ＋Ｓ', '６ＬＤＫ', '１Ｋ＋Ｓ', '３Ｄ',\n",
       "       '１ＬＫ', '５ＬＤＫ＋Ｓ', '７ＤＫ', '３ＬＫ', '５Ｋ', '２Ｋ＋Ｓ', '１Ｌ', '４ＤＫ＋Ｓ', '３ＬＤ',\n",
       "       '８ＬＤＫ', '２ＬＫ', '３ＬＤＫ＋Ｋ', '３ＬＤ＋Ｓ', '４Ｌ', 'メゾネット', '４ＬＤＫ＋Ｋ',\n",
       "       '８ＬＤＫ＋Ｓ', '７ＬＤＫ＋Ｓ', '２ＬＤ＋Ｓ', '２Ｌ', '２ＬＤＫ＋Ｋ', '１ＬＤ＋Ｓ', '２ＬＫ＋Ｓ',\n",
       "       '５ＬＤＫ＋Ｋ', '２Ｌ＋Ｓ', '３Ｋ＋Ｓ', '１ＤＫ＋Ｋ', '２Ｄ', '１ＬＫ＋Ｓ', '１Ｌ＋Ｓ', '２ＬＤ',\n",
       "       '４Ｄ'], dtype=object)"
      ]
     },
     "execution_count": 19,
     "metadata": {},
     "output_type": "execute_result"
    }
   ],
   "source": [
    "#欠損値補完、文字列nullで対応して1DKに補完\n",
    "train['間取り']=train['間取り'].fillna('null')\n",
    "train['間取り']=train['間取り'].replace('null','１ＤＫ')\n",
    "train['間取り'].unique()"
   ]
  },
  {
   "cell_type": "code",
   "execution_count": 20,
   "id": "c64c58e1",
   "metadata": {},
   "outputs": [
    {
     "name": "stdout",
     "output_type": "stream",
     "text": [
      "間取り\n",
      "オープンフロア    7.159691\n",
      "スタジオ       7.396857\n",
      "メゾネット      7.432852\n",
      "１ＤＫ        7.120446\n",
      "１ＤＫ＋Ｋ      7.204120\n",
      "１ＤＫ＋Ｓ      7.140664\n",
      "１Ｋ         7.033230\n",
      "１Ｋ＋Ｓ       7.224671\n",
      "１Ｌ         6.835734\n",
      "１Ｌ＋Ｓ       7.568043\n",
      "１ＬＤ＋Ｓ      7.365637\n",
      "１ＬＤＫ       7.338574\n",
      "１ＬＤＫ＋Ｓ     7.418270\n",
      "１ＬＫ        6.973951\n",
      "１ＬＫ＋Ｓ      6.934498\n",
      "１Ｒ         6.824333\n",
      "１Ｒ＋Ｓ       7.152043\n",
      "２Ｄ         7.079181\n",
      "２ＤＫ        7.064212\n",
      "２ＤＫ＋Ｓ      7.112916\n",
      "２Ｋ         6.944770\n",
      "２Ｋ＋Ｓ       7.061666\n",
      "２Ｌ         7.220455\n",
      "２Ｌ＋Ｓ       7.228183\n",
      "２ＬＤ        7.857332\n",
      "２ＬＤ＋Ｓ      7.262583\n",
      "２ＬＤＫ       7.312240\n",
      "２ＬＤＫ＋Ｋ     7.575991\n",
      "２ＬＤＫ＋Ｓ     7.344927\n",
      "２ＬＫ        7.132841\n",
      "２ＬＫ＋Ｓ      7.326086\n",
      "３Ｄ         6.836049\n",
      "３ＤＫ        6.922613\n",
      "３ＤＫ＋Ｓ      7.002083\n",
      "３Ｋ         6.767697\n",
      "３Ｋ＋Ｓ       6.886004\n",
      "３ＬＤ        7.057150\n",
      "３ＬＤ＋Ｓ      7.315090\n",
      "３ＬＤＫ       7.290248\n",
      "３ＬＤＫ＋Ｋ     7.550554\n",
      "３ＬＤＫ＋Ｓ     7.343622\n",
      "３ＬＫ        6.968071\n",
      "４Ｄ         7.041393\n",
      "４ＤＫ        6.847182\n",
      "４ＤＫ＋Ｓ      6.954133\n",
      "４Ｋ         6.790982\n",
      "４Ｌ         7.342423\n",
      "４Ｌ＋Ｋ       7.081812\n",
      "４ＬＤＫ       7.320979\n",
      "４ＬＤＫ＋Ｋ     7.299301\n",
      "４ＬＤＫ＋Ｓ     7.324788\n",
      "５ＤＫ        6.953265\n",
      "５Ｋ         7.075783\n",
      "５ＬＤＫ       7.288094\n",
      "５ＬＤＫ＋Ｋ     7.698970\n",
      "５ＬＤＫ＋Ｓ     7.413049\n",
      "６ＤＫ        7.210169\n",
      "６ＬＤＫ       7.470456\n",
      "６ＬＤＫ＋Ｓ     7.346392\n",
      "７ＤＫ        7.204120\n",
      "７ＬＤＫ       7.494867\n",
      "７ＬＤＫ＋Ｓ     7.229696\n",
      "８ＬＤＫ       7.632998\n",
      "８ＬＤＫ＋Ｓ     7.230449\n",
      "Name: 取引価格（総額）_log, dtype: float64\n"
     ]
    }
   ],
   "source": [
    "#間取りごとに価格の相場を確認する\n",
    "print(train['取引価格（総額）_log'].groupby(train['間取り']).mean())"
   ]
  },
  {
   "cell_type": "code",
   "execution_count": null,
   "id": "2b978c43",
   "metadata": {},
   "outputs": [],
   "source": []
  },
  {
   "cell_type": "code",
   "execution_count": 21,
   "id": "10e26673",
   "metadata": {},
   "outputs": [
    {
     "name": "stdout",
     "output_type": "stream",
     "text": [
      "<class 'pandas.core.frame.DataFrame'>\n",
      "RangeIndex: 64 entries, 0 to 63\n",
      "Data columns (total 2 columns):\n",
      " #   Column  Non-Null Count  Dtype \n",
      "---  ------  --------------  ----- \n",
      " 0   間取り     64 non-null     object\n",
      " 1    重み     64 non-null     int64 \n",
      "dtypes: int64(1), object(1)\n",
      "memory usage: 1.1+ KB\n"
     ]
    }
   ],
   "source": [
    "#間取りの種類で重みづけ、roomファイルには各間取りと番号が格納されている\n",
    "room=pd.read_csv('room.csv')\n",
    "room.info()"
   ]
  },
  {
   "cell_type": "code",
   "execution_count": 22,
   "id": "da4fb8d5",
   "metadata": {},
   "outputs": [],
   "source": [
    "#訓練データに追加、結合キーは間取り\n",
    "train1=pd.merge(train1,room,how='inner', on='間取り')"
   ]
  },
  {
   "cell_type": "code",
   "execution_count": 23,
   "id": "f4a21461",
   "metadata": {},
   "outputs": [
    {
     "data": {
      "text/html": [
       "<div>\n",
       "<style scoped>\n",
       "    .dataframe tbody tr th:only-of-type {\n",
       "        vertical-align: middle;\n",
       "    }\n",
       "\n",
       "    .dataframe tbody tr th {\n",
       "        vertical-align: top;\n",
       "    }\n",
       "\n",
       "    .dataframe thead th {\n",
       "        text-align: right;\n",
       "    }\n",
       "</style>\n",
       "<table border=\"1\" class=\"dataframe\">\n",
       "  <thead>\n",
       "    <tr style=\"text-align: right;\">\n",
       "      <th></th>\n",
       "      <th>ID</th>\n",
       "      <th>種類</th>\n",
       "      <th>地域</th>\n",
       "      <th>市区町村コード</th>\n",
       "      <th>都道府県名</th>\n",
       "      <th>市区町村名</th>\n",
       "      <th>地区名</th>\n",
       "      <th>最寄駅：名称</th>\n",
       "      <th>最寄駅：距離（分）</th>\n",
       "      <th>間取り</th>\n",
       "      <th>...</th>\n",
       "      <th>前面道路：種類</th>\n",
       "      <th>前面道路：幅員（ｍ）</th>\n",
       "      <th>都市計画</th>\n",
       "      <th>建ぺい率（％）</th>\n",
       "      <th>容積率（％）</th>\n",
       "      <th>取引時点</th>\n",
       "      <th>改装</th>\n",
       "      <th>取引の事情等</th>\n",
       "      <th>取引価格（総額）_log</th>\n",
       "      <th>重み</th>\n",
       "    </tr>\n",
       "  </thead>\n",
       "  <tbody>\n",
       "    <tr>\n",
       "      <th>0</th>\n",
       "      <td>12066474</td>\n",
       "      <td>中古マンション等</td>\n",
       "      <td>NaN</td>\n",
       "      <td>12204</td>\n",
       "      <td>千葉県</td>\n",
       "      <td>船橋市</td>\n",
       "      <td>山手</td>\n",
       "      <td>新船橋</td>\n",
       "      <td>13</td>\n",
       "      <td>４ＬＤＫ</td>\n",
       "      <td>...</td>\n",
       "      <td>NaN</td>\n",
       "      <td>NaN</td>\n",
       "      <td>工業地域</td>\n",
       "      <td>60.0</td>\n",
       "      <td>200.0</td>\n",
       "      <td>2014年第4四半期</td>\n",
       "      <td>未改装</td>\n",
       "      <td>NaN</td>\n",
       "      <td>7.544068</td>\n",
       "      <td>49</td>\n",
       "    </tr>\n",
       "    <tr>\n",
       "      <th>1</th>\n",
       "      <td>12194582</td>\n",
       "      <td>中古マンション等</td>\n",
       "      <td>NaN</td>\n",
       "      <td>12221</td>\n",
       "      <td>千葉県</td>\n",
       "      <td>八千代市</td>\n",
       "      <td>ゆりのき台</td>\n",
       "      <td>八千代中央</td>\n",
       "      <td>3</td>\n",
       "      <td>４ＬＤＫ</td>\n",
       "      <td>...</td>\n",
       "      <td>NaN</td>\n",
       "      <td>NaN</td>\n",
       "      <td>第１種住居地域</td>\n",
       "      <td>60.0</td>\n",
       "      <td>200.0</td>\n",
       "      <td>2009年第3四半期</td>\n",
       "      <td>未改装</td>\n",
       "      <td>NaN</td>\n",
       "      <td>7.505150</td>\n",
       "      <td>49</td>\n",
       "    </tr>\n",
       "    <tr>\n",
       "      <th>2</th>\n",
       "      <td>12189819</td>\n",
       "      <td>中古マンション等</td>\n",
       "      <td>NaN</td>\n",
       "      <td>12231</td>\n",
       "      <td>千葉県</td>\n",
       "      <td>印西市</td>\n",
       "      <td>戸神台</td>\n",
       "      <td>千葉ニュータウン中央</td>\n",
       "      <td>8</td>\n",
       "      <td>４ＬＤＫ</td>\n",
       "      <td>...</td>\n",
       "      <td>NaN</td>\n",
       "      <td>NaN</td>\n",
       "      <td>第１種中高層住居専用地域</td>\n",
       "      <td>60.0</td>\n",
       "      <td>200.0</td>\n",
       "      <td>2015年第4四半期</td>\n",
       "      <td>未改装</td>\n",
       "      <td>NaN</td>\n",
       "      <td>7.301030</td>\n",
       "      <td>49</td>\n",
       "    </tr>\n",
       "    <tr>\n",
       "      <th>3</th>\n",
       "      <td>12081739</td>\n",
       "      <td>中古マンション等</td>\n",
       "      <td>NaN</td>\n",
       "      <td>12216</td>\n",
       "      <td>千葉県</td>\n",
       "      <td>習志野市</td>\n",
       "      <td>奏の杜</td>\n",
       "      <td>津田沼</td>\n",
       "      <td>8</td>\n",
       "      <td>４ＬＤＫ</td>\n",
       "      <td>...</td>\n",
       "      <td>NaN</td>\n",
       "      <td>NaN</td>\n",
       "      <td>第１種住居地域</td>\n",
       "      <td>60.0</td>\n",
       "      <td>300.0</td>\n",
       "      <td>2019年第4四半期</td>\n",
       "      <td>未改装</td>\n",
       "      <td>NaN</td>\n",
       "      <td>7.755875</td>\n",
       "      <td>49</td>\n",
       "    </tr>\n",
       "    <tr>\n",
       "      <th>4</th>\n",
       "      <td>12017400</td>\n",
       "      <td>中古マンション等</td>\n",
       "      <td>NaN</td>\n",
       "      <td>12203</td>\n",
       "      <td>千葉県</td>\n",
       "      <td>市川市</td>\n",
       "      <td>田尻</td>\n",
       "      <td>原木中山</td>\n",
       "      <td>9</td>\n",
       "      <td>４ＬＤＫ</td>\n",
       "      <td>...</td>\n",
       "      <td>NaN</td>\n",
       "      <td>NaN</td>\n",
       "      <td>工業地域</td>\n",
       "      <td>60.0</td>\n",
       "      <td>200.0</td>\n",
       "      <td>2017年第1四半期</td>\n",
       "      <td>改装済</td>\n",
       "      <td>NaN</td>\n",
       "      <td>7.278754</td>\n",
       "      <td>49</td>\n",
       "    </tr>\n",
       "    <tr>\n",
       "      <th>...</th>\n",
       "      <td>...</td>\n",
       "      <td>...</td>\n",
       "      <td>...</td>\n",
       "      <td>...</td>\n",
       "      <td>...</td>\n",
       "      <td>...</td>\n",
       "      <td>...</td>\n",
       "      <td>...</td>\n",
       "      <td>...</td>\n",
       "      <td>...</td>\n",
       "      <td>...</td>\n",
       "      <td>...</td>\n",
       "      <td>...</td>\n",
       "      <td>...</td>\n",
       "      <td>...</td>\n",
       "      <td>...</td>\n",
       "      <td>...</td>\n",
       "      <td>...</td>\n",
       "      <td>...</td>\n",
       "      <td>...</td>\n",
       "      <td>...</td>\n",
       "    </tr>\n",
       "    <tr>\n",
       "      <th>36162</th>\n",
       "      <td>12187513</td>\n",
       "      <td>中古マンション等</td>\n",
       "      <td>NaN</td>\n",
       "      <td>12220</td>\n",
       "      <td>千葉県</td>\n",
       "      <td>流山市</td>\n",
       "      <td>加</td>\n",
       "      <td>流山セントラルパーク</td>\n",
       "      <td>15</td>\n",
       "      <td>６ＬＤＫ＋Ｓ</td>\n",
       "      <td>...</td>\n",
       "      <td>NaN</td>\n",
       "      <td>NaN</td>\n",
       "      <td>第２種中高層住居専用地域</td>\n",
       "      <td>60.0</td>\n",
       "      <td>200.0</td>\n",
       "      <td>2009年第2四半期</td>\n",
       "      <td>未改装</td>\n",
       "      <td>NaN</td>\n",
       "      <td>7.505150</td>\n",
       "      <td>59</td>\n",
       "    </tr>\n",
       "    <tr>\n",
       "      <th>36163</th>\n",
       "      <td>12152295</td>\n",
       "      <td>中古マンション等</td>\n",
       "      <td>NaN</td>\n",
       "      <td>12212</td>\n",
       "      <td>千葉県</td>\n",
       "      <td>佐倉市</td>\n",
       "      <td>上志津</td>\n",
       "      <td>志津</td>\n",
       "      <td>8</td>\n",
       "      <td>４Ｌ＋Ｋ</td>\n",
       "      <td>...</td>\n",
       "      <td>NaN</td>\n",
       "      <td>NaN</td>\n",
       "      <td>第１種低層住居専用地域</td>\n",
       "      <td>60.0</td>\n",
       "      <td>150.0</td>\n",
       "      <td>2009年第3四半期</td>\n",
       "      <td>未改装</td>\n",
       "      <td>NaN</td>\n",
       "      <td>6.792392</td>\n",
       "      <td>48</td>\n",
       "    </tr>\n",
       "    <tr>\n",
       "      <th>36164</th>\n",
       "      <td>12131136</td>\n",
       "      <td>中古マンション等</td>\n",
       "      <td>NaN</td>\n",
       "      <td>12219</td>\n",
       "      <td>千葉県</td>\n",
       "      <td>市原市</td>\n",
       "      <td>青葉台</td>\n",
       "      <td>姉ケ崎</td>\n",
       "      <td>29</td>\n",
       "      <td>３Ｄ</td>\n",
       "      <td>...</td>\n",
       "      <td>NaN</td>\n",
       "      <td>NaN</td>\n",
       "      <td>第１種中高層住居専用地域</td>\n",
       "      <td>60.0</td>\n",
       "      <td>200.0</td>\n",
       "      <td>2010年第3四半期</td>\n",
       "      <td>未改装</td>\n",
       "      <td>NaN</td>\n",
       "      <td>7.000000</td>\n",
       "      <td>32</td>\n",
       "    </tr>\n",
       "    <tr>\n",
       "      <th>36165</th>\n",
       "      <td>12010848</td>\n",
       "      <td>中古マンション等</td>\n",
       "      <td>NaN</td>\n",
       "      <td>12106</td>\n",
       "      <td>千葉県</td>\n",
       "      <td>千葉市美浜区</td>\n",
       "      <td>高洲</td>\n",
       "      <td>稲毛海岸</td>\n",
       "      <td>10</td>\n",
       "      <td>５Ｋ</td>\n",
       "      <td>...</td>\n",
       "      <td>NaN</td>\n",
       "      <td>NaN</td>\n",
       "      <td>NaN</td>\n",
       "      <td>NaN</td>\n",
       "      <td>NaN</td>\n",
       "      <td>2018年第1四半期</td>\n",
       "      <td>NaN</td>\n",
       "      <td>NaN</td>\n",
       "      <td>7.041393</td>\n",
       "      <td>53</td>\n",
       "    </tr>\n",
       "    <tr>\n",
       "      <th>36166</th>\n",
       "      <td>12190256</td>\n",
       "      <td>中古マンション等</td>\n",
       "      <td>NaN</td>\n",
       "      <td>12231</td>\n",
       "      <td>千葉県</td>\n",
       "      <td>印西市</td>\n",
       "      <td>原</td>\n",
       "      <td>印西牧の原</td>\n",
       "      <td>14</td>\n",
       "      <td>３ＬＤＫ＋Ｋ</td>\n",
       "      <td>...</td>\n",
       "      <td>NaN</td>\n",
       "      <td>NaN</td>\n",
       "      <td>第１種中高層住居専用地域</td>\n",
       "      <td>60.0</td>\n",
       "      <td>200.0</td>\n",
       "      <td>2015年第1四半期</td>\n",
       "      <td>未改装</td>\n",
       "      <td>調停・競売等</td>\n",
       "      <td>7.079181</td>\n",
       "      <td>40</td>\n",
       "    </tr>\n",
       "  </tbody>\n",
       "</table>\n",
       "<p>36167 rows × 29 columns</p>\n",
       "</div>"
      ],
      "text/plain": [
       "             ID        種類  地域  市区町村コード 都道府県名   市区町村名    地区名      最寄駅：名称  \\\n",
       "0      12066474  中古マンション等 NaN    12204   千葉県     船橋市     山手         新船橋   \n",
       "1      12194582  中古マンション等 NaN    12221   千葉県    八千代市  ゆりのき台       八千代中央   \n",
       "2      12189819  中古マンション等 NaN    12231   千葉県     印西市    戸神台  千葉ニュータウン中央   \n",
       "3      12081739  中古マンション等 NaN    12216   千葉県    習志野市    奏の杜         津田沼   \n",
       "4      12017400  中古マンション等 NaN    12203   千葉県     市川市     田尻        原木中山   \n",
       "...         ...       ...  ..      ...   ...     ...    ...         ...   \n",
       "36162  12187513  中古マンション等 NaN    12220   千葉県     流山市      加  流山セントラルパーク   \n",
       "36163  12152295  中古マンション等 NaN    12212   千葉県     佐倉市    上志津          志津   \n",
       "36164  12131136  中古マンション等 NaN    12219   千葉県     市原市    青葉台         姉ケ崎   \n",
       "36165  12010848  中古マンション等 NaN    12106   千葉県  千葉市美浜区     高洲        稲毛海岸   \n",
       "36166  12190256  中古マンション等 NaN    12231   千葉県     印西市      原       印西牧の原   \n",
       "\n",
       "      最寄駅：距離（分）     間取り  ...  前面道路：種類  前面道路：幅員（ｍ）          都市計画  建ぺい率（％）  \\\n",
       "0            13    ４ＬＤＫ  ...      NaN         NaN          工業地域     60.0   \n",
       "1             3    ４ＬＤＫ  ...      NaN         NaN       第１種住居地域     60.0   \n",
       "2             8    ４ＬＤＫ  ...      NaN         NaN  第１種中高層住居専用地域     60.0   \n",
       "3             8    ４ＬＤＫ  ...      NaN         NaN       第１種住居地域     60.0   \n",
       "4             9    ４ＬＤＫ  ...      NaN         NaN          工業地域     60.0   \n",
       "...         ...     ...  ...      ...         ...           ...      ...   \n",
       "36162        15  ６ＬＤＫ＋Ｓ  ...      NaN         NaN  第２種中高層住居専用地域     60.0   \n",
       "36163         8    ４Ｌ＋Ｋ  ...      NaN         NaN   第１種低層住居専用地域     60.0   \n",
       "36164        29      ３Ｄ  ...      NaN         NaN  第１種中高層住居専用地域     60.0   \n",
       "36165        10      ５Ｋ  ...      NaN         NaN           NaN      NaN   \n",
       "36166        14  ３ＬＤＫ＋Ｋ  ...      NaN         NaN  第１種中高層住居専用地域     60.0   \n",
       "\n",
       "      容積率（％）        取引時点   改装  取引の事情等  取引価格（総額）_log   重み  \n",
       "0      200.0  2014年第4四半期  未改装     NaN      7.544068   49  \n",
       "1      200.0  2009年第3四半期  未改装     NaN      7.505150   49  \n",
       "2      200.0  2015年第4四半期  未改装     NaN      7.301030   49  \n",
       "3      300.0  2019年第4四半期  未改装     NaN      7.755875   49  \n",
       "4      200.0  2017年第1四半期  改装済     NaN      7.278754   49  \n",
       "...      ...         ...  ...     ...           ...  ...  \n",
       "36162  200.0  2009年第2四半期  未改装     NaN      7.505150   59  \n",
       "36163  150.0  2009年第3四半期  未改装     NaN      6.792392   48  \n",
       "36164  200.0  2010年第3四半期  未改装     NaN      7.000000   32  \n",
       "36165    NaN  2018年第1四半期  NaN     NaN      7.041393   53  \n",
       "36166  200.0  2015年第1四半期  未改装  調停・競売等      7.079181   40  \n",
       "\n",
       "[36167 rows x 29 columns]"
      ]
     },
     "execution_count": 23,
     "metadata": {},
     "output_type": "execute_result"
    }
   ],
   "source": [
    "train1"
   ]
  },
  {
   "cell_type": "code",
   "execution_count": 24,
   "id": "f50e0485",
   "metadata": {},
   "outputs": [
    {
     "name": "stdout",
     "output_type": "stream",
     "text": [
      "Requirement already satisfied: japanize-matplotlib in /Users/Shota-0128/opt/anaconda3/lib/python3.9/site-packages (1.1.3)\n",
      "Requirement already satisfied: matplotlib in /Users/Shota-0128/opt/anaconda3/lib/python3.9/site-packages (from japanize-matplotlib) (3.5.1)\n",
      "Requirement already satisfied: pyparsing>=2.2.1 in /Users/Shota-0128/opt/anaconda3/lib/python3.9/site-packages (from matplotlib->japanize-matplotlib) (3.0.4)\n",
      "Requirement already satisfied: numpy>=1.17 in /Users/Shota-0128/opt/anaconda3/lib/python3.9/site-packages (from matplotlib->japanize-matplotlib) (1.21.5)\n",
      "Requirement already satisfied: cycler>=0.10 in /Users/Shota-0128/opt/anaconda3/lib/python3.9/site-packages (from matplotlib->japanize-matplotlib) (0.11.0)\n",
      "Requirement already satisfied: fonttools>=4.22.0 in /Users/Shota-0128/opt/anaconda3/lib/python3.9/site-packages (from matplotlib->japanize-matplotlib) (4.25.0)\n",
      "Requirement already satisfied: packaging>=20.0 in /Users/Shota-0128/opt/anaconda3/lib/python3.9/site-packages (from matplotlib->japanize-matplotlib) (21.3)\n",
      "Requirement already satisfied: kiwisolver>=1.0.1 in /Users/Shota-0128/opt/anaconda3/lib/python3.9/site-packages (from matplotlib->japanize-matplotlib) (1.3.2)\n",
      "Requirement already satisfied: python-dateutil>=2.7 in /Users/Shota-0128/opt/anaconda3/lib/python3.9/site-packages (from matplotlib->japanize-matplotlib) (2.8.2)\n",
      "Requirement already satisfied: pillow>=6.2.0 in /Users/Shota-0128/opt/anaconda3/lib/python3.9/site-packages (from matplotlib->japanize-matplotlib) (9.0.1)\n",
      "Requirement already satisfied: six>=1.5 in /Users/Shota-0128/opt/anaconda3/lib/python3.9/site-packages (from python-dateutil>=2.7->matplotlib->japanize-matplotlib) (1.16.0)\n"
     ]
    }
   ],
   "source": [
    "!pip install japanize-matplotlib"
   ]
  },
  {
   "cell_type": "code",
   "execution_count": 25,
   "id": "06847d37",
   "metadata": {},
   "outputs": [
    {
     "name": "stdout",
     "output_type": "stream",
     "text": [
      "['２ＬＤＫ' '１Ｋ' '４ＬＤＫ' '３ＤＫ' '３ＬＤＫ' '１ＬＤＫ' '１ＤＫ' '４ＤＫ' '２ＤＫ' '２Ｋ' 'オープンフロア'\n",
      " '１Ｒ' '５ＬＤＫ' '１ＬＤＫ＋Ｓ' '３ＬＤＫ＋Ｓ' '１Ｒ＋Ｓ' '２ＬＤＫ＋Ｓ' '４Ｋ' '３Ｋ' '３ＤＫ＋Ｓ' '４ＬＤＫ＋Ｓ'\n",
      " '５ＤＫ' '４Ｌ＋Ｋ' 'スタジオ' '２ＤＫ＋Ｓ' '６ＤＫ' '６ＬＤＫ＋Ｓ' '７ＬＤＫ' '１ＤＫ＋Ｓ' '６ＬＤＫ' '１Ｋ＋Ｓ'\n",
      " '３Ｄ' '１ＬＫ' '５ＬＤＫ＋Ｓ' '７ＤＫ' '３ＬＫ' '５Ｋ' '２Ｋ＋Ｓ' '１Ｌ' '４ＤＫ＋Ｓ' '３ＬＤ' '８ＬＤＫ'\n",
      " '２ＬＫ' '３ＬＤＫ＋Ｋ' '３ＬＤ＋Ｓ' '４Ｌ' 'メゾネット' '４ＬＤＫ＋Ｋ' '８ＬＤＫ＋Ｓ' '７ＬＤＫ＋Ｓ' '２ＬＤ＋Ｓ'\n",
      " '２Ｌ' '２ＬＤＫ＋Ｋ' '１ＬＤ＋Ｓ' '２ＬＫ＋Ｓ' '５ＬＤＫ＋Ｋ' '２Ｌ＋Ｓ' '３Ｋ＋Ｓ' '１ＤＫ＋Ｋ' '２Ｄ' '１ＬＫ＋Ｓ'\n",
      " '１Ｌ＋Ｓ' '２ＬＤ' '４Ｄ'] 64\n",
      "間取り\n",
      "オープンフロア    7.159691\n",
      "スタジオ       7.396857\n",
      "メゾネット      7.432852\n",
      "１ＤＫ        7.120446\n",
      "１ＤＫ＋Ｋ      7.204120\n",
      "１ＤＫ＋Ｓ      7.140664\n",
      "１Ｋ         7.033230\n",
      "１Ｋ＋Ｓ       7.224671\n",
      "１Ｌ         6.835734\n",
      "１Ｌ＋Ｓ       7.568043\n",
      "１ＬＤ＋Ｓ      7.365637\n",
      "１ＬＤＫ       7.338574\n",
      "１ＬＤＫ＋Ｓ     7.418270\n",
      "１ＬＫ        6.973951\n",
      "１ＬＫ＋Ｓ      6.934498\n",
      "１Ｒ         6.824333\n",
      "１Ｒ＋Ｓ       7.152043\n",
      "２Ｄ         7.079181\n",
      "２ＤＫ        7.064212\n",
      "２ＤＫ＋Ｓ      7.112916\n",
      "２Ｋ         6.944770\n",
      "２Ｋ＋Ｓ       7.061666\n",
      "２Ｌ         7.220455\n",
      "２Ｌ＋Ｓ       7.228183\n",
      "２ＬＤ        7.857332\n",
      "２ＬＤ＋Ｓ      7.262583\n",
      "２ＬＤＫ       7.312240\n",
      "２ＬＤＫ＋Ｋ     7.575991\n",
      "２ＬＤＫ＋Ｓ     7.344927\n",
      "２ＬＫ        7.132841\n",
      "２ＬＫ＋Ｓ      7.326086\n",
      "３Ｄ         6.836049\n",
      "３ＤＫ        6.922613\n",
      "３ＤＫ＋Ｓ      7.002083\n",
      "３Ｋ         6.767697\n",
      "３Ｋ＋Ｓ       6.886004\n",
      "３ＬＤ        7.057150\n",
      "３ＬＤ＋Ｓ      7.315090\n",
      "３ＬＤＫ       7.290248\n",
      "３ＬＤＫ＋Ｋ     7.550554\n",
      "３ＬＤＫ＋Ｓ     7.343622\n",
      "３ＬＫ        6.968071\n",
      "４Ｄ         7.041393\n",
      "４ＤＫ        6.847182\n",
      "４ＤＫ＋Ｓ      6.954133\n",
      "４Ｋ         6.790982\n",
      "４Ｌ         7.342423\n",
      "４Ｌ＋Ｋ       7.081812\n",
      "４ＬＤＫ       7.320979\n",
      "４ＬＤＫ＋Ｋ     7.299301\n",
      "４ＬＤＫ＋Ｓ     7.324788\n",
      "５ＤＫ        6.953265\n",
      "５Ｋ         7.075783\n",
      "５ＬＤＫ       7.288094\n",
      "５ＬＤＫ＋Ｋ     7.698970\n",
      "５ＬＤＫ＋Ｓ     7.413049\n",
      "６ＤＫ        7.210169\n",
      "６ＬＤＫ       7.470456\n",
      "６ＬＤＫ＋Ｓ     7.346392\n",
      "７ＤＫ        7.204120\n",
      "７ＬＤＫ       7.494867\n",
      "７ＬＤＫ＋Ｓ     7.229696\n",
      "８ＬＤＫ       7.632998\n",
      "８ＬＤＫ＋Ｓ     7.230449\n",
      "Name: 取引価格（総額）_log, dtype: float64 64\n"
     ]
    },
    {
     "name": "stderr",
     "output_type": "stream",
     "text": [
      "/Users/Shota-0128/opt/anaconda3/lib/python3.9/site-packages/IPython/core/pylabtools.py:151: UserWarning: Glyph 65298 (\\N{FULLWIDTH DIGIT TWO}) missing from current font.\n",
      "  fig.canvas.print_figure(bytes_io, **kw)\n",
      "/Users/Shota-0128/opt/anaconda3/lib/python3.9/site-packages/IPython/core/pylabtools.py:151: UserWarning: Glyph 65324 (\\N{FULLWIDTH LATIN CAPITAL LETTER L}) missing from current font.\n",
      "  fig.canvas.print_figure(bytes_io, **kw)\n",
      "/Users/Shota-0128/opt/anaconda3/lib/python3.9/site-packages/IPython/core/pylabtools.py:151: UserWarning: Glyph 65316 (\\N{FULLWIDTH LATIN CAPITAL LETTER D}) missing from current font.\n",
      "  fig.canvas.print_figure(bytes_io, **kw)\n",
      "/Users/Shota-0128/opt/anaconda3/lib/python3.9/site-packages/IPython/core/pylabtools.py:151: UserWarning: Glyph 65323 (\\N{FULLWIDTH LATIN CAPITAL LETTER K}) missing from current font.\n",
      "  fig.canvas.print_figure(bytes_io, **kw)\n",
      "/Users/Shota-0128/opt/anaconda3/lib/python3.9/site-packages/IPython/core/pylabtools.py:151: UserWarning: Glyph 65297 (\\N{FULLWIDTH DIGIT ONE}) missing from current font.\n",
      "  fig.canvas.print_figure(bytes_io, **kw)\n",
      "/Users/Shota-0128/opt/anaconda3/lib/python3.9/site-packages/IPython/core/pylabtools.py:151: UserWarning: Glyph 65300 (\\N{FULLWIDTH DIGIT FOUR}) missing from current font.\n",
      "  fig.canvas.print_figure(bytes_io, **kw)\n",
      "/Users/Shota-0128/opt/anaconda3/lib/python3.9/site-packages/IPython/core/pylabtools.py:151: UserWarning: Glyph 65299 (\\N{FULLWIDTH DIGIT THREE}) missing from current font.\n",
      "  fig.canvas.print_figure(bytes_io, **kw)\n",
      "/Users/Shota-0128/opt/anaconda3/lib/python3.9/site-packages/IPython/core/pylabtools.py:151: UserWarning: Glyph 12458 (\\N{KATAKANA LETTER O}) missing from current font.\n",
      "  fig.canvas.print_figure(bytes_io, **kw)\n",
      "/Users/Shota-0128/opt/anaconda3/lib/python3.9/site-packages/IPython/core/pylabtools.py:151: UserWarning: Glyph 12540 (\\N{KATAKANA-HIRAGANA PROLONGED SOUND MARK}) missing from current font.\n",
      "  fig.canvas.print_figure(bytes_io, **kw)\n",
      "/Users/Shota-0128/opt/anaconda3/lib/python3.9/site-packages/IPython/core/pylabtools.py:151: UserWarning: Glyph 12503 (\\N{KATAKANA LETTER PU}) missing from current font.\n",
      "  fig.canvas.print_figure(bytes_io, **kw)\n",
      "/Users/Shota-0128/opt/anaconda3/lib/python3.9/site-packages/IPython/core/pylabtools.py:151: UserWarning: Glyph 12531 (\\N{KATAKANA LETTER N}) missing from current font.\n",
      "  fig.canvas.print_figure(bytes_io, **kw)\n",
      "/Users/Shota-0128/opt/anaconda3/lib/python3.9/site-packages/IPython/core/pylabtools.py:151: UserWarning: Glyph 12501 (\\N{KATAKANA LETTER HU}) missing from current font.\n",
      "  fig.canvas.print_figure(bytes_io, **kw)\n",
      "/Users/Shota-0128/opt/anaconda3/lib/python3.9/site-packages/IPython/core/pylabtools.py:151: UserWarning: Glyph 12525 (\\N{KATAKANA LETTER RO}) missing from current font.\n",
      "  fig.canvas.print_figure(bytes_io, **kw)\n",
      "/Users/Shota-0128/opt/anaconda3/lib/python3.9/site-packages/IPython/core/pylabtools.py:151: UserWarning: Glyph 12450 (\\N{KATAKANA LETTER A}) missing from current font.\n",
      "  fig.canvas.print_figure(bytes_io, **kw)\n",
      "/Users/Shota-0128/opt/anaconda3/lib/python3.9/site-packages/IPython/core/pylabtools.py:151: UserWarning: Glyph 65330 (\\N{FULLWIDTH LATIN CAPITAL LETTER R}) missing from current font.\n",
      "  fig.canvas.print_figure(bytes_io, **kw)\n",
      "/Users/Shota-0128/opt/anaconda3/lib/python3.9/site-packages/IPython/core/pylabtools.py:151: UserWarning: Glyph 65301 (\\N{FULLWIDTH DIGIT FIVE}) missing from current font.\n",
      "  fig.canvas.print_figure(bytes_io, **kw)\n",
      "/Users/Shota-0128/opt/anaconda3/lib/python3.9/site-packages/IPython/core/pylabtools.py:151: UserWarning: Glyph 65291 (\\N{FULLWIDTH PLUS SIGN}) missing from current font.\n",
      "  fig.canvas.print_figure(bytes_io, **kw)\n",
      "/Users/Shota-0128/opt/anaconda3/lib/python3.9/site-packages/IPython/core/pylabtools.py:151: UserWarning: Glyph 65331 (\\N{FULLWIDTH LATIN CAPITAL LETTER S}) missing from current font.\n",
      "  fig.canvas.print_figure(bytes_io, **kw)\n",
      "/Users/Shota-0128/opt/anaconda3/lib/python3.9/site-packages/IPython/core/pylabtools.py:151: UserWarning: Glyph 12473 (\\N{KATAKANA LETTER SU}) missing from current font.\n",
      "  fig.canvas.print_figure(bytes_io, **kw)\n",
      "/Users/Shota-0128/opt/anaconda3/lib/python3.9/site-packages/IPython/core/pylabtools.py:151: UserWarning: Glyph 12479 (\\N{KATAKANA LETTER TA}) missing from current font.\n",
      "  fig.canvas.print_figure(bytes_io, **kw)\n",
      "/Users/Shota-0128/opt/anaconda3/lib/python3.9/site-packages/IPython/core/pylabtools.py:151: UserWarning: Glyph 12472 (\\N{KATAKANA LETTER ZI}) missing from current font.\n",
      "  fig.canvas.print_figure(bytes_io, **kw)\n",
      "/Users/Shota-0128/opt/anaconda3/lib/python3.9/site-packages/IPython/core/pylabtools.py:151: UserWarning: Glyph 65302 (\\N{FULLWIDTH DIGIT SIX}) missing from current font.\n",
      "  fig.canvas.print_figure(bytes_io, **kw)\n",
      "/Users/Shota-0128/opt/anaconda3/lib/python3.9/site-packages/IPython/core/pylabtools.py:151: UserWarning: Glyph 65303 (\\N{FULLWIDTH DIGIT SEVEN}) missing from current font.\n",
      "  fig.canvas.print_figure(bytes_io, **kw)\n",
      "/Users/Shota-0128/opt/anaconda3/lib/python3.9/site-packages/IPython/core/pylabtools.py:151: UserWarning: Glyph 65304 (\\N{FULLWIDTH DIGIT EIGHT}) missing from current font.\n",
      "  fig.canvas.print_figure(bytes_io, **kw)\n",
      "/Users/Shota-0128/opt/anaconda3/lib/python3.9/site-packages/IPython/core/pylabtools.py:151: UserWarning: Glyph 12513 (\\N{KATAKANA LETTER ME}) missing from current font.\n",
      "  fig.canvas.print_figure(bytes_io, **kw)\n",
      "/Users/Shota-0128/opt/anaconda3/lib/python3.9/site-packages/IPython/core/pylabtools.py:151: UserWarning: Glyph 12478 (\\N{KATAKANA LETTER ZO}) missing from current font.\n",
      "  fig.canvas.print_figure(bytes_io, **kw)\n",
      "/Users/Shota-0128/opt/anaconda3/lib/python3.9/site-packages/IPython/core/pylabtools.py:151: UserWarning: Glyph 12493 (\\N{KATAKANA LETTER NE}) missing from current font.\n",
      "  fig.canvas.print_figure(bytes_io, **kw)\n",
      "/Users/Shota-0128/opt/anaconda3/lib/python3.9/site-packages/IPython/core/pylabtools.py:151: UserWarning: Glyph 12483 (\\N{KATAKANA LETTER SMALL TU}) missing from current font.\n",
      "  fig.canvas.print_figure(bytes_io, **kw)\n",
      "/Users/Shota-0128/opt/anaconda3/lib/python3.9/site-packages/IPython/core/pylabtools.py:151: UserWarning: Glyph 12488 (\\N{KATAKANA LETTER TO}) missing from current font.\n",
      "  fig.canvas.print_figure(bytes_io, **kw)\n"
     ]
    },
    {
     "data": {
      "image/png": "[encoded data removed]",
      "text/plain": [
       "<Figure size 1440x2880 with 1 Axes>"
      ]
     },
     "metadata": {
      "needs_background": "light"
     },
     "output_type": "display_data"
    }
   ],
   "source": [
    "x=train['間取り'].unique()\n",
    "y=train['取引価格（総額）_log'].groupby(train['間取り']).mean()\n",
    "print(x, len(x))\n",
    "print(y, len(y))\n",
    "\n",
    "fig=plt.figure(figsize=(20,40))\n",
    "\n",
    "plt.barh(x, y)\n",
    "plt.show()\n"
   ]
  },
  {
   "cell_type": "markdown",
   "id": "1dbc20e3",
   "metadata": {},
   "source": [
    "### 面積 \n",
    "使う"
   ]
  },
  {
   "cell_type": "code",
   "execution_count": 26,
   "id": "d638b1e7",
   "metadata": {},
   "outputs": [
    {
     "data": {
      "text/plain": [
       "array(['45', '15', '80', '60', '75', '70', '40', '20', '85', '65', '55',\n",
       "       '25', '95', '30', '90', '120', '35', '105', '500', '50', '100',\n",
       "       '110', '160', '130', '10', '180', '400', '330', '115', '135',\n",
       "       '140', '230', '150', '290', '145', '170', '210', '630', '125',\n",
       "       '155', '200', '190', '220', '2000㎡以上', '260', '480', '360', '195',\n",
       "       '175', '320', '440', '165', '740', 80, 20, 75, 70, 65, 25, 10, 100,\n",
       "       15, 85, 60, 45, 35, 50, 140, 55, 30, 110, 105, 95, 40, 90, 115,\n",
       "       135, 120, 150, 145, 280, 165, 370, 190, 130, 350, 125, 160, 195,\n",
       "       '830', '470', '300', '980', '710', '270', '820', 460, 520, 180,\n",
       "       230, 310, 260, 570, 175, 480, 155, 300, 185, 270, 170, 200, 680,\n",
       "       390, 410, 220, 790, 240, 600, 250, 730, 340, 690, 650, 760, 670,\n",
       "       290, 970, 440, 610, '590', '780', '650', '185', '410', '660',\n",
       "       '250', '620', '240', '760', '670', '1300', '340', '460', 210, 500,\n",
       "       1100, 700, 450, 490, 800, 430, 950, 1000, 510, 320, 550, 360, 710,\n",
       "       940, 470, 590, 780, 850, 900, 660, 580, 960, 380, 990, 400, 540,\n",
       "       770, '520', '560', '310', '730', '450', '390', '370', 1400, 530,\n",
       "       740, 420, 330, 860, '1000', '690', '280', '1500', '380', 720, 890,\n",
       "       560, 630, 620, 1500, 870, 820, 1200], dtype=object)"
      ]
     },
     "execution_count": 26,
     "metadata": {},
     "output_type": "execute_result"
    }
   ],
   "source": [
    "train['面積（㎡）'].unique()"
   ]
  },
  {
   "cell_type": "code",
   "execution_count": 27,
   "id": "b67cd60e",
   "metadata": {},
   "outputs": [
    {
     "data": {
      "text/plain": [
       "array(['45', '15', '80', '60', '75', '70', '40', '20', '85', '65', '55',\n",
       "       '25', '95', '30', '90', '120', '35', '105', '500', '50', '100',\n",
       "       '110', '160', '130', '10', '180', '400', '330', '115', '135',\n",
       "       '140', '230', '150', '290', '145', '170', '210', '630', '125',\n",
       "       '155', '200', '190', '220', '2000', '260', '480', '360', '195',\n",
       "       '175', '320', '440', '165', '740', 80, 20, 75, 70, 65, 25, 10, 100,\n",
       "       15, 85, 60, 45, 35, 50, 140, 55, 30, 110, 105, 95, 40, 90, 115,\n",
       "       135, 120, 150, 145, 280, 165, 370, 190, 130, 350, 125, 160, 195,\n",
       "       '830', '470', '300', '980', '710', '270', '820', 460, 520, 180,\n",
       "       230, 310, 260, 570, 175, 480, 155, 300, 185, 270, 170, 200, 680,\n",
       "       390, 410, 220, 790, 240, 600, 250, 730, 340, 690, 650, 760, 670,\n",
       "       290, 970, 440, 610, '590', '780', '650', '185', '410', '660',\n",
       "       '250', '620', '240', '760', '670', '1300', '340', '460', 210, 500,\n",
       "       1100, 700, 450, 490, 800, 430, 950, 1000, 510, 320, 550, 360, 710,\n",
       "       940, 470, 590, 780, 850, 900, 660, 580, 960, 380, 990, 400, 540,\n",
       "       770, '520', '560', '310', '730', '450', '390', '370', 1400, 530,\n",
       "       740, 420, 330, 860, '1000', '690', '280', '1500', '380', 720, 890,\n",
       "       560, 630, 620, 1500, 870, 820, 1200], dtype=object)"
      ]
     },
     "execution_count": 27,
     "metadata": {},
     "output_type": "execute_result"
    }
   ],
   "source": [
    "#面積の欠損値はなし、'2000㎡以上'は'2000'で補完\n",
    "train['面積（㎡）']=train['面積（㎡）'].replace('2000㎡以上','2000')\n",
    "train['面積（㎡）'].unique()"
   ]
  },
  {
   "cell_type": "code",
   "execution_count": 28,
   "id": "2baf1793",
   "metadata": {},
   "outputs": [
    {
     "data": {
      "text/plain": [
       "array([  45,   15,   80,   60,   75,   70,   40,   20,   85,   65,   55,\n",
       "         25,   95,   30,   90,  120,   35,  105,  500,   50,  100,  110,\n",
       "        160,  130,   10,  180,  400,  330,  115,  135,  140,  230,  150,\n",
       "        290,  145,  170,  210,  630,  125,  155,  200,  190,  220, 2000,\n",
       "        260,  480,  360,  195,  175,  320,  440,  165,  740,  280,  370,\n",
       "        350,  830,  470,  300,  980,  710,  270,  820,  460,  520,  310,\n",
       "        570,  185,  680,  390,  410,  790,  240,  600,  250,  730,  340,\n",
       "        690,  650,  760,  670,  970,  610,  590,  780,  660,  620, 1300,\n",
       "       1100,  700,  450,  490,  800,  430,  950, 1000,  510,  550,  940,\n",
       "        850,  900,  580,  960,  380,  990,  540,  770,  560, 1400,  530,\n",
       "        420,  860, 1500,  720,  890,  870, 1200])"
      ]
     },
     "execution_count": 28,
     "metadata": {},
     "output_type": "execute_result"
    }
   ],
   "source": [
    "#面積の欠損値はなし、'2000㎡以上'は'2000'で補完\n",
    "train['面積（㎡）']=train['面積（㎡）'].replace('2000㎡以上','2000')\n",
    "train['面積（㎡）'].unique()\n",
    "#文字列型から整数型に変換\n",
    "train['面積（㎡）']=train['面積（㎡）'].astype(int)\n",
    "train['面積（㎡）'].unique()"
   ]
  },
  {
   "cell_type": "code",
   "execution_count": 29,
   "id": "ec218bb3",
   "metadata": {},
   "outputs": [
    {
     "data": {
      "text/plain": [
       "間取り\n",
       "オープンフロア     82.308579\n",
       "スタジオ        30.000000\n",
       "メゾネット       71.363636\n",
       "１ＤＫ         45.044601\n",
       "１ＤＫ＋Ｋ      105.000000\n",
       "１ＤＫ＋Ｓ       43.411765\n",
       "１Ｋ          20.367096\n",
       "１Ｋ＋Ｓ        29.545455\n",
       "１Ｌ          20.555556\n",
       "１Ｌ＋Ｓ        57.500000\n",
       "１ＬＤ＋Ｓ       60.000000\n",
       "１ＬＤＫ        45.146181\n",
       "１ＬＤＫ＋Ｓ      56.449275\n",
       "１ＬＫ         38.846154\n",
       "１ＬＫ＋Ｓ       30.000000\n",
       "１Ｒ          19.389919\n",
       "１Ｒ＋Ｓ        33.181818\n",
       "２Ｄ          35.000000\n",
       "２ＤＫ         46.451684\n",
       "２ＤＫ＋Ｓ       51.885593\n",
       "２Ｋ          31.212012\n",
       "２Ｋ＋Ｓ        41.363636\n",
       "２Ｌ          62.500000\n",
       "２Ｌ＋Ｓ        60.000000\n",
       "２ＬＤ         85.000000\n",
       "２ＬＤ＋Ｓ       60.000000\n",
       "２ＬＤＫ        60.428721\n",
       "２ＬＤＫ＋Ｋ      80.000000\n",
       "２ＬＤＫ＋Ｓ      65.142349\n",
       "２ＬＫ         55.476190\n",
       "２ＬＫ＋Ｓ       62.500000\n",
       "３Ｄ          47.500000\n",
       "３ＤＫ         52.428861\n",
       "３ＤＫ＋Ｓ       60.519481\n",
       "３Ｋ          47.976879\n",
       "３Ｋ＋Ｓ        53.333333\n",
       "３ＬＤ         59.000000\n",
       "３ＬＤ＋Ｓ       83.000000\n",
       "３ＬＤＫ        70.022388\n",
       "３ＬＤＫ＋Ｋ     110.714286\n",
       "３ＬＤＫ＋Ｓ      82.455268\n",
       "３ＬＫ         59.051724\n",
       "４Ｄ          60.000000\n",
       "４ＤＫ         66.277293\n",
       "４ＤＫ＋Ｓ       73.181818\n",
       "４Ｋ          57.067901\n",
       "４Ｌ          95.000000\n",
       "４Ｌ＋Ｋ        88.750000\n",
       "４ＬＤＫ        86.602936\n",
       "４ＬＤＫ＋Ｋ     126.666667\n",
       "４ＬＤＫ＋Ｓ      98.633721\n",
       "５ＤＫ         83.932039\n",
       "５Ｋ          76.250000\n",
       "５ＬＤＫ       106.185792\n",
       "５ＬＤＫ＋Ｋ     110.000000\n",
       "５ＬＤＫ＋Ｓ     131.805556\n",
       "６ＤＫ        105.000000\n",
       "６ＬＤＫ       158.918919\n",
       "６ＬＤＫ＋Ｓ     155.000000\n",
       "７ＤＫ        110.000000\n",
       "７ＬＤＫ       152.000000\n",
       "７ＬＤＫ＋Ｓ     142.500000\n",
       "８ＬＤＫ       215.000000\n",
       "８ＬＤＫ＋Ｓ     190.000000\n",
       "Name: 面積（㎡）, dtype: float64"
      ]
     },
     "execution_count": 29,
     "metadata": {},
     "output_type": "execute_result"
    }
   ],
   "source": [
    "#間取りと面積の関係を確認する\n",
    "train['面積（㎡）'].groupby(train['間取り']).mean()"
   ]
  },
  {
   "cell_type": "code",
   "execution_count": 30,
   "id": "64b75717",
   "metadata": {},
   "outputs": [
    {
     "name": "stdout",
     "output_type": "stream",
     "text": [
      "['２ＬＤＫ' '１Ｋ' '４ＬＤＫ' '３ＤＫ' '３ＬＤＫ' '１ＬＤＫ' '１ＤＫ' '４ＤＫ' '２ＤＫ' '２Ｋ' 'オープンフロア'\n",
      " '１Ｒ' '５ＬＤＫ' '１ＬＤＫ＋Ｓ' '３ＬＤＫ＋Ｓ' '１Ｒ＋Ｓ' '２ＬＤＫ＋Ｓ' '４Ｋ' '３Ｋ' '３ＤＫ＋Ｓ' '４ＬＤＫ＋Ｓ'\n",
      " '５ＤＫ' '４Ｌ＋Ｋ' 'スタジオ' '２ＤＫ＋Ｓ' '６ＤＫ' '６ＬＤＫ＋Ｓ' '７ＬＤＫ' '１ＤＫ＋Ｓ' '６ＬＤＫ' '１Ｋ＋Ｓ'\n",
      " '３Ｄ' '１ＬＫ' '５ＬＤＫ＋Ｓ' '７ＤＫ' '３ＬＫ' '５Ｋ' '２Ｋ＋Ｓ' '１Ｌ' '４ＤＫ＋Ｓ' '３ＬＤ' '８ＬＤＫ'\n",
      " '２ＬＫ' '３ＬＤＫ＋Ｋ' '３ＬＤ＋Ｓ' '４Ｌ' 'メゾネット' '４ＬＤＫ＋Ｋ' '８ＬＤＫ＋Ｓ' '７ＬＤＫ＋Ｓ' '２ＬＤ＋Ｓ'\n",
      " '２Ｌ' '２ＬＤＫ＋Ｋ' '１ＬＤ＋Ｓ' '２ＬＫ＋Ｓ' '５ＬＤＫ＋Ｋ' '２Ｌ＋Ｓ' '３Ｋ＋Ｓ' '１ＤＫ＋Ｋ' '２Ｄ' '１ＬＫ＋Ｓ'\n",
      " '１Ｌ＋Ｓ' '２ＬＤ' '４Ｄ'] 64\n",
      "間取り\n",
      "オープンフロア     82.308579\n",
      "スタジオ        30.000000\n",
      "メゾネット       71.363636\n",
      "１ＤＫ         45.044601\n",
      "１ＤＫ＋Ｋ      105.000000\n",
      "１ＤＫ＋Ｓ       43.411765\n",
      "１Ｋ          20.367096\n",
      "１Ｋ＋Ｓ        29.545455\n",
      "１Ｌ          20.555556\n",
      "１Ｌ＋Ｓ        57.500000\n",
      "１ＬＤ＋Ｓ       60.000000\n",
      "１ＬＤＫ        45.146181\n",
      "１ＬＤＫ＋Ｓ      56.449275\n",
      "１ＬＫ         38.846154\n",
      "１ＬＫ＋Ｓ       30.000000\n",
      "１Ｒ          19.389919\n",
      "１Ｒ＋Ｓ        33.181818\n",
      "２Ｄ          35.000000\n",
      "２ＤＫ         46.451684\n",
      "２ＤＫ＋Ｓ       51.885593\n",
      "２Ｋ          31.212012\n",
      "２Ｋ＋Ｓ        41.363636\n",
      "２Ｌ          62.500000\n",
      "２Ｌ＋Ｓ        60.000000\n",
      "２ＬＤ         85.000000\n",
      "２ＬＤ＋Ｓ       60.000000\n",
      "２ＬＤＫ        60.428721\n",
      "２ＬＤＫ＋Ｋ      80.000000\n",
      "２ＬＤＫ＋Ｓ      65.142349\n",
      "２ＬＫ         55.476190\n",
      "２ＬＫ＋Ｓ       62.500000\n",
      "３Ｄ          47.500000\n",
      "３ＤＫ         52.428861\n",
      "３ＤＫ＋Ｓ       60.519481\n",
      "３Ｋ          47.976879\n",
      "３Ｋ＋Ｓ        53.333333\n",
      "３ＬＤ         59.000000\n",
      "３ＬＤ＋Ｓ       83.000000\n",
      "３ＬＤＫ        70.022388\n",
      "３ＬＤＫ＋Ｋ     110.714286\n",
      "３ＬＤＫ＋Ｓ      82.455268\n",
      "３ＬＫ         59.051724\n",
      "４Ｄ          60.000000\n",
      "４ＤＫ         66.277293\n",
      "４ＤＫ＋Ｓ       73.181818\n",
      "４Ｋ          57.067901\n",
      "４Ｌ          95.000000\n",
      "４Ｌ＋Ｋ        88.750000\n",
      "４ＬＤＫ        86.602936\n",
      "４ＬＤＫ＋Ｋ     126.666667\n",
      "４ＬＤＫ＋Ｓ      98.633721\n",
      "５ＤＫ         83.932039\n",
      "５Ｋ          76.250000\n",
      "５ＬＤＫ       106.185792\n",
      "５ＬＤＫ＋Ｋ     110.000000\n",
      "５ＬＤＫ＋Ｓ     131.805556\n",
      "６ＤＫ        105.000000\n",
      "６ＬＤＫ       158.918919\n",
      "６ＬＤＫ＋Ｓ     155.000000\n",
      "７ＤＫ        110.000000\n",
      "７ＬＤＫ       152.000000\n",
      "７ＬＤＫ＋Ｓ     142.500000\n",
      "８ＬＤＫ       215.000000\n",
      "８ＬＤＫ＋Ｓ     190.000000\n",
      "Name: 面積（㎡）, dtype: float64 64\n"
     ]
    },
    {
     "name": "stderr",
     "output_type": "stream",
     "text": [
      "/Users/Shota-0128/opt/anaconda3/lib/python3.9/site-packages/IPython/core/pylabtools.py:151: UserWarning: Glyph 65298 (\\N{FULLWIDTH DIGIT TWO}) missing from current font.\n",
      "  fig.canvas.print_figure(bytes_io, **kw)\n",
      "/Users/Shota-0128/opt/anaconda3/lib/python3.9/site-packages/IPython/core/pylabtools.py:151: UserWarning: Glyph 65324 (\\N{FULLWIDTH LATIN CAPITAL LETTER L}) missing from current font.\n",
      "  fig.canvas.print_figure(bytes_io, **kw)\n",
      "/Users/Shota-0128/opt/anaconda3/lib/python3.9/site-packages/IPython/core/pylabtools.py:151: UserWarning: Glyph 65316 (\\N{FULLWIDTH LATIN CAPITAL LETTER D}) missing from current font.\n",
      "  fig.canvas.print_figure(bytes_io, **kw)\n",
      "/Users/Shota-0128/opt/anaconda3/lib/python3.9/site-packages/IPython/core/pylabtools.py:151: UserWarning: Glyph 65323 (\\N{FULLWIDTH LATIN CAPITAL LETTER K}) missing from current font.\n",
      "  fig.canvas.print_figure(bytes_io, **kw)\n",
      "/Users/Shota-0128/opt/anaconda3/lib/python3.9/site-packages/IPython/core/pylabtools.py:151: UserWarning: Glyph 65297 (\\N{FULLWIDTH DIGIT ONE}) missing from current font.\n",
      "  fig.canvas.print_figure(bytes_io, **kw)\n",
      "/Users/Shota-0128/opt/anaconda3/lib/python3.9/site-packages/IPython/core/pylabtools.py:151: UserWarning: Glyph 65300 (\\N{FULLWIDTH DIGIT FOUR}) missing from current font.\n",
      "  fig.canvas.print_figure(bytes_io, **kw)\n",
      "/Users/Shota-0128/opt/anaconda3/lib/python3.9/site-packages/IPython/core/pylabtools.py:151: UserWarning: Glyph 65299 (\\N{FULLWIDTH DIGIT THREE}) missing from current font.\n",
      "  fig.canvas.print_figure(bytes_io, **kw)\n",
      "/Users/Shota-0128/opt/anaconda3/lib/python3.9/site-packages/IPython/core/pylabtools.py:151: UserWarning: Glyph 12458 (\\N{KATAKANA LETTER O}) missing from current font.\n",
      "  fig.canvas.print_figure(bytes_io, **kw)\n",
      "/Users/Shota-0128/opt/anaconda3/lib/python3.9/site-packages/IPython/core/pylabtools.py:151: UserWarning: Glyph 12540 (\\N{KATAKANA-HIRAGANA PROLONGED SOUND MARK}) missing from current font.\n",
      "  fig.canvas.print_figure(bytes_io, **kw)\n",
      "/Users/Shota-0128/opt/anaconda3/lib/python3.9/site-packages/IPython/core/pylabtools.py:151: UserWarning: Glyph 12503 (\\N{KATAKANA LETTER PU}) missing from current font.\n",
      "  fig.canvas.print_figure(bytes_io, **kw)\n",
      "/Users/Shota-0128/opt/anaconda3/lib/python3.9/site-packages/IPython/core/pylabtools.py:151: UserWarning: Glyph 12531 (\\N{KATAKANA LETTER N}) missing from current font.\n",
      "  fig.canvas.print_figure(bytes_io, **kw)\n",
      "/Users/Shota-0128/opt/anaconda3/lib/python3.9/site-packages/IPython/core/pylabtools.py:151: UserWarning: Glyph 12501 (\\N{KATAKANA LETTER HU}) missing from current font.\n",
      "  fig.canvas.print_figure(bytes_io, **kw)\n",
      "/Users/Shota-0128/opt/anaconda3/lib/python3.9/site-packages/IPython/core/pylabtools.py:151: UserWarning: Glyph 12525 (\\N{KATAKANA LETTER RO}) missing from current font.\n",
      "  fig.canvas.print_figure(bytes_io, **kw)\n",
      "/Users/Shota-0128/opt/anaconda3/lib/python3.9/site-packages/IPython/core/pylabtools.py:151: UserWarning: Glyph 12450 (\\N{KATAKANA LETTER A}) missing from current font.\n",
      "  fig.canvas.print_figure(bytes_io, **kw)\n",
      "/Users/Shota-0128/opt/anaconda3/lib/python3.9/site-packages/IPython/core/pylabtools.py:151: UserWarning: Glyph 65330 (\\N{FULLWIDTH LATIN CAPITAL LETTER R}) missing from current font.\n",
      "  fig.canvas.print_figure(bytes_io, **kw)\n",
      "/Users/Shota-0128/opt/anaconda3/lib/python3.9/site-packages/IPython/core/pylabtools.py:151: UserWarning: Glyph 65301 (\\N{FULLWIDTH DIGIT FIVE}) missing from current font.\n",
      "  fig.canvas.print_figure(bytes_io, **kw)\n",
      "/Users/Shota-0128/opt/anaconda3/lib/python3.9/site-packages/IPython/core/pylabtools.py:151: UserWarning: Glyph 65291 (\\N{FULLWIDTH PLUS SIGN}) missing from current font.\n",
      "  fig.canvas.print_figure(bytes_io, **kw)\n",
      "/Users/Shota-0128/opt/anaconda3/lib/python3.9/site-packages/IPython/core/pylabtools.py:151: UserWarning: Glyph 65331 (\\N{FULLWIDTH LATIN CAPITAL LETTER S}) missing from current font.\n",
      "  fig.canvas.print_figure(bytes_io, **kw)\n",
      "/Users/Shota-0128/opt/anaconda3/lib/python3.9/site-packages/IPython/core/pylabtools.py:151: UserWarning: Glyph 12473 (\\N{KATAKANA LETTER SU}) missing from current font.\n",
      "  fig.canvas.print_figure(bytes_io, **kw)\n",
      "/Users/Shota-0128/opt/anaconda3/lib/python3.9/site-packages/IPython/core/pylabtools.py:151: UserWarning: Glyph 12479 (\\N{KATAKANA LETTER TA}) missing from current font.\n",
      "  fig.canvas.print_figure(bytes_io, **kw)\n",
      "/Users/Shota-0128/opt/anaconda3/lib/python3.9/site-packages/IPython/core/pylabtools.py:151: UserWarning: Glyph 12472 (\\N{KATAKANA LETTER ZI}) missing from current font.\n",
      "  fig.canvas.print_figure(bytes_io, **kw)\n",
      "/Users/Shota-0128/opt/anaconda3/lib/python3.9/site-packages/IPython/core/pylabtools.py:151: UserWarning: Glyph 65302 (\\N{FULLWIDTH DIGIT SIX}) missing from current font.\n",
      "  fig.canvas.print_figure(bytes_io, **kw)\n",
      "/Users/Shota-0128/opt/anaconda3/lib/python3.9/site-packages/IPython/core/pylabtools.py:151: UserWarning: Glyph 65303 (\\N{FULLWIDTH DIGIT SEVEN}) missing from current font.\n",
      "  fig.canvas.print_figure(bytes_io, **kw)\n",
      "/Users/Shota-0128/opt/anaconda3/lib/python3.9/site-packages/IPython/core/pylabtools.py:151: UserWarning: Glyph 65304 (\\N{FULLWIDTH DIGIT EIGHT}) missing from current font.\n",
      "  fig.canvas.print_figure(bytes_io, **kw)\n",
      "/Users/Shota-0128/opt/anaconda3/lib/python3.9/site-packages/IPython/core/pylabtools.py:151: UserWarning: Glyph 12513 (\\N{KATAKANA LETTER ME}) missing from current font.\n",
      "  fig.canvas.print_figure(bytes_io, **kw)\n",
      "/Users/Shota-0128/opt/anaconda3/lib/python3.9/site-packages/IPython/core/pylabtools.py:151: UserWarning: Glyph 12478 (\\N{KATAKANA LETTER ZO}) missing from current font.\n",
      "  fig.canvas.print_figure(bytes_io, **kw)\n",
      "/Users/Shota-0128/opt/anaconda3/lib/python3.9/site-packages/IPython/core/pylabtools.py:151: UserWarning: Glyph 12493 (\\N{KATAKANA LETTER NE}) missing from current font.\n",
      "  fig.canvas.print_figure(bytes_io, **kw)\n",
      "/Users/Shota-0128/opt/anaconda3/lib/python3.9/site-packages/IPython/core/pylabtools.py:151: UserWarning: Glyph 12483 (\\N{KATAKANA LETTER SMALL TU}) missing from current font.\n",
      "  fig.canvas.print_figure(bytes_io, **kw)\n",
      "/Users/Shota-0128/opt/anaconda3/lib/python3.9/site-packages/IPython/core/pylabtools.py:151: UserWarning: Glyph 12488 (\\N{KATAKANA LETTER TO}) missing from current font.\n",
      "  fig.canvas.print_figure(bytes_io, **kw)\n"
     ]
    },
    {
     "data": {
      "image/png": "[encoded data removed]",
      "text/plain": [
       "<Figure size 1440x2880 with 1 Axes>"
      ]
     },
     "metadata": {
      "needs_background": "light"
     },
     "output_type": "display_data"
    }
   ],
   "source": [
    "x=train['間取り'].unique()\n",
    "y=train['面積（㎡）'].groupby(train['間取り']).mean()\n",
    "print(x, len(x))\n",
    "print(y, len(y))\n",
    "\n",
    "fig=plt.figure(figsize=(20,40))\n",
    "\n",
    "plt.barh(x, y)\n",
    "plt.show()"
   ]
  },
  {
   "cell_type": "code",
   "execution_count": 31,
   "id": "c0dac115",
   "metadata": {},
   "outputs": [
    {
     "data": {
      "image/png": "[encoded data removed]",
      "text/plain": [
       "<Figure size 864x432 with 1 Axes>"
      ]
     },
     "metadata": {
      "needs_background": "light"
     },
     "output_type": "display_data"
    }
   ],
   "source": [
    "#面積と価格の関係を確認する\n",
    "x=train['面積（㎡）'].unique()\n",
    "y=train['取引価格（総額）_log'].groupby(train['面積（㎡）']).mean()\n",
    "\n",
    "fig=plt.figure(figsize=(12,6))\n",
    "plt.scatter(x,y)\n",
    "plt.show()"
   ]
  },
  {
   "cell_type": "code",
   "execution_count": 32,
   "id": "9c35e58c",
   "metadata": {},
   "outputs": [
    {
     "data": {
      "text/plain": [
       "array([[1.        , 0.37030493],\n",
       "       [0.37030493, 1.        ]])"
      ]
     },
     "execution_count": 32,
     "metadata": {},
     "output_type": "execute_result"
    }
   ],
   "source": [
    "#面積と価格の相関を確認\n",
    "np.corrcoef(train['面積（㎡）'], train['取引価格（総額）_log'])\n",
    "\n",
    "#面積が広いほど価格が高い"
   ]
  },
  {
   "cell_type": "markdown",
   "id": "e65f0cd4",
   "metadata": {},
   "source": [
    "### 建築年 \n",
    "使う"
   ]
  },
  {
   "cell_type": "code",
   "execution_count": 33,
   "id": "7f6889f7",
   "metadata": {},
   "outputs": [
    {
     "data": {
      "text/plain": [
       "array(['昭和63年', '昭和64年', '平成18年', '昭和62年', '平成14年', '平成7年', '平成13年',\n",
       "       '平成9年', '平成3年', '平成11年', '平成2年', '平成10年', '平成21年', '昭和59年', '平成8年',\n",
       "       '平成6年', '平成19年', '平成20年', '平成25年', '平成22年', '平成27年', '昭和61年',\n",
       "       '平成15年', '平成17年', '平成4年', '平成16年', '昭和60年', '平成24年', '平成26年',\n",
       "       '昭和52年', '昭和49年', '平成23年', '平成12年', nan, '昭和50年', '昭和54年', '昭和47年',\n",
       "       '平成31年', '昭和57年', '平成5年', '昭和58年', '昭和55年', '昭和56年', '平成28年',\n",
       "       '昭和46年', '昭和44年', '平成30年', '昭和53年', '昭和51年', '平成29年', '戦前',\n",
       "       '昭和36年', '昭和48年', '令和2年', '昭和43年', '令和3年', '昭和23年', '昭和31年',\n",
       "       '昭和40年', '昭和45年', '昭和41年', '昭和28年', '昭和42年', '昭和22年', '昭和39年',\n",
       "       '昭和37年', '昭和27年', '昭和33年', '昭和32年', '昭和25年', '昭和24年', '昭和26年',\n",
       "       '昭和34年', '昭和38年', '昭和21年', '昭和35年', '昭和29年', '昭和30年', '令和4年'],\n",
       "      dtype=object)"
      ]
     },
     "execution_count": 33,
     "metadata": {},
     "output_type": "execute_result"
    }
   ],
   "source": [
    "train['建築年'].unique()"
   ]
  },
  {
   "cell_type": "code",
   "execution_count": 34,
   "id": "e8d2ea6c",
   "metadata": {},
   "outputs": [
    {
     "data": {
      "text/plain": [
       "array(['昭和63年', '昭和64年', '平成18年', '昭和62年', '平成14年', '平成7年', '平成13年',\n",
       "       '平成9年', '平成3年', '平成11年', '平成2年', '平成10年', '平成21年', '昭和59年', '平成8年',\n",
       "       '平成6年', '平成19年', '平成20年', '平成25年', '平成22年', '平成27年', '昭和61年',\n",
       "       '平成15年', '平成17年', '平成4年', '平成16年', '昭和60年', '平成24年', '平成26年',\n",
       "       '昭和52年', '昭和49年', '平成23年', '平成12年', 'null', '昭和50年', '昭和54年',\n",
       "       '昭和47年', '平成31年', '昭和57年', '平成5年', '昭和58年', '昭和55年', '昭和56年',\n",
       "       '平成28年', '昭和46年', '昭和44年', '平成30年', '昭和53年', '昭和51年', '平成29年',\n",
       "       '戦前', '昭和36年', '昭和48年', '令和2年', '昭和43年', '令和3年', '昭和23年', '昭和31年',\n",
       "       '昭和40年', '昭和45年', '昭和41年', '昭和28年', '昭和42年', '昭和22年', '昭和39年',\n",
       "       '昭和37年', '昭和27年', '昭和33年', '昭和32年', '昭和25年', '昭和24年', '昭和26年',\n",
       "       '昭和34年', '昭和38年', '昭和21年', '昭和35年', '昭和29年', '昭和30年', '令和4年'],\n",
       "      dtype=object)"
      ]
     },
     "execution_count": 34,
     "metadata": {},
     "output_type": "execute_result"
    }
   ],
   "source": [
    "#欠損値を補完, nanのままだとうまくいかないので文字列でnullと入れておく\n",
    "train['建築年']=train['建築年'].fillna('null')\n",
    "\n",
    "#確認\n",
    "train['建築年'].unique()"
   ]
  },
  {
   "cell_type": "code",
   "execution_count": 35,
   "id": "d07e9e00",
   "metadata": {},
   "outputs": [],
   "source": [
    "#和暦から西暦に変換する\n",
    "import random\n",
    "\n",
    "def seireki(df):\n",
    "    l=[]\n",
    "\n",
    "    y=df['建築年']\n",
    "    \n",
    "    for i in range(0,len(y),1):\n",
    "    #for i in range(0,10):\n",
    "        \n",
    "        #年号が令和、令和2年=2018+2=2020年\n",
    "        if y.iloc[i][:2]=='令和':\n",
    "            if y.iloc[i][3]=='年':\n",
    "                year=2018+int(y.iloc[i][2]) \n",
    "            else:\n",
    "                year=2018+int(y.iloc[i][2])*10+int(y.iloc[i][3]) \n",
    "            l.append(year)\n",
    "\n",
    "        \n",
    "        #年号が平成、平成2年=1988+2=1991年\n",
    "        elif y.iloc[i][:2]=='平成':\n",
    "            if y.iloc[i][3]=='年':\n",
    "                year=1988+int(y.iloc[i][2])\n",
    "            else:\n",
    "                year=1988+int(y.iloc[i][2])*10+int(y.iloc[i][3]) \n",
    "            l.append(year)\n",
    "            \n",
    "\n",
    "        #年号が昭和、昭和2年=1925+2=1927年\n",
    "        elif y.iloc[i][:2]=='昭和':\n",
    "            if y.iloc[i][3]=='年':\n",
    "                year=1925+int(y.iloc[i][2])\n",
    "            else:\n",
    "                year=1925+int(y.iloc[i][2])*10+int(y.iloc[i][3]) \n",
    "            l.append(year)\n",
    "\n",
    "        #年号が戦前、1868年から1945年の値をランダムに格納\n",
    "        #1945年に終戦\n",
    "        elif y.iloc[i][:2]=='戦前':\n",
    "            year=random.randint(1868, 1945)\n",
    "            l.append(year)\n",
    "\n",
    "        #年号が欠損、1868年から2021年の値をランダムに格納\n",
    "        else:\n",
    "            year=random.randint(1868, 2021)\n",
    "            l.append(year)\n",
    "    \n",
    "    \n",
    "    #戻り値：西暦に変換した値が格納されたリスト\n",
    "    return l"
   ]
  },
  {
   "cell_type": "code",
   "execution_count": 36,
   "id": "34576f0e",
   "metadata": {},
   "outputs": [
    {
     "name": "stdout",
     "output_type": "stream",
     "text": [
      "722574\n"
     ]
    }
   ],
   "source": [
    "#欠損値を補完, nanのままだとうまくいかないので文字列でnullと入れておく\n",
    "train['建築年']=train['建築年'].fillna('null')\n",
    "\n",
    "#trainデータをseireki関数の引数として渡して、結果を変数resultに格納\n",
    "result=seireki(train)\n",
    "print(len(result))\n",
    "\n",
    "#resultをtrain['建築年']に格納\n",
    "train['建築年']=result"
   ]
  },
  {
   "cell_type": "code",
   "execution_count": 37,
   "id": "21c81c67",
   "metadata": {},
   "outputs": [
    {
     "data": {
      "text/plain": [
       "array([1988, 1989, 2006, 1987, 2002, 1995, 2001, 1997, 1991, 1999, 1990,\n",
       "       1998, 2009, 1984, 1996, 1994, 2007, 2008, 2013, 2010, 2015, 1986,\n",
       "       2003, 2005, 1992, 2004, 1985, 2012, 2014, 1977, 1974, 2011, 2000,\n",
       "       1952, 1975, 1979, 1972, 2019, 1982, 1993, 1983, 1980, 1981, 1885,\n",
       "       1965, 2018, 1961, 2016, 1971, 1969, 1872, 1978, 1976, 1897, 1922,\n",
       "       2017, 2020, 1925, 1930, 1934, 1869, 1937, 1941, 1903, 1967, 1928,\n",
       "       1973, 1901, 1926, 1968, 1929, 1900, 1884, 1876, 1875, 1933, 1873,\n",
       "       1908, 1887, 1880, 1958, 2021, 1912, 1890, 1951, 1946, 1940, 1919,\n",
       "       1892, 1964, 1956, 1891, 1915, 1963, 1942, 1935, 1911, 1895, 1893,\n",
       "       1913, 1950, 1871, 1927, 1909, 1945, 1868, 1910, 1948, 1906, 1877,\n",
       "       1870, 1962, 1923, 1881, 1889, 1896, 1917, 1904, 1882, 1938, 1944,\n",
       "       1955, 1888, 1914, 1918, 1899, 1954, 1894, 1943, 1920, 1939, 1970,\n",
       "       1931, 1874, 1905, 1960, 1932, 1902, 1966, 1886, 1959, 1878, 1936,\n",
       "       1921, 1947, 1949, 1883, 1953, 1898, 1916, 1924, 1907, 1957, 1879,\n",
       "       2022])"
      ]
     },
     "execution_count": 37,
     "metadata": {},
     "output_type": "execute_result"
    }
   ],
   "source": [
    "train['建築年'].unique()"
   ]
  },
  {
   "cell_type": "code",
   "execution_count": 38,
   "id": "759ae6dc",
   "metadata": {},
   "outputs": [
    {
     "data": {
      "image/png": "[encoded data removed]",
      "text/plain": [
       "<Figure size 864x432 with 1 Axes>"
      ]
     },
     "metadata": {
      "needs_background": "light"
     },
     "output_type": "display_data"
    }
   ],
   "source": [
    "#建築年と価格の関係を確認する\n",
    "x=train['建築年'].unique()\n",
    "y=train['取引価格（総額）_log'].groupby(train['建築年']).mean()\n",
    "\n",
    "fig=plt.figure(figsize=(12,6))\n",
    "plt.scatter(x,y)\n",
    "plt.show()"
   ]
  },
  {
   "cell_type": "code",
   "execution_count": 39,
   "id": "bf84a4d4",
   "metadata": {},
   "outputs": [
    {
     "data": {
      "text/plain": [
       "array([[1.        , 0.39079315],\n",
       "       [0.39079315, 1.        ]])"
      ]
     },
     "execution_count": 39,
     "metadata": {},
     "output_type": "execute_result"
    }
   ],
   "source": [
    "#建築年と価格の相関を確認\n",
    "np.corrcoef(train['建築年'], train['取引価格（総額）_log'])\n",
    "\n",
    "#建築年が新しい（築浅）は価格が高い"
   ]
  },
  {
   "cell_type": "markdown",
   "id": "56a4f631",
   "metadata": {},
   "source": [
    "### 建物の構造 \n",
    "使う"
   ]
  },
  {
   "cell_type": "code",
   "execution_count": 40,
   "id": "36bb64c4",
   "metadata": {},
   "outputs": [
    {
     "data": {
      "text/plain": [
       "array(['ＲＣ', 'ＳＲＣ', nan, '鉄骨造', 'ＲＣ、鉄骨造', '木造', 'ＳＲＣ、ＲＣ', 'ＳＲＣ、鉄骨造',\n",
       "       'ＳＲＣ、ＲＣ、鉄骨造', '軽量鉄骨造', 'ブロック造', 'ＲＣ、ブロック造', 'ＲＣ、木造'], dtype=object)"
      ]
     },
     "execution_count": 40,
     "metadata": {},
     "output_type": "execute_result"
    }
   ],
   "source": [
    "train['建物の構造'].unique()"
   ]
  },
  {
   "cell_type": "code",
   "execution_count": 41,
   "id": "6afed287",
   "metadata": {},
   "outputs": [],
   "source": [
    "#欠損値は文字列nullで対応\n",
    "train['建物の構造']=train['建物の構造'].fillna('null')"
   ]
  },
  {
   "cell_type": "code",
   "execution_count": 42,
   "id": "8ff612bd",
   "metadata": {},
   "outputs": [
    {
     "name": "stderr",
     "output_type": "stream",
     "text": [
      "/Users/Shota-0128/opt/anaconda3/lib/python3.9/site-packages/IPython/core/pylabtools.py:151: UserWarning: Glyph 65330 (\\N{FULLWIDTH LATIN CAPITAL LETTER R}) missing from current font.\n",
      "  fig.canvas.print_figure(bytes_io, **kw)\n",
      "/Users/Shota-0128/opt/anaconda3/lib/python3.9/site-packages/IPython/core/pylabtools.py:151: UserWarning: Glyph 65315 (\\N{FULLWIDTH LATIN CAPITAL LETTER C}) missing from current font.\n",
      "  fig.canvas.print_figure(bytes_io, **kw)\n",
      "/Users/Shota-0128/opt/anaconda3/lib/python3.9/site-packages/IPython/core/pylabtools.py:151: UserWarning: Glyph 65331 (\\N{FULLWIDTH LATIN CAPITAL LETTER S}) missing from current font.\n",
      "  fig.canvas.print_figure(bytes_io, **kw)\n",
      "/Users/Shota-0128/opt/anaconda3/lib/python3.9/site-packages/IPython/core/pylabtools.py:151: UserWarning: Glyph 37444 (\\N{CJK UNIFIED IDEOGRAPH-9244}) missing from current font.\n",
      "  fig.canvas.print_figure(bytes_io, **kw)\n",
      "/Users/Shota-0128/opt/anaconda3/lib/python3.9/site-packages/IPython/core/pylabtools.py:151: UserWarning: Glyph 39592 (\\N{CJK UNIFIED IDEOGRAPH-9AA8}) missing from current font.\n",
      "  fig.canvas.print_figure(bytes_io, **kw)\n",
      "/Users/Shota-0128/opt/anaconda3/lib/python3.9/site-packages/IPython/core/pylabtools.py:151: UserWarning: Glyph 36896 (\\N{CJK UNIFIED IDEOGRAPH-9020}) missing from current font.\n",
      "  fig.canvas.print_figure(bytes_io, **kw)\n",
      "/Users/Shota-0128/opt/anaconda3/lib/python3.9/site-packages/IPython/core/pylabtools.py:151: UserWarning: Glyph 12289 (\\N{IDEOGRAPHIC COMMA}) missing from current font.\n",
      "  fig.canvas.print_figure(bytes_io, **kw)\n",
      "/Users/Shota-0128/opt/anaconda3/lib/python3.9/site-packages/IPython/core/pylabtools.py:151: UserWarning: Glyph 26408 (\\N{CJK UNIFIED IDEOGRAPH-6728}) missing from current font.\n",
      "  fig.canvas.print_figure(bytes_io, **kw)\n",
      "/Users/Shota-0128/opt/anaconda3/lib/python3.9/site-packages/IPython/core/pylabtools.py:151: UserWarning: Glyph 36605 (\\N{CJK UNIFIED IDEOGRAPH-8EFD}) missing from current font.\n",
      "  fig.canvas.print_figure(bytes_io, **kw)\n",
      "/Users/Shota-0128/opt/anaconda3/lib/python3.9/site-packages/IPython/core/pylabtools.py:151: UserWarning: Glyph 37327 (\\N{CJK UNIFIED IDEOGRAPH-91CF}) missing from current font.\n",
      "  fig.canvas.print_figure(bytes_io, **kw)\n",
      "/Users/Shota-0128/opt/anaconda3/lib/python3.9/site-packages/IPython/core/pylabtools.py:151: UserWarning: Glyph 12502 (\\N{KATAKANA LETTER BU}) missing from current font.\n",
      "  fig.canvas.print_figure(bytes_io, **kw)\n",
      "/Users/Shota-0128/opt/anaconda3/lib/python3.9/site-packages/IPython/core/pylabtools.py:151: UserWarning: Glyph 12525 (\\N{KATAKANA LETTER RO}) missing from current font.\n",
      "  fig.canvas.print_figure(bytes_io, **kw)\n",
      "/Users/Shota-0128/opt/anaconda3/lib/python3.9/site-packages/IPython/core/pylabtools.py:151: UserWarning: Glyph 12483 (\\N{KATAKANA LETTER SMALL TU}) missing from current font.\n",
      "  fig.canvas.print_figure(bytes_io, **kw)\n",
      "/Users/Shota-0128/opt/anaconda3/lib/python3.9/site-packages/IPython/core/pylabtools.py:151: UserWarning: Glyph 12463 (\\N{KATAKANA LETTER KU}) missing from current font.\n",
      "  fig.canvas.print_figure(bytes_io, **kw)\n"
     ]
    },
    {
     "data": {
      "image/png": "[encoded data removed]",
      "text/plain": [
       "<Figure size 864x432 with 1 Axes>"
      ]
     },
     "metadata": {
      "needs_background": "light"
     },
     "output_type": "display_data"
    }
   ],
   "source": [
    "#建物の構造と価格の関係を確認\n",
    "x=train['建物の構造'].unique()\n",
    "y=train['取引価格（総額）_log'].groupby(train['建物の構造']).mean()\n",
    "\n",
    "fig=plt.figure(figsize=(12,6))\n",
    "plt.bar(x,y)\n",
    "plt.show()"
   ]
  },
  {
   "cell_type": "code",
   "execution_count": 43,
   "id": "ca99b504",
   "metadata": {},
   "outputs": [
    {
     "data": {
      "text/plain": [
       "(array(['ＲＣ', 'ＳＲＣ', 'null', '鉄骨造', 'ＲＣ、鉄骨造', '木造', 'ＳＲＣ、ＲＣ', 'ＳＲＣ、鉄骨造',\n",
       "        'ＳＲＣ、ＲＣ、鉄骨造', '軽量鉄骨造', 'ブロック造', 'ＲＣ、ブロック造', 'ＲＣ、木造'], dtype=object),\n",
       " 建物の構造\n",
       " null          7.211324\n",
       " ブロック造         6.942914\n",
       " 木造            7.057351\n",
       " 軽量鉄骨造         7.298040\n",
       " 鉄骨造           6.983370\n",
       " ＲＣ            7.253349\n",
       " ＲＣ、ブロック造      7.168730\n",
       " ＲＣ、木造         7.778151\n",
       " ＲＣ、鉄骨造        7.474149\n",
       " ＳＲＣ           7.175312\n",
       " ＳＲＣ、鉄骨造       7.203266\n",
       " ＳＲＣ、ＲＣ        7.189263\n",
       " ＳＲＣ、ＲＣ、鉄骨造    7.397940\n",
       " Name: 取引価格（総額）_log, dtype: float64)"
      ]
     },
     "execution_count": 43,
     "metadata": {},
     "output_type": "execute_result"
    }
   ],
   "source": [
    "x,y"
   ]
  },
  {
   "cell_type": "code",
   "execution_count": 44,
   "id": "d04b7eca",
   "metadata": {},
   "outputs": [
    {
     "data": {
      "text/plain": [
       "array(['ＲＣ', 'ＳＲＣ', '鉄骨造', 'ＲＣ、鉄骨造', '木造', 'ＳＲＣ、ＲＣ', 'ＳＲＣ、鉄骨造',\n",
       "       'ＳＲＣ、ＲＣ、鉄骨造', '軽量鉄骨造', 'ブロック造', 'ＲＣ、ブロック造', 'ＲＣ、木造'], dtype=object)"
      ]
     },
     "execution_count": 44,
     "metadata": {},
     "output_type": "execute_result"
    }
   ],
   "source": [
    "#欠損値は文字列nullで対応\n",
    "train['建物の構造']=train['建物の構造'].fillna('null')\n",
    "\n",
    "#nullは最も多いRCで補完\n",
    "train['建物の構造']=='null'\n",
    "train['建物の構造']=train['建物の構造'].replace('null','ＲＣ')\n",
    "train['建物の構造'].unique()"
   ]
  },
  {
   "cell_type": "code",
   "execution_count": 45,
   "id": "95ed5e1f",
   "metadata": {},
   "outputs": [],
   "source": [
    "#欠損値は文字列nullで対応\n",
    "train['建物の構造']=train['建物の構造'].fillna('null')\n",
    "\n",
    "#nullは最も多いRCで補完\n",
    "train['建物の構造']=='null'\n",
    "train['建物の構造']=train['建物の構造'].replace('null','ＲＣ')\n",
    "train['建物の構造'].unique()\n",
    "\n",
    "#建物の構造ごとにいくつあるか集計\n",
    "train.groupby(['建物の構造']).count() \n",
    "\n",
    "#RC:488914, SRC:208345, 鉄構造:4717の順に多い\n",
    "#全体の平均：train['取引価格（総額）_log'].mean()=7.227968247625857より高いor低いの2グループに分ける\n",
    "#建物の構造_new: 0=低い、1=高い\n",
    "train['建物の構造']=train['建物の構造'].replace('ブロック造',0)\n",
    "train['建物の構造']=train['建物の構造'].replace('木造',0)\n",
    "train['建物の構造']=train['建物の構造'].replace('鉄骨造',0)\n",
    "train['建物の構造']=train['建物の構造'].replace('ＲＣ、ブロック造',0)\n",
    "train['建物の構造']=train['建物の構造'].replace('ＳＲＣ',0)\n",
    "train['建物の構造']=train['建物の構造'].replace('ＳＲＣ、鉄骨造',0)\n",
    "train['建物の構造']=train['建物の構造'].replace('ＳＲＣ、ＲＣ',0)\n",
    "\n",
    "train['建物の構造']=train['建物の構造'].replace('軽量鉄骨造',1)\n",
    "train['建物の構造']=train['建物の構造'].replace('ＲＣ',1)\n",
    "train['建物の構造']=train['建物の構造'].replace('ＲＣ、木造',1)\n",
    "train['建物の構造']=train['建物の構造'].replace('ＲＣ、鉄骨造',1)\n",
    "train['建物の構造']=train['建物の構造'].replace('ＳＲＣ、ＲＣ、鉄骨造',1)\n",
    "   "
   ]
  },
  {
   "cell_type": "code",
   "execution_count": 46,
   "id": "852b810f",
   "metadata": {},
   "outputs": [
    {
     "data": {
      "text/html": [
       "<div>\n",
       "<style scoped>\n",
       "    .dataframe tbody tr th:only-of-type {\n",
       "        vertical-align: middle;\n",
       "    }\n",
       "\n",
       "    .dataframe tbody tr th {\n",
       "        vertical-align: top;\n",
       "    }\n",
       "\n",
       "    .dataframe thead th {\n",
       "        text-align: right;\n",
       "    }\n",
       "</style>\n",
       "<table border=\"1\" class=\"dataframe\">\n",
       "  <thead>\n",
       "    <tr style=\"text-align: right;\">\n",
       "      <th></th>\n",
       "      <th>ID</th>\n",
       "      <th>市区町村コード</th>\n",
       "      <th>最寄駅：距離（分）</th>\n",
       "      <th>面積（㎡）</th>\n",
       "      <th>建築年</th>\n",
       "      <th>建物の構造</th>\n",
       "      <th>建ぺい率（％）</th>\n",
       "      <th>容積率（％）</th>\n",
       "      <th>取引価格（総額）_log</th>\n",
       "    </tr>\n",
       "  </thead>\n",
       "  <tbody>\n",
       "    <tr>\n",
       "      <th>ID</th>\n",
       "      <td>1.000000</td>\n",
       "      <td>0.999942</td>\n",
       "      <td>0.059513</td>\n",
       "      <td>0.074505</td>\n",
       "      <td>-0.015769</td>\n",
       "      <td>-0.052255</td>\n",
       "      <td>0.055475</td>\n",
       "      <td>0.001019</td>\n",
       "      <td>-0.155546</td>\n",
       "    </tr>\n",
       "    <tr>\n",
       "      <th>市区町村コード</th>\n",
       "      <td>0.999942</td>\n",
       "      <td>1.000000</td>\n",
       "      <td>0.060479</td>\n",
       "      <td>0.075553</td>\n",
       "      <td>-0.015601</td>\n",
       "      <td>-0.052447</td>\n",
       "      <td>0.056026</td>\n",
       "      <td>0.001273</td>\n",
       "      <td>-0.156754</td>\n",
       "    </tr>\n",
       "    <tr>\n",
       "      <th>最寄駅：距離（分）</th>\n",
       "      <td>0.059513</td>\n",
       "      <td>0.060479</td>\n",
       "      <td>1.000000</td>\n",
       "      <td>0.149370</td>\n",
       "      <td>-0.101477</td>\n",
       "      <td>0.066349</td>\n",
       "      <td>-0.296396</td>\n",
       "      <td>-0.315750</td>\n",
       "      <td>-0.218074</td>\n",
       "    </tr>\n",
       "    <tr>\n",
       "      <th>面積（㎡）</th>\n",
       "      <td>0.074505</td>\n",
       "      <td>0.075553</td>\n",
       "      <td>0.149370</td>\n",
       "      <td>1.000000</td>\n",
       "      <td>0.030717</td>\n",
       "      <td>0.020143</td>\n",
       "      <td>-0.254798</td>\n",
       "      <td>-0.282726</td>\n",
       "      <td>0.370305</td>\n",
       "    </tr>\n",
       "    <tr>\n",
       "      <th>建築年</th>\n",
       "      <td>-0.015769</td>\n",
       "      <td>-0.015601</td>\n",
       "      <td>-0.101477</td>\n",
       "      <td>0.030717</td>\n",
       "      <td>1.000000</td>\n",
       "      <td>0.187170</td>\n",
       "      <td>0.101795</td>\n",
       "      <td>0.118450</td>\n",
       "      <td>0.390793</td>\n",
       "    </tr>\n",
       "    <tr>\n",
       "      <th>建物の構造</th>\n",
       "      <td>-0.052255</td>\n",
       "      <td>-0.052447</td>\n",
       "      <td>0.066349</td>\n",
       "      <td>0.020143</td>\n",
       "      <td>0.187170</td>\n",
       "      <td>1.000000</td>\n",
       "      <td>-0.265693</td>\n",
       "      <td>-0.288329</td>\n",
       "      <td>0.103881</td>\n",
       "    </tr>\n",
       "    <tr>\n",
       "      <th>建ぺい率（％）</th>\n",
       "      <td>0.055475</td>\n",
       "      <td>0.056026</td>\n",
       "      <td>-0.296396</td>\n",
       "      <td>-0.254798</td>\n",
       "      <td>0.101795</td>\n",
       "      <td>-0.265693</td>\n",
       "      <td>1.000000</td>\n",
       "      <td>0.768757</td>\n",
       "      <td>0.027747</td>\n",
       "    </tr>\n",
       "    <tr>\n",
       "      <th>容積率（％）</th>\n",
       "      <td>0.001019</td>\n",
       "      <td>0.001273</td>\n",
       "      <td>-0.315750</td>\n",
       "      <td>-0.282726</td>\n",
       "      <td>0.118450</td>\n",
       "      <td>-0.288329</td>\n",
       "      <td>0.768757</td>\n",
       "      <td>1.000000</td>\n",
       "      <td>0.114598</td>\n",
       "    </tr>\n",
       "    <tr>\n",
       "      <th>取引価格（総額）_log</th>\n",
       "      <td>-0.155546</td>\n",
       "      <td>-0.156754</td>\n",
       "      <td>-0.218074</td>\n",
       "      <td>0.370305</td>\n",
       "      <td>0.390793</td>\n",
       "      <td>0.103881</td>\n",
       "      <td>0.027747</td>\n",
       "      <td>0.114598</td>\n",
       "      <td>1.000000</td>\n",
       "    </tr>\n",
       "  </tbody>\n",
       "</table>\n",
       "</div>"
      ],
      "text/plain": [
       "                    ID   市区町村コード  最寄駅：距離（分）     面積（㎡）       建築年     建物の構造  \\\n",
       "ID            1.000000  0.999942   0.059513  0.074505 -0.015769 -0.052255   \n",
       "市区町村コード       0.999942  1.000000   0.060479  0.075553 -0.015601 -0.052447   \n",
       "最寄駅：距離（分）     0.059513  0.060479   1.000000  0.149370 -0.101477  0.066349   \n",
       "面積（㎡）         0.074505  0.075553   0.149370  1.000000  0.030717  0.020143   \n",
       "建築年          -0.015769 -0.015601  -0.101477  0.030717  1.000000  0.187170   \n",
       "建物の構造        -0.052255 -0.052447   0.066349  0.020143  0.187170  1.000000   \n",
       "建ぺい率（％）       0.055475  0.056026  -0.296396 -0.254798  0.101795 -0.265693   \n",
       "容積率（％）        0.001019  0.001273  -0.315750 -0.282726  0.118450 -0.288329   \n",
       "取引価格（総額）_log -0.155546 -0.156754  -0.218074  0.370305  0.390793  0.103881   \n",
       "\n",
       "               建ぺい率（％）    容積率（％）  取引価格（総額）_log  \n",
       "ID            0.055475  0.001019     -0.155546  \n",
       "市区町村コード       0.056026  0.001273     -0.156754  \n",
       "最寄駅：距離（分）    -0.296396 -0.315750     -0.218074  \n",
       "面積（㎡）        -0.254798 -0.282726      0.370305  \n",
       "建築年           0.101795  0.118450      0.390793  \n",
       "建物の構造        -0.265693 -0.288329      0.103881  \n",
       "建ぺい率（％）       1.000000  0.768757      0.027747  \n",
       "容積率（％）        0.768757  1.000000      0.114598  \n",
       "取引価格（総額）_log  0.027747  0.114598      1.000000  "
      ]
     },
     "execution_count": 46,
     "metadata": {},
     "output_type": "execute_result"
    }
   ],
   "source": [
    "train.corr()"
   ]
  },
  {
   "cell_type": "markdown",
   "id": "55dbb7b4",
   "metadata": {},
   "source": [
    "### 用途 \n",
    "使わない"
   ]
  },
  {
   "cell_type": "code",
   "execution_count": 47,
   "id": "f75b0513",
   "metadata": {},
   "outputs": [
    {
     "data": {
      "text/plain": [
       "array(['住宅', nan, '事務所', '店舗', 'その他', '住宅、事務所', '事務所、店舗', '住宅、店舗',\n",
       "       '駐車場、店舗', '住宅、駐車場', '住宅、その他', '店舗、その他', '駐車場', '倉庫',\n",
       "       '住宅、事務所、駐車場、店舗', '倉庫、駐車場', '倉庫、店舗', '工場', '住宅、店舗、その他', '作業場',\n",
       "       '事務所、駐車場', '事務所、倉庫', '住宅、倉庫'], dtype=object)"
      ]
     },
     "execution_count": 47,
     "metadata": {},
     "output_type": "execute_result"
    }
   ],
   "source": [
    "train['用途'].unique()"
   ]
  },
  {
   "cell_type": "code",
   "execution_count": 48,
   "id": "d2fdbe30",
   "metadata": {},
   "outputs": [
    {
     "data": {
      "text/plain": [
       "用途\n",
       "その他              6.845861\n",
       "事務所              6.990359\n",
       "事務所、倉庫           7.565167\n",
       "事務所、店舗           7.267058\n",
       "事務所、駐車場          6.939519\n",
       "住宅               7.225848\n",
       "住宅、その他           7.146869\n",
       "住宅、事務所           7.236381\n",
       "住宅、事務所、駐車場、店舗    7.505150\n",
       "住宅、倉庫            7.740363\n",
       "住宅、店舗            6.988946\n",
       "住宅、店舗、その他        6.903090\n",
       "住宅、駐車場           7.582004\n",
       "作業場              7.659302\n",
       "倉庫               6.646006\n",
       "倉庫、店舗            7.216245\n",
       "倉庫、駐車場           6.942198\n",
       "工場               7.233756\n",
       "店舗               7.152388\n",
       "店舗、その他           8.278151\n",
       "駐車場              6.657856\n",
       "駐車場、店舗           6.840892\n",
       "Name: 取引価格（総額）_log, dtype: float64"
      ]
     },
     "execution_count": 48,
     "metadata": {},
     "output_type": "execute_result"
    }
   ],
   "source": [
    "#欠損値はnull、用途と価格の関係\n",
    "train['取引価格（総額）_log'].groupby(train['用途']).mean()"
   ]
  },
  {
   "cell_type": "markdown",
   "id": "aa3544aa",
   "metadata": {},
   "source": [
    "### 今後の利用目的 \n",
    "使う"
   ]
  },
  {
   "cell_type": "code",
   "execution_count": 49,
   "id": "0659dc10",
   "metadata": {},
   "outputs": [
    {
     "data": {
      "text/plain": [
       "array(['住宅', nan, 'その他', '店舗', '事務所'], dtype=object)"
      ]
     },
     "execution_count": 49,
     "metadata": {},
     "output_type": "execute_result"
    }
   ],
   "source": [
    "train['今後の利用目的'].unique()"
   ]
  },
  {
   "cell_type": "code",
   "execution_count": 50,
   "id": "009aca78",
   "metadata": {},
   "outputs": [],
   "source": [
    "#欠損値はnull、都市計画と価格の関係\n",
    "train['今後の利用目的']=train['今後の利用目的'].fillna('その他')\n",
    "train['取引価格（総額）_log'].groupby(train['今後の利用目的']).mean()\n",
    "#住宅は1,そのほかは0\n",
    "train['今後の利用目的']=train['今後の利用目的'].replace('住宅',1)\n",
    "train['今後の利用目的']=train['今後の利用目的'].replace({'その他':0, '事務所':0, '店舗':0})\n"
   ]
  },
  {
   "cell_type": "markdown",
   "id": "89eccabc",
   "metadata": {},
   "source": [
    "### 都市計画 \n",
    "使う"
   ]
  },
  {
   "cell_type": "code",
   "execution_count": 51,
   "id": "d2dd50b7",
   "metadata": {},
   "outputs": [
    {
     "data": {
      "text/plain": [
       "array(['第１種中高層住居専用地域', '商業地域', '第２種住居地域', nan, '第１種住居地域', '近隣商業地域',\n",
       "       '工業地域', '準工業地域', '第１種低層住居専用地域', '第２種中高層住居専用地域', '準住居地域',\n",
       "       '市街化区域及び市街化調整区域外の都市計画区域', '第２種低層住居専用地域', '市街化調整区域', '工業専用地域',\n",
       "       '都市計画区域外', '準都市計画区域'], dtype=object)"
      ]
     },
     "execution_count": 51,
     "metadata": {},
     "output_type": "execute_result"
    }
   ],
   "source": [
    "train['都市計画'].unique()"
   ]
  },
  {
   "cell_type": "code",
   "execution_count": 52,
   "id": "161656be",
   "metadata": {},
   "outputs": [
    {
     "data": {
      "text/plain": [
       "16"
      ]
     },
     "execution_count": 52,
     "metadata": {},
     "output_type": "execute_result"
    }
   ],
   "source": [
    "#欠損値はnull、都市計画と価格の関係\n",
    "a=train['取引価格（総額）_log'].groupby(train['都市計画']).mean()\n",
    "len(a)"
   ]
  },
  {
   "cell_type": "code",
   "execution_count": 53,
   "id": "02786133",
   "metadata": {},
   "outputs": [
    {
     "data": {
      "text/plain": [
       "都市計画\n",
       "商業地域                      7.249770\n",
       "工業地域                      7.268333\n",
       "工業専用地域                    7.474801\n",
       "市街化区域及び市街化調整区域外の都市計画区域    6.886311\n",
       "市街化調整区域                   6.850626\n",
       "準住居地域                     7.241021\n",
       "準工業地域                     7.287054\n",
       "準都市計画区域                   7.214626\n",
       "第１種中高層住居専用地域              7.183006\n",
       "第１種低層住居専用地域               7.324170\n",
       "第１種住居地域                   7.180478\n",
       "第２種中高層住居専用地域              7.195715\n",
       "第２種低層住居専用地域               7.388221\n",
       "第２種住居地域                   7.271919\n",
       "近隣商業地域                    7.236268\n",
       "都市計画区域外                   6.122405\n",
       "Name: 取引価格（総額）_log, dtype: float64"
      ]
     },
     "execution_count": 53,
     "metadata": {},
     "output_type": "execute_result"
    }
   ],
   "source": [
    "a"
   ]
  },
  {
   "cell_type": "code",
   "execution_count": 54,
   "id": "6d097de9",
   "metadata": {},
   "outputs": [
    {
     "data": {
      "text/plain": [
       "array([1., 0.])"
      ]
     },
     "execution_count": 54,
     "metadata": {},
     "output_type": "execute_result"
    }
   ],
   "source": [
    "#住居グループ:1と商業工業グループ:0に分ける\n",
    "train['都市計画']=train['都市計画'].replace('商業地域',0)\n",
    "train['都市計画']=train['都市計画'].replace('工業地域',0)\n",
    "train['都市計画']=train['都市計画'].replace('工業専用地域',0)\n",
    "train['都市計画']=train['都市計画'].replace('近隣商業地域',0)\n",
    "train['都市計画']=train['都市計画'].replace('商業地域',0)\n",
    "train['都市計画']=train['都市計画'].replace('準工業地域',0)\n",
    "train['都市計画']=train['都市計画'].replace('準都市計画区域',0)\n",
    "\n",
    "train['都市計画']=train['都市計画'].replace('市街化区域及び市街化調整区域外の都市計画区域',1)\n",
    "train['都市計画']=train['都市計画'].replace('市街化調整区域',1)\n",
    "train['都市計画']=train['都市計画'].replace('準住居地域',1)\n",
    "train['都市計画']=train['都市計画'].replace('第１種中高層住居専用地域',1)\n",
    "train['都市計画']=train['都市計画'].replace('第１種低層住居専用地域',1)\n",
    "train['都市計画']=train['都市計画'].replace('第１種住居地域',1)\n",
    "train['都市計画']=train['都市計画'].replace('第２種中高層住居専用地域',1)\n",
    "train['都市計画']=train['都市計画'].replace('第２種低層住居専用地域',1)\n",
    "train['都市計画']=train['都市計画'].replace('第２種住居地域',1)\n",
    "train['都市計画']=train['都市計画'].replace('都市計画区域外',1)\n",
    "\n",
    "train['都市計画']=train['都市計画'].fillna(1)\n",
    "\n",
    "#train['取引価格（総額）_log'].groupby(train['都市計画']).mean()\n",
    "train['都市計画'].unique()"
   ]
  },
  {
   "cell_type": "code",
   "execution_count": 55,
   "id": "ed732bf6",
   "metadata": {},
   "outputs": [
    {
     "data": {
      "text/plain": [
       "都市計画\n",
       "0.0    7.256465\n",
       "1.0    7.197789\n",
       "Name: 取引価格（総額）_log, dtype: float64"
      ]
     },
     "execution_count": 55,
     "metadata": {},
     "output_type": "execute_result"
    }
   ],
   "source": [
    "train['取引価格（総額）_log'].groupby(train['都市計画']).mean()"
   ]
  },
  {
   "cell_type": "markdown",
   "id": "b3755e7c",
   "metadata": {},
   "source": [
    "### 建ぺい率 \n",
    "使わない"
   ]
  },
  {
   "cell_type": "code",
   "execution_count": 56,
   "id": "3b15df1c",
   "metadata": {},
   "outputs": [
    {
     "data": {
      "text/plain": [
       "array([60., 80., nan, 50., 40., 70., 30.])"
      ]
     },
     "execution_count": 56,
     "metadata": {},
     "output_type": "execute_result"
    }
   ],
   "source": [
    "train['建ぺい率（％）'].unique()"
   ]
  },
  {
   "cell_type": "markdown",
   "id": "6d5545e4",
   "metadata": {},
   "source": [
    "### 容積率 \n",
    "使わない"
   ]
  },
  {
   "cell_type": "code",
   "execution_count": 57,
   "id": "d3196662",
   "metadata": {},
   "outputs": [
    {
     "data": {
      "text/plain": [
       "array([ 150.,  400.,  200.,   nan,  300.,  500.,   80.,  600.,  100.,\n",
       "         50.,  700.,   60.,  800., 1000.,  900., 1200., 1100., 1300.])"
      ]
     },
     "execution_count": 57,
     "metadata": {},
     "output_type": "execute_result"
    }
   ],
   "source": [
    "train['容積率（％）'].unique()"
   ]
  },
  {
   "cell_type": "markdown",
   "id": "0d6d9ebe",
   "metadata": {},
   "source": [
    "### 改装 \n",
    "使わない"
   ]
  },
  {
   "cell_type": "code",
   "execution_count": 58,
   "id": "27fcbf68",
   "metadata": {},
   "outputs": [
    {
     "data": {
      "text/plain": [
       "array(['改装済', '未改装', nan], dtype=object)"
      ]
     },
     "execution_count": 58,
     "metadata": {},
     "output_type": "execute_result"
    }
   ],
   "source": [
    "train['改装'].unique()"
   ]
  },
  {
   "cell_type": "code",
   "execution_count": 59,
   "id": "197b5a7c",
   "metadata": {},
   "outputs": [
    {
     "data": {
      "text/plain": [
       "0        1.0\n",
       "1        0.0\n",
       "2        1.0\n",
       "3        0.0\n",
       "4        0.0\n",
       "        ... \n",
       "37374    1.0\n",
       "37375    0.0\n",
       "37376    0.0\n",
       "37377    0.0\n",
       "37378    0.0\n",
       "Name: 改装, Length: 722574, dtype: float64"
      ]
     },
     "execution_count": 59,
     "metadata": {},
     "output_type": "execute_result"
    }
   ],
   "source": [
    "#欠損値はnull、改装と価格の関係\n",
    "train['取引価格（総額）_log'].groupby(train['改装']).mean()\n",
    "\n",
    "#改装済みは１、未改装は０、nullは未改装の0で補完\n",
    "train['改装']=train['改装'].replace('未改装',0)\n",
    "train['改装']=train['改装'].replace('改装済',1)\n",
    "train['改装'].fillna(0)"
   ]
  },
  {
   "cell_type": "markdown",
   "id": "2d393efe",
   "metadata": {},
   "source": [
    "### 都道府県、市区町村の代わりにその都市の人口を用いる"
   ]
  },
  {
   "cell_type": "code",
   "execution_count": 60,
   "id": "33ecbdb4",
   "metadata": {},
   "outputs": [],
   "source": [
    "#各市区町村の人口\n",
    "population=pd.read_csv('./data/population.csv')\n",
    "population=population[['団体名','計']]\n",
    "population=population.rename(columns={'団体名': '市区町村名'})\n",
    "\n",
    "#人口の列のカンマを消去\n",
    "for i in range(len(population)):\n",
    "    population.iloc[i]['計']=population.iloc[i]['計'].replace(',' , '')\n",
    "#文字列型から整数型に変換\n",
    "population['計']=population['計'].astype(int)"
   ]
  },
  {
   "cell_type": "code",
   "execution_count": 61,
   "id": "c2e2e521",
   "metadata": {},
   "outputs": [
    {
     "data": {
      "text/html": [
       "<div>\n",
       "<style scoped>\n",
       "    .dataframe tbody tr th:only-of-type {\n",
       "        vertical-align: middle;\n",
       "    }\n",
       "\n",
       "    .dataframe tbody tr th {\n",
       "        vertical-align: top;\n",
       "    }\n",
       "\n",
       "    .dataframe thead th {\n",
       "        text-align: right;\n",
       "    }\n",
       "</style>\n",
       "<table border=\"1\" class=\"dataframe\">\n",
       "  <thead>\n",
       "    <tr style=\"text-align: right;\">\n",
       "      <th></th>\n",
       "      <th>市区町村名</th>\n",
       "      <th>計</th>\n",
       "    </tr>\n",
       "  </thead>\n",
       "  <tbody>\n",
       "    <tr>\n",
       "      <th>0</th>\n",
       "      <td>あま市</td>\n",
       "      <td>87650</td>\n",
       "    </tr>\n",
       "    <tr>\n",
       "      <th>1</th>\n",
       "      <td>みよし市</td>\n",
       "      <td>6278</td>\n",
       "    </tr>\n",
       "    <tr>\n",
       "      <th>2</th>\n",
       "      <td>岡山市中区</td>\n",
       "      <td>148648</td>\n",
       "    </tr>\n",
       "    <tr>\n",
       "      <th>3</th>\n",
       "      <td>岡山市北区</td>\n",
       "      <td>314087</td>\n",
       "    </tr>\n",
       "    <tr>\n",
       "      <th>4</th>\n",
       "      <td>岡山市南区</td>\n",
       "      <td>165877</td>\n",
       "    </tr>\n",
       "  </tbody>\n",
       "</table>\n",
       "</div>"
      ],
      "text/plain": [
       "   市区町村名       計\n",
       "0    あま市   87650\n",
       "1   みよし市    6278\n",
       "2  岡山市中区  148648\n",
       "3  岡山市北区  314087\n",
       "4  岡山市南区  165877"
      ]
     },
     "execution_count": 61,
     "metadata": {},
     "output_type": "execute_result"
    }
   ],
   "source": [
    "#人口データに含まれないデータを用意\n",
    "diff=pd.DataFrame({\n",
    "    '市区町村名' : ['あま市',\n",
    "                             'みよし市',\n",
    "                             '岡山市中区',\n",
    "                             '岡山市北区',\n",
    "                             '岡山市南区',\n",
    "                             '熊本市中央区',\n",
    "                             '熊本市北区',\n",
    "                             '熊本市南区',\n",
    "                             '熊本市東区',\n",
    "                             '熊本市西区',\n",
    "                             '白岡市',\n",
    "                             '相模原市中央区',\n",
    "                             '相模原市南区',\n",
    "                             '相模原市緑区',\n",
    "                             '長久手市',\n",
    "                             '鶴ケ島市'],\n",
    "    '計': [87650, 6278, 148648, 314087, 165877, 187502, 139833, 130829, 189524, 91177, 52430, 274308, 283176, 169176, 61500, 69940]\n",
    "})\n",
    "diff.head()"
   ]
  },
  {
   "cell_type": "code",
   "execution_count": 62,
   "id": "64b89d27",
   "metadata": {},
   "outputs": [
    {
     "name": "stdout",
     "output_type": "stream",
     "text": [
      "<class 'pandas.core.frame.DataFrame'>\n",
      "Int64Index: 2353 entries, 0 to 15\n",
      "Data columns (total 2 columns):\n",
      " #   Column  Non-Null Count  Dtype \n",
      "---  ------  --------------  ----- \n",
      " 0   市区町村名   2353 non-null   object\n",
      " 1   計       2353 non-null   int64 \n",
      "dtypes: int64(1), object(1)\n",
      "memory usage: 55.1+ KB\n"
     ]
    }
   ],
   "source": [
    "#人口データと存在しないデータを結合してそれを人口データとして用いる\n",
    "population=pd.concat([population,diff])\n",
    "population.head()\n",
    "#print(len(population))\n",
    "population['計']=population['計'].astype(int)\n",
    "population.info()"
   ]
  },
  {
   "cell_type": "code",
   "execution_count": 63,
   "id": "417852ca",
   "metadata": {},
   "outputs": [
    {
     "data": {
      "text/plain": [
       "[0.0,\n",
       " 60214.5,\n",
       " 120429.0,\n",
       " 180643.5,\n",
       " 240858.0,\n",
       " 301072.5,\n",
       " 361287.0,\n",
       " 421501.5,\n",
       " 481716.0,\n",
       " 541930.5,\n",
       " 602145.0,\n",
       " 662359.5]"
      ]
     },
     "execution_count": 63,
     "metadata": {},
     "output_type": "execute_result"
    }
   ],
   "source": [
    "n=[]\n",
    "\n",
    "for i in range(0,12):\n",
    "    n.append(len(train)/12*i)\n",
    "        \n",
    "n"
   ]
  },
  {
   "cell_type": "code",
   "execution_count": 64,
   "id": "099c42c1",
   "metadata": {},
   "outputs": [
    {
     "data": {
      "text/plain": [
       "\"\\n#722574を12分割\\n#0-60215\\n#60215\\n#\\n#722574を12分割\\n#0-60215\\n#60215\\n#\\np1=[]\\np2=[]\\np3=[]\\np4=[]\\np5=[]\\np6=[]\\np7=[]\\np8=[]\\np9=[]\\np10=[]\\np11=[]\\np12=[]\\n\\nfor i in range(0,60215):\\n    for j in range(len(population)):\\n        if train['市区町村名'].iloc[i]==population['市区町村名'].iloc[j]:\\n            p1.append(population['計'].iloc[j])\\n            break\\n\\n\""
      ]
     },
     "execution_count": 64,
     "metadata": {},
     "output_type": "execute_result"
    }
   ],
   "source": [
    "#人口データを訓練データに結合する\n",
    "#結合キーは’市区町村名’\n",
    "train1=pd.merge(train,population,how='inner', on='市区町村名')\n",
    "\n",
    "\n",
    "\"\"\"\n",
    "#722574を12分割\n",
    "#0-60215\n",
    "#60215\n",
    "#\n",
    "#722574を12分割\n",
    "#0-60215\n",
    "#60215\n",
    "#\n",
    "p1=[]\n",
    "p2=[]\n",
    "p3=[]\n",
    "p4=[]\n",
    "p5=[]\n",
    "p6=[]\n",
    "p7=[]\n",
    "p8=[]\n",
    "p9=[]\n",
    "p10=[]\n",
    "p11=[]\n",
    "p12=[]\n",
    "\n",
    "for i in range(0,60215):\n",
    "    for j in range(len(population)):\n",
    "        if train['市区町村名'].iloc[i]==population['市区町村名'].iloc[j]:\n",
    "            p1.append(population['計'].iloc[j])\n",
    "            break\n",
    "\n",
    "\"\"\"\n"
   ]
  },
  {
   "cell_type": "code",
   "execution_count": 65,
   "id": "76d4e7f4",
   "metadata": {},
   "outputs": [
    {
     "data": {
      "text/plain": [
       "(725194, 21)"
      ]
     },
     "execution_count": 65,
     "metadata": {},
     "output_type": "execute_result"
    }
   ],
   "source": [
    "train1.shape"
   ]
  },
  {
   "cell_type": "code",
   "execution_count": 66,
   "id": "1557f326",
   "metadata": {},
   "outputs": [
    {
     "data": {
      "text/plain": [
       "ID                  0\n",
       "種類                  0\n",
       "市区町村コード             0\n",
       "都道府県名               0\n",
       "市区町村名               0\n",
       "地区名               667\n",
       "最寄駅：名称           2731\n",
       "最寄駅：距離（分）           0\n",
       "間取り                 0\n",
       "面積（㎡）               0\n",
       "建築年                 0\n",
       "建物の構造               0\n",
       "用途              71163\n",
       "今後の利用目的             0\n",
       "都市計画                0\n",
       "建ぺい率（％）         24313\n",
       "容積率（％）          24313\n",
       "取引時点                0\n",
       "改装              68328\n",
       "取引価格（総額）_log        0\n",
       "計                   0\n",
       "dtype: int64"
      ]
     },
     "execution_count": 66,
     "metadata": {},
     "output_type": "execute_result"
    }
   ],
   "source": [
    "train1.isnull().sum()"
   ]
  },
  {
   "cell_type": "code",
   "execution_count": 67,
   "id": "921d371c",
   "metadata": {},
   "outputs": [
    {
     "name": "stdout",
     "output_type": "stream",
     "text": [
      "<class 'pandas.core.frame.DataFrame'>\n",
      "Int64Index: 725194 entries, 0 to 725193\n",
      "Data columns (total 21 columns):\n",
      " #   Column        Non-Null Count   Dtype  \n",
      "---  ------        --------------   -----  \n",
      " 0   ID            725194 non-null  int64  \n",
      " 1   種類            725194 non-null  object \n",
      " 2   市区町村コード       725194 non-null  int64  \n",
      " 3   都道府県名         725194 non-null  object \n",
      " 4   市区町村名         725194 non-null  object \n",
      " 5   地区名           724527 non-null  object \n",
      " 6   最寄駅：名称        722463 non-null  object \n",
      " 7   最寄駅：距離（分）     725194 non-null  int64  \n",
      " 8   間取り           725194 non-null  object \n",
      " 9   面積（㎡）         725194 non-null  int64  \n",
      " 10  建築年           725194 non-null  int64  \n",
      " 11  建物の構造         725194 non-null  int64  \n",
      " 12  用途            654031 non-null  object \n",
      " 13  今後の利用目的       725194 non-null  int64  \n",
      " 14  都市計画          725194 non-null  float64\n",
      " 15  建ぺい率（％）       700881 non-null  float64\n",
      " 16  容積率（％）        700881 non-null  float64\n",
      " 17  取引時点          725194 non-null  object \n",
      " 18  改装            656866 non-null  float64\n",
      " 19  取引価格（総額）_log  725194 non-null  float64\n",
      " 20  計             725194 non-null  int64  \n",
      "dtypes: float64(5), int64(8), object(8)\n",
      "memory usage: 121.7+ MB\n"
     ]
    }
   ],
   "source": [
    "train1.info()"
   ]
  },
  {
   "cell_type": "markdown",
   "id": "25b669c2",
   "metadata": {},
   "source": [
    "## 説明変数と目的変数に分割 \n",
    "- 目的変数は『取引価格』"
   ]
  },
  {
   "cell_type": "code",
   "execution_count": 68,
   "id": "8e7526b0",
   "metadata": {},
   "outputs": [
    {
     "data": {
      "text/plain": [
       "((725194, 20), (725194,))"
      ]
     },
     "execution_count": 68,
     "metadata": {},
     "output_type": "execute_result"
    }
   ],
   "source": [
    "#説明変数：train_x\n",
    "train_x=train1.drop('取引価格（総額）_log', axis=1)\n",
    "\n",
    "#目的変数：train_t\n",
    "train_t=train1['取引価格（総額）_log']\n",
    "\n",
    "train_x.shape, train_t.shape"
   ]
  },
  {
   "cell_type": "code",
   "execution_count": 69,
   "id": "82d06f58",
   "metadata": {},
   "outputs": [
    {
     "name": "stdout",
     "output_type": "stream",
     "text": [
      "<class 'pandas.core.frame.DataFrame'>\n",
      "Int64Index: 725194 entries, 0 to 725193\n",
      "Data columns (total 20 columns):\n",
      " #   Column     Non-Null Count   Dtype  \n",
      "---  ------     --------------   -----  \n",
      " 0   ID         725194 non-null  int64  \n",
      " 1   種類         725194 non-null  object \n",
      " 2   市区町村コード    725194 non-null  int64  \n",
      " 3   都道府県名      725194 non-null  object \n",
      " 4   市区町村名      725194 non-null  object \n",
      " 5   地区名        724527 non-null  object \n",
      " 6   最寄駅：名称     722463 non-null  object \n",
      " 7   最寄駅：距離（分）  725194 non-null  int64  \n",
      " 8   間取り        725194 non-null  object \n",
      " 9   面積（㎡）      725194 non-null  int64  \n",
      " 10  建築年        725194 non-null  int64  \n",
      " 11  建物の構造      725194 non-null  int64  \n",
      " 12  用途         654031 non-null  object \n",
      " 13  今後の利用目的    725194 non-null  int64  \n",
      " 14  都市計画       725194 non-null  float64\n",
      " 15  建ぺい率（％）    700881 non-null  float64\n",
      " 16  容積率（％）     700881 non-null  float64\n",
      " 17  取引時点       725194 non-null  object \n",
      " 18  改装         656866 non-null  float64\n",
      " 19  計          725194 non-null  int64  \n",
      "dtypes: float64(4), int64(8), object(8)\n",
      "memory usage: 116.2+ MB\n"
     ]
    }
   ],
   "source": [
    "train_x.info()"
   ]
  },
  {
   "cell_type": "markdown",
   "id": "77ab7881",
   "metadata": {},
   "source": [
    "## 必要なカラムだけ残す\n",
    "- 最寄駅：距離（分） \n",
    "- 面積（㎡） \n",
    "- 建築年 \n",
    "- 建物の構造 \n",
    "- 今後の利用目的 \n",
    "- 都市計画 \n",
    "- 計\n",
    "-  重み"
   ]
  },
  {
   "cell_type": "code",
   "execution_count": 70,
   "id": "f4571357",
   "metadata": {},
   "outputs": [],
   "source": [
    "#train_x=train_x[['最寄駅：距離（分）','面積（㎡）','建築年', '建物の構造', '今後の利用目的', '都市計画', '計', ' 重み']] #0.95/0.77\n",
    "train_x=train_x[['最寄駅：距離（分）','面積（㎡）','建築年', '建物の構造', '今後の利用目的', '都市計画', '計']] #0.94/0.78\n",
    "#train_x=train_x[['最寄駅：距離（分）','面積（㎡）','建築年', '建物の構造', '都市計画', '計']] #0.93/0.7819116929107736/0.7809724967126114"
   ]
  },
  {
   "cell_type": "code",
   "execution_count": 71,
   "id": "1c780f37",
   "metadata": {},
   "outputs": [
    {
     "data": {
      "text/plain": [
       "0"
      ]
     },
     "execution_count": 71,
     "metadata": {},
     "output_type": "execute_result"
    }
   ],
   "source": [
    "train_t.isnull().sum()"
   ]
  },
  {
   "cell_type": "markdown",
   "id": "9c99cbeb",
   "metadata": {},
   "source": [
    "# 訓練データでのモデル実装、予測"
   ]
  },
  {
   "cell_type": "code",
   "execution_count": 74,
   "id": "f0d04d49",
   "metadata": {},
   "outputs": [
    {
     "data": {
      "text/plain": [
       "\"\\n#LinearRegressionインスタンス化\\nLR=LinearRegression()\\n\\n#ハイパーパラメータ設定なし\\nLR.fit(train_X,train_y)\\n\\n#精度確認\\nprint('精度\\u3000', LR.score(train_X,train_y))\\n\\n\\n\\n\\n#LinearRegressionインスタンス化\\nrfr=RandomForestRegressor()\\n\\n#ハイパーパラメータ設定なし\\nrfr.fit(train_X,train_y)\\n\\n#精度確認(訓練用データ)\\nprint('精度\\u3000', rfr.score(train_X,train_y))\\n\\n\""
      ]
     },
     "execution_count": 74,
     "metadata": {},
     "output_type": "execute_result"
    }
   ],
   "source": [
    "#重回帰分析\n",
    "#ランダムフォレスト\n",
    "from sklearn.linear_model import LinearRegression\n",
    "from sklearn.model_selection import train_test_split\n",
    "from sklearn.model_selection import GridSearchCV\n",
    "from sklearn.ensemble import RandomForestRegressor\n",
    "\n",
    "#訓練検証データとテストデータに分割\n",
    "trainval_x, test_x, trainval_y, test_y = train_test_split(train_x, train_t, test_size=0.3, random_state=1)\n",
    "\n",
    "#訓練データと検証データに分割\n",
    "train_X, val_X, train_y, val_y = train_test_split(trainval_x, trainval_y, test_size=0.2, random_state=1)\n",
    "\n",
    "\"\"\"\n",
    "#LinearRegressionインスタンス化\n",
    "LR=LinearRegression()\n",
    "\n",
    "#ハイパーパラメータ設定なし\n",
    "LR.fit(train_X,train_y)\n",
    "\n",
    "#精度確認\n",
    "print('精度　', LR.score(train_X,train_y))\n",
    "\n",
    "\n",
    "\n",
    "\n",
    "#LinearRegressionインスタンス化\n",
    "rfr=RandomForestRegressor()\n",
    "\n",
    "#ハイパーパラメータ設定なし\n",
    "rfr.fit(train_X,train_y)\n",
    "\n",
    "#精度確認(訓練用データ)\n",
    "print('精度　', rfr.score(train_X,train_y))\n",
    "\n",
    "\"\"\"\n",
    "\n",
    "\n",
    "\n"
   ]
  },
  {
   "cell_type": "code",
   "execution_count": null,
   "id": "1fd39c70",
   "metadata": {},
   "outputs": [],
   "source": [
    "#精度確認(検証用データ)\n",
    "print('精度　', rfr.score(val_X,val_y))"
   ]
  },
  {
   "cell_type": "code",
   "execution_count": null,
   "id": "80adb160",
   "metadata": {},
   "outputs": [],
   "source": [
    "#精度確認(模試データ)\n",
    "print('精度　', rfr.score(test_x,test_y))"
   ]
  },
  {
   "cell_type": "code",
   "execution_count": null,
   "id": "647d0e22",
   "metadata": {},
   "outputs": [],
   "source": [
    "pred=rfr.predict(train_X)"
   ]
  },
  {
   "cell_type": "code",
   "execution_count": null,
   "id": "76df871c",
   "metadata": {},
   "outputs": [],
   "source": [
    "pred=rfr.predict(train_X)\n",
    "np.mean(np.abs(train_y-pred))"
   ]
  },
  {
   "cell_type": "markdown",
   "id": "8cba892e",
   "metadata": {},
   "source": [
    "# LightGBM"
   ]
  },
  {
   "cell_type": "code",
   "execution_count": 73,
   "id": "14ce005d",
   "metadata": {},
   "outputs": [
    {
     "name": "stdout",
     "output_type": "stream",
     "text": [
      "Collecting package metadata (current_repodata.json): done\n",
      "Solving environment: done\n",
      "\n",
      "# All requested packages already installed.\n",
      "\n",
      "\n",
      "Note: you may need to restart the kernel to use updated packages.\n"
     ]
    }
   ],
   "source": [
    "conda install -c conda-forge lightgbm"
   ]
  },
  {
   "cell_type": "code",
   "execution_count": 76,
   "id": "238cfc08",
   "metadata": {},
   "outputs": [
    {
     "name": "stdout",
     "output_type": "stream",
     "text": [
      "[LightGBM] [Warning] Auto-choosing row-wise multi-threading, the overhead of testing was 0.006653 seconds.\n",
      "You can set `force_row_wise=true` to remove the overhead.\n",
      "And if memory is not enough, you can set `force_col_wise=true`.\n",
      "[LightGBM] [Info] Total Bins 494\n",
      "[LightGBM] [Info] Number of data points in the train set: 406108, number of used features: 7\n",
      "[LightGBM] [Info] Start training from score 7.228333\n",
      "[1]\tvalid_0's l1: 0.257041\n",
      "Training until validation scores don't improve for 100 rounds\n",
      "[2]\tvalid_0's l1: 0.24376\n",
      "[3]\tvalid_0's l1: 0.232366\n",
      "[4]\tvalid_0's l1: 0.222687\n",
      "[5]\tvalid_0's l1: 0.21438\n",
      "[6]\tvalid_0's l1: 0.207295\n",
      "[7]\tvalid_0's l1: 0.201166\n",
      "[8]\tvalid_0's l1: 0.196113\n",
      "[9]\tvalid_0's l1: 0.191698\n",
      "[10]\tvalid_0's l1: 0.187905\n",
      "[11]\tvalid_0's l1: 0.184641\n",
      "[12]\tvalid_0's l1: 0.181874\n",
      "[13]\tvalid_0's l1: 0.179484\n",
      "[14]\tvalid_0's l1: 0.177308\n",
      "[15]\tvalid_0's l1: 0.175328\n",
      "[16]\tvalid_0's l1: 0.173854\n",
      "[17]\tvalid_0's l1: 0.172247\n",
      "[18]\tvalid_0's l1: 0.171135\n",
      "[19]\tvalid_0's l1: 0.169855\n",
      "[20]\tvalid_0's l1: 0.168921\n",
      "[21]\tvalid_0's l1: 0.167813\n",
      "[22]\tvalid_0's l1: 0.167015\n",
      "[23]\tvalid_0's l1: 0.166085\n",
      "[24]\tvalid_0's l1: 0.164816\n",
      "[25]\tvalid_0's l1: 0.164102\n",
      "[26]\tvalid_0's l1: 0.163437\n",
      "[27]\tvalid_0's l1: 0.162354\n",
      "[28]\tvalid_0's l1: 0.161547\n",
      "[29]\tvalid_0's l1: 0.160944\n",
      "[30]\tvalid_0's l1: 0.160096\n",
      "[31]\tvalid_0's l1: 0.15921\n",
      "[32]\tvalid_0's l1: 0.158247\n",
      "[33]\tvalid_0's l1: 0.157058\n",
      "[34]\tvalid_0's l1: 0.156372\n",
      "[35]\tvalid_0's l1: 0.155897\n",
      "[36]\tvalid_0's l1: 0.155335\n",
      "[37]\tvalid_0's l1: 0.154312\n",
      "[38]\tvalid_0's l1: 0.153609\n",
      "[39]\tvalid_0's l1: 0.152993\n",
      "[40]\tvalid_0's l1: 0.15234\n",
      "[41]\tvalid_0's l1: 0.151307\n",
      "[42]\tvalid_0's l1: 0.15063\n",
      "[43]\tvalid_0's l1: 0.150352\n",
      "[44]\tvalid_0's l1: 0.148933\n",
      "[45]\tvalid_0's l1: 0.147982\n",
      "[46]\tvalid_0's l1: 0.147712\n",
      "[47]\tvalid_0's l1: 0.147295\n",
      "[48]\tvalid_0's l1: 0.147023\n",
      "[49]\tvalid_0's l1: 0.14635\n",
      "[50]\tvalid_0's l1: 0.145937\n",
      "[51]\tvalid_0's l1: 0.145675\n",
      "[52]\tvalid_0's l1: 0.145067\n",
      "[53]\tvalid_0's l1: 0.144565\n",
      "[54]\tvalid_0's l1: 0.144355\n",
      "[55]\tvalid_0's l1: 0.143193\n",
      "[56]\tvalid_0's l1: 0.142543\n",
      "[57]\tvalid_0's l1: 0.141767\n",
      "[58]\tvalid_0's l1: 0.140993\n",
      "[59]\tvalid_0's l1: 0.14078\n",
      "[60]\tvalid_0's l1: 0.140124\n",
      "[61]\tvalid_0's l1: 0.139726\n",
      "[62]\tvalid_0's l1: 0.139162\n",
      "[63]\tvalid_0's l1: 0.138928\n",
      "[64]\tvalid_0's l1: 0.13867\n",
      "[65]\tvalid_0's l1: 0.138527\n",
      "[66]\tvalid_0's l1: 0.137724\n",
      "[67]\tvalid_0's l1: 0.1371\n",
      "[68]\tvalid_0's l1: 0.136827\n",
      "[69]\tvalid_0's l1: 0.136525\n",
      "[70]\tvalid_0's l1: 0.136281\n",
      "[71]\tvalid_0's l1: 0.135937\n",
      "[72]\tvalid_0's l1: 0.135607\n",
      "[73]\tvalid_0's l1: 0.135442\n",
      "[74]\tvalid_0's l1: 0.135022\n",
      "[75]\tvalid_0's l1: 0.134482\n",
      "[76]\tvalid_0's l1: 0.134164\n",
      "[77]\tvalid_0's l1: 0.133994\n",
      "[78]\tvalid_0's l1: 0.133575\n",
      "[79]\tvalid_0's l1: 0.133378\n",
      "[80]\tvalid_0's l1: 0.133265\n",
      "[81]\tvalid_0's l1: 0.132832\n",
      "[82]\tvalid_0's l1: 0.132729\n",
      "[83]\tvalid_0's l1: 0.13245\n",
      "[84]\tvalid_0's l1: 0.132298\n",
      "[85]\tvalid_0's l1: 0.132123\n",
      "[86]\tvalid_0's l1: 0.132014\n",
      "[87]\tvalid_0's l1: 0.1318\n",
      "[88]\tvalid_0's l1: 0.13147\n",
      "[89]\tvalid_0's l1: 0.131213\n",
      "[90]\tvalid_0's l1: 0.131105\n",
      "[91]\tvalid_0's l1: 0.130978\n",
      "[92]\tvalid_0's l1: 0.130638\n",
      "[93]\tvalid_0's l1: 0.130343\n",
      "[94]\tvalid_0's l1: 0.130077\n",
      "[95]\tvalid_0's l1: 0.129566\n",
      "[96]\tvalid_0's l1: 0.129391\n",
      "[97]\tvalid_0's l1: 0.129232\n",
      "[98]\tvalid_0's l1: 0.129007\n",
      "[99]\tvalid_0's l1: 0.128911\n",
      "[100]\tvalid_0's l1: 0.128785\n",
      "[101]\tvalid_0's l1: 0.128653\n",
      "[102]\tvalid_0's l1: 0.128485\n",
      "[103]\tvalid_0's l1: 0.128189\n",
      "[104]\tvalid_0's l1: 0.12806\n",
      "[105]\tvalid_0's l1: 0.127939\n",
      "[106]\tvalid_0's l1: 0.127844\n",
      "[107]\tvalid_0's l1: 0.127744\n",
      "[108]\tvalid_0's l1: 0.127481\n",
      "[109]\tvalid_0's l1: 0.127325\n",
      "[110]\tvalid_0's l1: 0.127217\n",
      "[111]\tvalid_0's l1: 0.127064\n",
      "[112]\tvalid_0's l1: 0.126963\n",
      "[113]\tvalid_0's l1: 0.126756\n",
      "[114]\tvalid_0's l1: 0.1267\n",
      "[115]\tvalid_0's l1: 0.126652\n",
      "[116]\tvalid_0's l1: 0.12659\n",
      "[117]\tvalid_0's l1: 0.126393\n",
      "[118]\tvalid_0's l1: 0.126315\n",
      "[119]\tvalid_0's l1: 0.126028\n",
      "[120]\tvalid_0's l1: 0.125856\n",
      "[121]\tvalid_0's l1: 0.125753\n",
      "[122]\tvalid_0's l1: 0.125615\n",
      "[123]\tvalid_0's l1: 0.125535\n",
      "[124]\tvalid_0's l1: 0.125372\n",
      "[125]\tvalid_0's l1: 0.125237\n",
      "[126]\tvalid_0's l1: 0.125135\n",
      "[127]\tvalid_0's l1: 0.125065\n",
      "[128]\tvalid_0's l1: 0.124877\n",
      "[129]\tvalid_0's l1: 0.12479\n",
      "[130]\tvalid_0's l1: 0.124676\n",
      "[131]\tvalid_0's l1: 0.124543\n",
      "[132]\tvalid_0's l1: 0.124486\n",
      "[133]\tvalid_0's l1: 0.124395\n",
      "[134]\tvalid_0's l1: 0.123972\n",
      "[135]\tvalid_0's l1: 0.123921\n",
      "[136]\tvalid_0's l1: 0.123847\n",
      "[137]\tvalid_0's l1: 0.1238\n",
      "[138]\tvalid_0's l1: 0.123746\n",
      "[139]\tvalid_0's l1: 0.123629\n",
      "[140]\tvalid_0's l1: 0.12354\n",
      "[141]\tvalid_0's l1: 0.123206\n",
      "[142]\tvalid_0's l1: 0.123145\n",
      "[143]\tvalid_0's l1: 0.123023\n",
      "[144]\tvalid_0's l1: 0.122913\n",
      "[145]\tvalid_0's l1: 0.122814\n",
      "[146]\tvalid_0's l1: 0.122751\n",
      "[147]\tvalid_0's l1: 0.122713\n",
      "[148]\tvalid_0's l1: 0.122616\n",
      "[149]\tvalid_0's l1: 0.122475\n",
      "[150]\tvalid_0's l1: 0.122388\n",
      "[151]\tvalid_0's l1: 0.122352\n",
      "[152]\tvalid_0's l1: 0.122276\n",
      "[153]\tvalid_0's l1: 0.122198\n",
      "[154]\tvalid_0's l1: 0.122136\n",
      "[155]\tvalid_0's l1: 0.122104\n",
      "[156]\tvalid_0's l1: 0.122045\n",
      "[157]\tvalid_0's l1: 0.121798\n",
      "[158]\tvalid_0's l1: 0.12172\n",
      "[159]\tvalid_0's l1: 0.121689\n",
      "[160]\tvalid_0's l1: 0.121603\n",
      "[161]\tvalid_0's l1: 0.121554\n",
      "[162]\tvalid_0's l1: 0.12151\n",
      "[163]\tvalid_0's l1: 0.121476\n",
      "[164]\tvalid_0's l1: 0.121298\n",
      "[165]\tvalid_0's l1: 0.121231\n",
      "[166]\tvalid_0's l1: 0.120846\n",
      "[167]\tvalid_0's l1: 0.1208\n",
      "[168]\tvalid_0's l1: 0.120763\n",
      "[169]\tvalid_0's l1: 0.1207\n",
      "[170]\tvalid_0's l1: 0.120626\n",
      "[171]\tvalid_0's l1: 0.120588\n",
      "[172]\tvalid_0's l1: 0.120547\n",
      "[173]\tvalid_0's l1: 0.12047\n",
      "[174]\tvalid_0's l1: 0.120378\n",
      "[175]\tvalid_0's l1: 0.120354\n",
      "[176]\tvalid_0's l1: 0.120329\n",
      "[177]\tvalid_0's l1: 0.120231\n",
      "[178]\tvalid_0's l1: 0.120122\n",
      "[179]\tvalid_0's l1: 0.120083\n",
      "[180]\tvalid_0's l1: 0.120025\n",
      "[181]\tvalid_0's l1: 0.120011\n",
      "[182]\tvalid_0's l1: 0.119934\n",
      "[183]\tvalid_0's l1: 0.119881\n",
      "[184]\tvalid_0's l1: 0.119811\n",
      "[185]\tvalid_0's l1: 0.119783\n",
      "[186]\tvalid_0's l1: 0.119471\n",
      "[187]\tvalid_0's l1: 0.119424\n",
      "[188]\tvalid_0's l1: 0.119379\n",
      "[189]\tvalid_0's l1: 0.119328\n",
      "[190]\tvalid_0's l1: 0.119068\n",
      "[191]\tvalid_0's l1: 0.119015\n",
      "[192]\tvalid_0's l1: 0.118967\n",
      "[193]\tvalid_0's l1: 0.118917\n",
      "[194]\tvalid_0's l1: 0.118879\n",
      "[195]\tvalid_0's l1: 0.118833\n",
      "[196]\tvalid_0's l1: 0.118606\n",
      "[197]\tvalid_0's l1: 0.118514\n",
      "[198]\tvalid_0's l1: 0.118486\n",
      "[199]\tvalid_0's l1: 0.118443\n",
      "[200]\tvalid_0's l1: 0.118368\n",
      "[201]\tvalid_0's l1: 0.118303\n",
      "[202]\tvalid_0's l1: 0.118259\n",
      "[203]\tvalid_0's l1: 0.11823\n",
      "[204]\tvalid_0's l1: 0.118188\n",
      "[205]\tvalid_0's l1: 0.118139\n",
      "[206]\tvalid_0's l1: 0.118112\n",
      "[207]\tvalid_0's l1: 0.118074\n",
      "[208]\tvalid_0's l1: 0.118014\n",
      "[209]\tvalid_0's l1: 0.117972\n",
      "[210]\tvalid_0's l1: 0.117957\n",
      "[211]\tvalid_0's l1: 0.117906\n",
      "[212]\tvalid_0's l1: 0.117718\n",
      "[213]\tvalid_0's l1: 0.117697\n",
      "[214]\tvalid_0's l1: 0.117658\n",
      "[215]\tvalid_0's l1: 0.117609\n",
      "[216]\tvalid_0's l1: 0.117445\n",
      "[217]\tvalid_0's l1: 0.117393\n",
      "[218]\tvalid_0's l1: 0.117381\n",
      "[219]\tvalid_0's l1: 0.117364\n",
      "[220]\tvalid_0's l1: 0.117344\n",
      "[221]\tvalid_0's l1: 0.117304\n",
      "[222]\tvalid_0's l1: 0.117282\n",
      "[223]\tvalid_0's l1: 0.117258\n",
      "[224]\tvalid_0's l1: 0.117235\n",
      "[225]\tvalid_0's l1: 0.117224\n",
      "[226]\tvalid_0's l1: 0.117176\n",
      "[227]\tvalid_0's l1: 0.117153\n",
      "[228]\tvalid_0's l1: 0.117115\n",
      "[229]\tvalid_0's l1: 0.116947\n",
      "[230]\tvalid_0's l1: 0.11691\n",
      "[231]\tvalid_0's l1: 0.116873\n",
      "[232]\tvalid_0's l1: 0.116851\n",
      "[233]\tvalid_0's l1: 0.11684\n",
      "[234]\tvalid_0's l1: 0.116816\n",
      "[235]\tvalid_0's l1: 0.116766\n",
      "[236]\tvalid_0's l1: 0.116724\n",
      "[237]\tvalid_0's l1: 0.116716\n",
      "[238]\tvalid_0's l1: 0.116606\n",
      "[239]\tvalid_0's l1: 0.116586\n",
      "[240]\tvalid_0's l1: 0.116563\n",
      "[241]\tvalid_0's l1: 0.116384\n",
      "[242]\tvalid_0's l1: 0.116365\n",
      "[243]\tvalid_0's l1: 0.116354\n",
      "[244]\tvalid_0's l1: 0.11619\n",
      "[245]\tvalid_0's l1: 0.116159\n",
      "[246]\tvalid_0's l1: 0.116104\n",
      "[247]\tvalid_0's l1: 0.116023\n",
      "[248]\tvalid_0's l1: 0.115995\n",
      "[249]\tvalid_0's l1: 0.115952\n",
      "[250]\tvalid_0's l1: 0.115892\n",
      "[251]\tvalid_0's l1: 0.115856\n",
      "[252]\tvalid_0's l1: 0.115795\n",
      "[253]\tvalid_0's l1: 0.115762\n",
      "[254]\tvalid_0's l1: 0.11574\n",
      "[255]\tvalid_0's l1: 0.115616\n",
      "[256]\tvalid_0's l1: 0.115568\n",
      "[257]\tvalid_0's l1: 0.115562\n",
      "[258]\tvalid_0's l1: 0.115535\n",
      "[259]\tvalid_0's l1: 0.115509\n",
      "[260]\tvalid_0's l1: 0.115473\n",
      "[261]\tvalid_0's l1: 0.11543\n",
      "[262]\tvalid_0's l1: 0.115407\n",
      "[263]\tvalid_0's l1: 0.115377\n",
      "[264]\tvalid_0's l1: 0.115359\n",
      "[265]\tvalid_0's l1: 0.115348\n",
      "[266]\tvalid_0's l1: 0.115337\n",
      "[267]\tvalid_0's l1: 0.115298\n",
      "[268]\tvalid_0's l1: 0.115174\n",
      "[269]\tvalid_0's l1: 0.115155\n",
      "[270]\tvalid_0's l1: 0.115134\n",
      "[271]\tvalid_0's l1: 0.115132\n",
      "[272]\tvalid_0's l1: 0.115058\n",
      "[273]\tvalid_0's l1: 0.115041\n",
      "[274]\tvalid_0's l1: 0.115017\n"
     ]
    },
    {
     "name": "stdout",
     "output_type": "stream",
     "text": [
      "[275]\tvalid_0's l1: 0.114959\n",
      "[276]\tvalid_0's l1: 0.114936\n",
      "[277]\tvalid_0's l1: 0.114907\n",
      "[278]\tvalid_0's l1: 0.114889\n",
      "[279]\tvalid_0's l1: 0.114878\n",
      "[280]\tvalid_0's l1: 0.114869\n",
      "[281]\tvalid_0's l1: 0.114853\n",
      "[282]\tvalid_0's l1: 0.114831\n",
      "[283]\tvalid_0's l1: 0.114802\n",
      "[284]\tvalid_0's l1: 0.11468\n",
      "[285]\tvalid_0's l1: 0.11456\n",
      "[286]\tvalid_0's l1: 0.114545\n",
      "[287]\tvalid_0's l1: 0.114523\n",
      "[288]\tvalid_0's l1: 0.114493\n",
      "[289]\tvalid_0's l1: 0.114438\n",
      "[290]\tvalid_0's l1: 0.114426\n",
      "[291]\tvalid_0's l1: 0.1144\n",
      "[292]\tvalid_0's l1: 0.114385\n",
      "[293]\tvalid_0's l1: 0.114356\n",
      "[294]\tvalid_0's l1: 0.114336\n",
      "[295]\tvalid_0's l1: 0.114331\n",
      "[296]\tvalid_0's l1: 0.114311\n",
      "[297]\tvalid_0's l1: 0.114268\n",
      "[298]\tvalid_0's l1: 0.114198\n",
      "[299]\tvalid_0's l1: 0.114158\n",
      "[300]\tvalid_0's l1: 0.114138\n",
      "[301]\tvalid_0's l1: 0.11413\n",
      "[302]\tvalid_0's l1: 0.114039\n",
      "[303]\tvalid_0's l1: 0.114029\n",
      "[304]\tvalid_0's l1: 0.113969\n",
      "[305]\tvalid_0's l1: 0.113926\n",
      "[306]\tvalid_0's l1: 0.11385\n",
      "[307]\tvalid_0's l1: 0.113843\n",
      "[308]\tvalid_0's l1: 0.113825\n",
      "[309]\tvalid_0's l1: 0.113812\n",
      "[310]\tvalid_0's l1: 0.113791\n",
      "[311]\tvalid_0's l1: 0.113754\n",
      "[312]\tvalid_0's l1: 0.113726\n",
      "[313]\tvalid_0's l1: 0.113666\n",
      "[314]\tvalid_0's l1: 0.113635\n",
      "[315]\tvalid_0's l1: 0.113606\n",
      "[316]\tvalid_0's l1: 0.11358\n",
      "[317]\tvalid_0's l1: 0.113551\n",
      "[318]\tvalid_0's l1: 0.113463\n",
      "[319]\tvalid_0's l1: 0.113457\n",
      "[320]\tvalid_0's l1: 0.113452\n",
      "[321]\tvalid_0's l1: 0.113431\n",
      "[322]\tvalid_0's l1: 0.113387\n",
      "[323]\tvalid_0's l1: 0.113377\n",
      "[324]\tvalid_0's l1: 0.113375\n",
      "[325]\tvalid_0's l1: 0.113356\n",
      "[326]\tvalid_0's l1: 0.113313\n",
      "[327]\tvalid_0's l1: 0.11329\n",
      "[328]\tvalid_0's l1: 0.113253\n",
      "[329]\tvalid_0's l1: 0.113226\n",
      "[330]\tvalid_0's l1: 0.113187\n",
      "[331]\tvalid_0's l1: 0.113168\n",
      "[332]\tvalid_0's l1: 0.113144\n",
      "[333]\tvalid_0's l1: 0.113127\n",
      "[334]\tvalid_0's l1: 0.113036\n",
      "[335]\tvalid_0's l1: 0.113028\n",
      "[336]\tvalid_0's l1: 0.113006\n",
      "[337]\tvalid_0's l1: 0.112985\n",
      "[338]\tvalid_0's l1: 0.11297\n",
      "[339]\tvalid_0's l1: 0.11295\n",
      "[340]\tvalid_0's l1: 0.112938\n",
      "[341]\tvalid_0's l1: 0.112933\n",
      "[342]\tvalid_0's l1: 0.11286\n",
      "[343]\tvalid_0's l1: 0.112855\n",
      "[344]\tvalid_0's l1: 0.112838\n",
      "[345]\tvalid_0's l1: 0.112796\n",
      "[346]\tvalid_0's l1: 0.112791\n",
      "[347]\tvalid_0's l1: 0.112779\n",
      "[348]\tvalid_0's l1: 0.112777\n",
      "[349]\tvalid_0's l1: 0.112738\n",
      "[350]\tvalid_0's l1: 0.112725\n",
      "[351]\tvalid_0's l1: 0.112705\n",
      "[352]\tvalid_0's l1: 0.112694\n",
      "[353]\tvalid_0's l1: 0.112676\n",
      "[354]\tvalid_0's l1: 0.112594\n",
      "[355]\tvalid_0's l1: 0.11256\n",
      "[356]\tvalid_0's l1: 0.112545\n",
      "[357]\tvalid_0's l1: 0.112531\n",
      "[358]\tvalid_0's l1: 0.112526\n",
      "[359]\tvalid_0's l1: 0.112505\n",
      "[360]\tvalid_0's l1: 0.11249\n",
      "[361]\tvalid_0's l1: 0.112489\n",
      "[362]\tvalid_0's l1: 0.112478\n",
      "[363]\tvalid_0's l1: 0.112422\n",
      "[364]\tvalid_0's l1: 0.112412\n",
      "[365]\tvalid_0's l1: 0.112387\n",
      "[366]\tvalid_0's l1: 0.112386\n",
      "[367]\tvalid_0's l1: 0.112339\n",
      "[368]\tvalid_0's l1: 0.112319\n",
      "[369]\tvalid_0's l1: 0.1123\n",
      "[370]\tvalid_0's l1: 0.112285\n",
      "[371]\tvalid_0's l1: 0.112273\n",
      "[372]\tvalid_0's l1: 0.112234\n",
      "[373]\tvalid_0's l1: 0.112164\n",
      "[374]\tvalid_0's l1: 0.112137\n",
      "[375]\tvalid_0's l1: 0.112127\n",
      "[376]\tvalid_0's l1: 0.112115\n",
      "[377]\tvalid_0's l1: 0.112106\n",
      "[378]\tvalid_0's l1: 0.1121\n",
      "[379]\tvalid_0's l1: 0.11206\n",
      "[380]\tvalid_0's l1: 0.112047\n",
      "[381]\tvalid_0's l1: 0.112031\n",
      "[382]\tvalid_0's l1: 0.112005\n",
      "[383]\tvalid_0's l1: 0.111988\n",
      "[384]\tvalid_0's l1: 0.111979\n",
      "[385]\tvalid_0's l1: 0.111963\n",
      "[386]\tvalid_0's l1: 0.111907\n",
      "[387]\tvalid_0's l1: 0.111837\n",
      "[388]\tvalid_0's l1: 0.111811\n",
      "[389]\tvalid_0's l1: 0.111798\n",
      "[390]\tvalid_0's l1: 0.111779\n",
      "[391]\tvalid_0's l1: 0.111761\n",
      "[392]\tvalid_0's l1: 0.11175\n",
      "[393]\tvalid_0's l1: 0.111734\n",
      "[394]\tvalid_0's l1: 0.111715\n",
      "[395]\tvalid_0's l1: 0.111682\n",
      "[396]\tvalid_0's l1: 0.111663\n",
      "[397]\tvalid_0's l1: 0.111646\n",
      "[398]\tvalid_0's l1: 0.111608\n",
      "[399]\tvalid_0's l1: 0.111601\n",
      "[400]\tvalid_0's l1: 0.111559\n",
      "[401]\tvalid_0's l1: 0.111508\n",
      "[402]\tvalid_0's l1: 0.111495\n",
      "[403]\tvalid_0's l1: 0.111484\n",
      "[404]\tvalid_0's l1: 0.111476\n",
      "[405]\tvalid_0's l1: 0.11142\n",
      "[406]\tvalid_0's l1: 0.111418\n",
      "[407]\tvalid_0's l1: 0.111385\n",
      "[408]\tvalid_0's l1: 0.111381\n",
      "[409]\tvalid_0's l1: 0.111362\n",
      "[410]\tvalid_0's l1: 0.111348\n",
      "[411]\tvalid_0's l1: 0.111327\n",
      "[412]\tvalid_0's l1: 0.111314\n",
      "[413]\tvalid_0's l1: 0.111251\n",
      "[414]\tvalid_0's l1: 0.11123\n",
      "[415]\tvalid_0's l1: 0.111218\n",
      "[416]\tvalid_0's l1: 0.111183\n",
      "[417]\tvalid_0's l1: 0.111166\n",
      "[418]\tvalid_0's l1: 0.111151\n",
      "[419]\tvalid_0's l1: 0.111126\n",
      "[420]\tvalid_0's l1: 0.111123\n",
      "[421]\tvalid_0's l1: 0.111096\n",
      "[422]\tvalid_0's l1: 0.111079\n",
      "[423]\tvalid_0's l1: 0.111049\n",
      "[424]\tvalid_0's l1: 0.111016\n",
      "[425]\tvalid_0's l1: 0.110999\n",
      "[426]\tvalid_0's l1: 0.110994\n",
      "[427]\tvalid_0's l1: 0.110987\n",
      "[428]\tvalid_0's l1: 0.110944\n",
      "[429]\tvalid_0's l1: 0.110936\n",
      "[430]\tvalid_0's l1: 0.110935\n",
      "[431]\tvalid_0's l1: 0.110899\n",
      "[432]\tvalid_0's l1: 0.11089\n",
      "[433]\tvalid_0's l1: 0.110876\n",
      "[434]\tvalid_0's l1: 0.11087\n",
      "[435]\tvalid_0's l1: 0.110858\n",
      "[436]\tvalid_0's l1: 0.110844\n",
      "[437]\tvalid_0's l1: 0.110808\n",
      "[438]\tvalid_0's l1: 0.110802\n",
      "[439]\tvalid_0's l1: 0.110785\n",
      "[440]\tvalid_0's l1: 0.110762\n",
      "[441]\tvalid_0's l1: 0.110763\n",
      "[442]\tvalid_0's l1: 0.110734\n",
      "[443]\tvalid_0's l1: 0.110727\n",
      "[444]\tvalid_0's l1: 0.110697\n",
      "[445]\tvalid_0's l1: 0.110695\n",
      "[446]\tvalid_0's l1: 0.110674\n",
      "[447]\tvalid_0's l1: 0.11067\n",
      "[448]\tvalid_0's l1: 0.110656\n",
      "[449]\tvalid_0's l1: 0.110651\n",
      "[450]\tvalid_0's l1: 0.110641\n",
      "[451]\tvalid_0's l1: 0.110633\n",
      "[452]\tvalid_0's l1: 0.110608\n",
      "[453]\tvalid_0's l1: 0.110608\n",
      "[454]\tvalid_0's l1: 0.110591\n",
      "[455]\tvalid_0's l1: 0.110581\n",
      "[456]\tvalid_0's l1: 0.110572\n",
      "[457]\tvalid_0's l1: 0.110557\n",
      "[458]\tvalid_0's l1: 0.11054\n",
      "[459]\tvalid_0's l1: 0.110512\n",
      "[460]\tvalid_0's l1: 0.110503\n",
      "[461]\tvalid_0's l1: 0.110495\n",
      "[462]\tvalid_0's l1: 0.11047\n",
      "[463]\tvalid_0's l1: 0.110454\n",
      "[464]\tvalid_0's l1: 0.110451\n",
      "[465]\tvalid_0's l1: 0.110409\n",
      "[466]\tvalid_0's l1: 0.110382\n",
      "[467]\tvalid_0's l1: 0.110379\n",
      "[468]\tvalid_0's l1: 0.110361\n",
      "[469]\tvalid_0's l1: 0.110322\n",
      "[470]\tvalid_0's l1: 0.11031\n",
      "[471]\tvalid_0's l1: 0.110304\n",
      "[472]\tvalid_0's l1: 0.110291\n",
      "[473]\tvalid_0's l1: 0.110283\n",
      "[474]\tvalid_0's l1: 0.110264\n",
      "[475]\tvalid_0's l1: 0.110254\n",
      "[476]\tvalid_0's l1: 0.110235\n",
      "[477]\tvalid_0's l1: 0.110219\n",
      "[478]\tvalid_0's l1: 0.110216\n",
      "[479]\tvalid_0's l1: 0.110195\n",
      "[480]\tvalid_0's l1: 0.110194\n",
      "[481]\tvalid_0's l1: 0.110156\n",
      "[482]\tvalid_0's l1: 0.110155\n",
      "[483]\tvalid_0's l1: 0.110136\n",
      "[484]\tvalid_0's l1: 0.11013\n",
      "[485]\tvalid_0's l1: 0.110115\n",
      "[486]\tvalid_0's l1: 0.110091\n",
      "[487]\tvalid_0's l1: 0.110082\n",
      "[488]\tvalid_0's l1: 0.110068\n",
      "[489]\tvalid_0's l1: 0.11004\n",
      "[490]\tvalid_0's l1: 0.110025\n",
      "[491]\tvalid_0's l1: 0.110011\n",
      "[492]\tvalid_0's l1: 0.110006\n",
      "[493]\tvalid_0's l1: 0.110001\n",
      "[494]\tvalid_0's l1: 0.109974\n",
      "[495]\tvalid_0's l1: 0.109957\n",
      "[496]\tvalid_0's l1: 0.109949\n",
      "[497]\tvalid_0's l1: 0.109944\n",
      "[498]\tvalid_0's l1: 0.109942\n",
      "[499]\tvalid_0's l1: 0.109927\n",
      "[500]\tvalid_0's l1: 0.109918\n",
      "[501]\tvalid_0's l1: 0.109911\n",
      "[502]\tvalid_0's l1: 0.109894\n",
      "[503]\tvalid_0's l1: 0.109884\n",
      "[504]\tvalid_0's l1: 0.109877\n",
      "[505]\tvalid_0's l1: 0.109863\n",
      "[506]\tvalid_0's l1: 0.109812\n",
      "[507]\tvalid_0's l1: 0.109806\n",
      "[508]\tvalid_0's l1: 0.109806\n",
      "[509]\tvalid_0's l1: 0.109807\n",
      "[510]\tvalid_0's l1: 0.109791\n",
      "[511]\tvalid_0's l1: 0.10978\n",
      "[512]\tvalid_0's l1: 0.109766\n",
      "[513]\tvalid_0's l1: 0.109755\n",
      "[514]\tvalid_0's l1: 0.109719\n",
      "[515]\tvalid_0's l1: 0.109709\n",
      "[516]\tvalid_0's l1: 0.109651\n",
      "[517]\tvalid_0's l1: 0.109636\n",
      "[518]\tvalid_0's l1: 0.109626\n",
      "[519]\tvalid_0's l1: 0.10961\n",
      "[520]\tvalid_0's l1: 0.109567\n",
      "[521]\tvalid_0's l1: 0.109558\n",
      "[522]\tvalid_0's l1: 0.109543\n",
      "[523]\tvalid_0's l1: 0.109526\n",
      "[524]\tvalid_0's l1: 0.109524\n",
      "[525]\tvalid_0's l1: 0.109517\n",
      "[526]\tvalid_0's l1: 0.109506\n",
      "[527]\tvalid_0's l1: 0.109482\n",
      "[528]\tvalid_0's l1: 0.109474\n",
      "[529]\tvalid_0's l1: 0.109473\n",
      "[530]\tvalid_0's l1: 0.109466\n",
      "[531]\tvalid_0's l1: 0.109462\n",
      "[532]\tvalid_0's l1: 0.109458\n",
      "[533]\tvalid_0's l1: 0.109454\n",
      "[534]\tvalid_0's l1: 0.109445\n",
      "[535]\tvalid_0's l1: 0.109438\n",
      "[536]\tvalid_0's l1: 0.109436\n",
      "[537]\tvalid_0's l1: 0.10942\n",
      "[538]\tvalid_0's l1: 0.10941\n",
      "[539]\tvalid_0's l1: 0.1094\n",
      "[540]\tvalid_0's l1: 0.109372\n",
      "[541]\tvalid_0's l1: 0.10935\n",
      "[542]\tvalid_0's l1: 0.109349\n",
      "[543]\tvalid_0's l1: 0.109342\n",
      "[544]\tvalid_0's l1: 0.109334\n",
      "[545]\tvalid_0's l1: 0.109331\n",
      "[546]\tvalid_0's l1: 0.109317\n",
      "[547]\tvalid_0's l1: 0.109311\n",
      "[548]\tvalid_0's l1: 0.109302\n",
      "[549]\tvalid_0's l1: 0.109292\n",
      "[550]\tvalid_0's l1: 0.109294\n",
      "[551]\tvalid_0's l1: 0.109279\n",
      "[552]\tvalid_0's l1: 0.109265\n",
      "[553]\tvalid_0's l1: 0.109267\n",
      "[554]\tvalid_0's l1: 0.109257\n",
      "[555]\tvalid_0's l1: 0.109212\n",
      "[556]\tvalid_0's l1: 0.109192\n",
      "[557]\tvalid_0's l1: 0.10919\n",
      "[558]\tvalid_0's l1: 0.109185\n",
      "[559]\tvalid_0's l1: 0.109168\n",
      "[560]\tvalid_0's l1: 0.109143\n",
      "[561]\tvalid_0's l1: 0.109131\n",
      "[562]\tvalid_0's l1: 0.109121\n",
      "[563]\tvalid_0's l1: 0.109119\n"
     ]
    },
    {
     "name": "stdout",
     "output_type": "stream",
     "text": [
      "[564]\tvalid_0's l1: 0.109112\n",
      "[565]\tvalid_0's l1: 0.109112\n",
      "[566]\tvalid_0's l1: 0.10911\n",
      "[567]\tvalid_0's l1: 0.109078\n",
      "[568]\tvalid_0's l1: 0.109073\n",
      "[569]\tvalid_0's l1: 0.109069\n",
      "[570]\tvalid_0's l1: 0.109062\n",
      "[571]\tvalid_0's l1: 0.109044\n",
      "[572]\tvalid_0's l1: 0.109033\n",
      "[573]\tvalid_0's l1: 0.109006\n",
      "[574]\tvalid_0's l1: 0.108975\n",
      "[575]\tvalid_0's l1: 0.108953\n",
      "[576]\tvalid_0's l1: 0.108947\n",
      "[577]\tvalid_0's l1: 0.108947\n",
      "[578]\tvalid_0's l1: 0.108939\n",
      "[579]\tvalid_0's l1: 0.108937\n",
      "[580]\tvalid_0's l1: 0.108929\n",
      "[581]\tvalid_0's l1: 0.10891\n",
      "[582]\tvalid_0's l1: 0.108892\n",
      "[583]\tvalid_0's l1: 0.10889\n",
      "[584]\tvalid_0's l1: 0.108885\n",
      "[585]\tvalid_0's l1: 0.108878\n",
      "[586]\tvalid_0's l1: 0.10885\n",
      "[587]\tvalid_0's l1: 0.108851\n",
      "[588]\tvalid_0's l1: 0.108849\n",
      "[589]\tvalid_0's l1: 0.108827\n",
      "[590]\tvalid_0's l1: 0.108787\n",
      "[591]\tvalid_0's l1: 0.108779\n",
      "[592]\tvalid_0's l1: 0.10877\n",
      "[593]\tvalid_0's l1: 0.10877\n",
      "[594]\tvalid_0's l1: 0.108747\n",
      "[595]\tvalid_0's l1: 0.108742\n",
      "[596]\tvalid_0's l1: 0.108741\n",
      "[597]\tvalid_0's l1: 0.108736\n",
      "[598]\tvalid_0's l1: 0.108713\n",
      "[599]\tvalid_0's l1: 0.108695\n",
      "[600]\tvalid_0's l1: 0.108671\n",
      "[601]\tvalid_0's l1: 0.108665\n",
      "[602]\tvalid_0's l1: 0.108662\n",
      "[603]\tvalid_0's l1: 0.108657\n",
      "[604]\tvalid_0's l1: 0.108653\n",
      "[605]\tvalid_0's l1: 0.108652\n",
      "[606]\tvalid_0's l1: 0.10865\n",
      "[607]\tvalid_0's l1: 0.108635\n",
      "[608]\tvalid_0's l1: 0.10862\n",
      "[609]\tvalid_0's l1: 0.108613\n",
      "[610]\tvalid_0's l1: 0.108612\n",
      "[611]\tvalid_0's l1: 0.10861\n",
      "[612]\tvalid_0's l1: 0.108602\n",
      "[613]\tvalid_0's l1: 0.108566\n",
      "[614]\tvalid_0's l1: 0.10856\n",
      "[615]\tvalid_0's l1: 0.108552\n",
      "[616]\tvalid_0's l1: 0.108529\n",
      "[617]\tvalid_0's l1: 0.108522\n",
      "[618]\tvalid_0's l1: 0.108517\n",
      "[619]\tvalid_0's l1: 0.108516\n",
      "[620]\tvalid_0's l1: 0.108516\n",
      "[621]\tvalid_0's l1: 0.108506\n",
      "[622]\tvalid_0's l1: 0.108502\n",
      "[623]\tvalid_0's l1: 0.108494\n",
      "[624]\tvalid_0's l1: 0.108491\n",
      "[625]\tvalid_0's l1: 0.108486\n",
      "[626]\tvalid_0's l1: 0.108448\n",
      "[627]\tvalid_0's l1: 0.108442\n",
      "[628]\tvalid_0's l1: 0.108427\n",
      "[629]\tvalid_0's l1: 0.108419\n",
      "[630]\tvalid_0's l1: 0.108406\n",
      "[631]\tvalid_0's l1: 0.1084\n",
      "[632]\tvalid_0's l1: 0.108396\n",
      "[633]\tvalid_0's l1: 0.108394\n",
      "[634]\tvalid_0's l1: 0.108386\n",
      "[635]\tvalid_0's l1: 0.108359\n",
      "[636]\tvalid_0's l1: 0.108349\n",
      "[637]\tvalid_0's l1: 0.108331\n",
      "[638]\tvalid_0's l1: 0.1083\n",
      "[639]\tvalid_0's l1: 0.108286\n",
      "[640]\tvalid_0's l1: 0.108265\n",
      "[641]\tvalid_0's l1: 0.108255\n",
      "[642]\tvalid_0's l1: 0.108249\n",
      "[643]\tvalid_0's l1: 0.108247\n",
      "[644]\tvalid_0's l1: 0.108244\n",
      "[645]\tvalid_0's l1: 0.108233\n",
      "[646]\tvalid_0's l1: 0.108226\n",
      "[647]\tvalid_0's l1: 0.108222\n",
      "[648]\tvalid_0's l1: 0.108208\n",
      "[649]\tvalid_0's l1: 0.108206\n",
      "[650]\tvalid_0's l1: 0.108205\n",
      "[651]\tvalid_0's l1: 0.108182\n",
      "[652]\tvalid_0's l1: 0.108177\n",
      "[653]\tvalid_0's l1: 0.108162\n",
      "[654]\tvalid_0's l1: 0.10816\n",
      "[655]\tvalid_0's l1: 0.108156\n",
      "[656]\tvalid_0's l1: 0.10815\n",
      "[657]\tvalid_0's l1: 0.108147\n",
      "[658]\tvalid_0's l1: 0.108131\n",
      "[659]\tvalid_0's l1: 0.108122\n",
      "[660]\tvalid_0's l1: 0.108119\n",
      "[661]\tvalid_0's l1: 0.10809\n",
      "[662]\tvalid_0's l1: 0.108066\n",
      "[663]\tvalid_0's l1: 0.108061\n",
      "[664]\tvalid_0's l1: 0.108042\n",
      "[665]\tvalid_0's l1: 0.108028\n",
      "[666]\tvalid_0's l1: 0.108017\n",
      "[667]\tvalid_0's l1: 0.108003\n",
      "[668]\tvalid_0's l1: 0.107989\n",
      "[669]\tvalid_0's l1: 0.107977\n",
      "[670]\tvalid_0's l1: 0.10797\n",
      "[671]\tvalid_0's l1: 0.107962\n",
      "[672]\tvalid_0's l1: 0.107958\n",
      "[673]\tvalid_0's l1: 0.107956\n",
      "[674]\tvalid_0's l1: 0.107939\n",
      "[675]\tvalid_0's l1: 0.107918\n",
      "[676]\tvalid_0's l1: 0.107896\n",
      "[677]\tvalid_0's l1: 0.107895\n",
      "[678]\tvalid_0's l1: 0.107874\n",
      "[679]\tvalid_0's l1: 0.107864\n",
      "[680]\tvalid_0's l1: 0.107858\n",
      "[681]\tvalid_0's l1: 0.107852\n",
      "[682]\tvalid_0's l1: 0.107816\n",
      "[683]\tvalid_0's l1: 0.107811\n",
      "[684]\tvalid_0's l1: 0.107807\n",
      "[685]\tvalid_0's l1: 0.10779\n",
      "[686]\tvalid_0's l1: 0.107786\n",
      "[687]\tvalid_0's l1: 0.107786\n",
      "[688]\tvalid_0's l1: 0.107772\n",
      "[689]\tvalid_0's l1: 0.107769\n",
      "[690]\tvalid_0's l1: 0.107763\n",
      "[691]\tvalid_0's l1: 0.107759\n",
      "[692]\tvalid_0's l1: 0.107752\n",
      "[693]\tvalid_0's l1: 0.107745\n",
      "[694]\tvalid_0's l1: 0.107742\n",
      "[695]\tvalid_0's l1: 0.10774\n",
      "[696]\tvalid_0's l1: 0.107732\n",
      "[697]\tvalid_0's l1: 0.107723\n",
      "[698]\tvalid_0's l1: 0.107714\n",
      "[699]\tvalid_0's l1: 0.107714\n",
      "[700]\tvalid_0's l1: 0.107703\n",
      "[701]\tvalid_0's l1: 0.107693\n",
      "[702]\tvalid_0's l1: 0.107672\n",
      "[703]\tvalid_0's l1: 0.107668\n",
      "[704]\tvalid_0's l1: 0.10766\n",
      "[705]\tvalid_0's l1: 0.107659\n",
      "[706]\tvalid_0's l1: 0.10765\n",
      "[707]\tvalid_0's l1: 0.107634\n",
      "[708]\tvalid_0's l1: 0.107626\n",
      "[709]\tvalid_0's l1: 0.107622\n",
      "[710]\tvalid_0's l1: 0.107618\n",
      "[711]\tvalid_0's l1: 0.107617\n",
      "[712]\tvalid_0's l1: 0.107615\n",
      "[713]\tvalid_0's l1: 0.107604\n",
      "[714]\tvalid_0's l1: 0.107598\n",
      "[715]\tvalid_0's l1: 0.107589\n",
      "[716]\tvalid_0's l1: 0.107585\n",
      "[717]\tvalid_0's l1: 0.107577\n",
      "[718]\tvalid_0's l1: 0.107572\n",
      "[719]\tvalid_0's l1: 0.107555\n",
      "[720]\tvalid_0's l1: 0.107551\n",
      "[721]\tvalid_0's l1: 0.107544\n",
      "[722]\tvalid_0's l1: 0.10754\n",
      "[723]\tvalid_0's l1: 0.107517\n",
      "[724]\tvalid_0's l1: 0.107486\n",
      "[725]\tvalid_0's l1: 0.107482\n",
      "[726]\tvalid_0's l1: 0.107479\n",
      "[727]\tvalid_0's l1: 0.107472\n",
      "[728]\tvalid_0's l1: 0.107469\n",
      "[729]\tvalid_0's l1: 0.107468\n",
      "[730]\tvalid_0's l1: 0.107454\n",
      "[731]\tvalid_0's l1: 0.107443\n",
      "[732]\tvalid_0's l1: 0.10743\n",
      "[733]\tvalid_0's l1: 0.107425\n",
      "[734]\tvalid_0's l1: 0.1074\n",
      "[735]\tvalid_0's l1: 0.107399\n",
      "[736]\tvalid_0's l1: 0.107393\n",
      "[737]\tvalid_0's l1: 0.107388\n",
      "[738]\tvalid_0's l1: 0.107373\n",
      "[739]\tvalid_0's l1: 0.107367\n",
      "[740]\tvalid_0's l1: 0.107365\n",
      "[741]\tvalid_0's l1: 0.107363\n",
      "[742]\tvalid_0's l1: 0.10736\n",
      "[743]\tvalid_0's l1: 0.107349\n",
      "[744]\tvalid_0's l1: 0.10734\n",
      "[745]\tvalid_0's l1: 0.107336\n",
      "[746]\tvalid_0's l1: 0.107334\n",
      "[747]\tvalid_0's l1: 0.107327\n",
      "[748]\tvalid_0's l1: 0.107325\n",
      "[749]\tvalid_0's l1: 0.107313\n",
      "[750]\tvalid_0's l1: 0.107312\n",
      "[751]\tvalid_0's l1: 0.107285\n",
      "[752]\tvalid_0's l1: 0.107273\n",
      "[753]\tvalid_0's l1: 0.107258\n",
      "[754]\tvalid_0's l1: 0.107253\n",
      "[755]\tvalid_0's l1: 0.10725\n",
      "[756]\tvalid_0's l1: 0.107242\n",
      "[757]\tvalid_0's l1: 0.107224\n",
      "[758]\tvalid_0's l1: 0.107217\n",
      "[759]\tvalid_0's l1: 0.107207\n",
      "[760]\tvalid_0's l1: 0.107207\n",
      "[761]\tvalid_0's l1: 0.1072\n",
      "[762]\tvalid_0's l1: 0.107197\n",
      "[763]\tvalid_0's l1: 0.107192\n",
      "[764]\tvalid_0's l1: 0.10719\n",
      "[765]\tvalid_0's l1: 0.107191\n",
      "[766]\tvalid_0's l1: 0.107182\n",
      "[767]\tvalid_0's l1: 0.107178\n",
      "[768]\tvalid_0's l1: 0.107173\n",
      "[769]\tvalid_0's l1: 0.107171\n",
      "[770]\tvalid_0's l1: 0.107169\n",
      "[771]\tvalid_0's l1: 0.10716\n",
      "[772]\tvalid_0's l1: 0.107157\n",
      "[773]\tvalid_0's l1: 0.107155\n",
      "[774]\tvalid_0's l1: 0.107144\n",
      "[775]\tvalid_0's l1: 0.107134\n",
      "[776]\tvalid_0's l1: 0.107131\n",
      "[777]\tvalid_0's l1: 0.107122\n",
      "[778]\tvalid_0's l1: 0.107118\n",
      "[779]\tvalid_0's l1: 0.107109\n",
      "[780]\tvalid_0's l1: 0.107097\n",
      "[781]\tvalid_0's l1: 0.10708\n",
      "[782]\tvalid_0's l1: 0.107079\n",
      "[783]\tvalid_0's l1: 0.107075\n",
      "[784]\tvalid_0's l1: 0.107064\n",
      "[785]\tvalid_0's l1: 0.107058\n",
      "[786]\tvalid_0's l1: 0.107045\n",
      "[787]\tvalid_0's l1: 0.107037\n",
      "[788]\tvalid_0's l1: 0.107033\n",
      "[789]\tvalid_0's l1: 0.107025\n",
      "[790]\tvalid_0's l1: 0.107006\n",
      "[791]\tvalid_0's l1: 0.107\n",
      "[792]\tvalid_0's l1: 0.106982\n",
      "[793]\tvalid_0's l1: 0.106964\n",
      "[794]\tvalid_0's l1: 0.10696\n",
      "[795]\tvalid_0's l1: 0.106949\n",
      "[796]\tvalid_0's l1: 0.106947\n",
      "[797]\tvalid_0's l1: 0.106942\n",
      "[798]\tvalid_0's l1: 0.106938\n",
      "[799]\tvalid_0's l1: 0.106937\n",
      "[800]\tvalid_0's l1: 0.106937\n",
      "[801]\tvalid_0's l1: 0.106935\n",
      "[802]\tvalid_0's l1: 0.106929\n",
      "[803]\tvalid_0's l1: 0.106925\n",
      "[804]\tvalid_0's l1: 0.106918\n",
      "[805]\tvalid_0's l1: 0.106915\n",
      "[806]\tvalid_0's l1: 0.106901\n",
      "[807]\tvalid_0's l1: 0.106889\n",
      "[808]\tvalid_0's l1: 0.106867\n",
      "[809]\tvalid_0's l1: 0.106863\n",
      "[810]\tvalid_0's l1: 0.10686\n",
      "[811]\tvalid_0's l1: 0.106855\n",
      "[812]\tvalid_0's l1: 0.106842\n",
      "[813]\tvalid_0's l1: 0.106841\n",
      "[814]\tvalid_0's l1: 0.106841\n",
      "[815]\tvalid_0's l1: 0.106836\n",
      "[816]\tvalid_0's l1: 0.106832\n",
      "[817]\tvalid_0's l1: 0.106816\n",
      "[818]\tvalid_0's l1: 0.106811\n",
      "[819]\tvalid_0's l1: 0.106793\n",
      "[820]\tvalid_0's l1: 0.106773\n",
      "[821]\tvalid_0's l1: 0.106771\n",
      "[822]\tvalid_0's l1: 0.106768\n",
      "[823]\tvalid_0's l1: 0.106767\n",
      "[824]\tvalid_0's l1: 0.106759\n",
      "[825]\tvalid_0's l1: 0.106739\n",
      "[826]\tvalid_0's l1: 0.106733\n",
      "[827]\tvalid_0's l1: 0.10673\n",
      "[828]\tvalid_0's l1: 0.106726\n",
      "[829]\tvalid_0's l1: 0.106709\n",
      "[830]\tvalid_0's l1: 0.106696\n",
      "[831]\tvalid_0's l1: 0.10669\n",
      "[832]\tvalid_0's l1: 0.106668\n",
      "[833]\tvalid_0's l1: 0.106665\n",
      "[834]\tvalid_0's l1: 0.106664\n",
      "[835]\tvalid_0's l1: 0.106663\n",
      "[836]\tvalid_0's l1: 0.106662\n",
      "[837]\tvalid_0's l1: 0.106645\n",
      "[838]\tvalid_0's l1: 0.106635\n",
      "[839]\tvalid_0's l1: 0.106624\n",
      "[840]\tvalid_0's l1: 0.106625\n",
      "[841]\tvalid_0's l1: 0.106621\n",
      "[842]\tvalid_0's l1: 0.106619\n",
      "[843]\tvalid_0's l1: 0.106611\n",
      "[844]\tvalid_0's l1: 0.10661\n",
      "[845]\tvalid_0's l1: 0.1066\n",
      "[846]\tvalid_0's l1: 0.106594\n",
      "[847]\tvalid_0's l1: 0.10659\n",
      "[848]\tvalid_0's l1: 0.106588\n",
      "[849]\tvalid_0's l1: 0.106581\n",
      "[850]\tvalid_0's l1: 0.10658\n",
      "[851]\tvalid_0's l1: 0.106578\n"
     ]
    },
    {
     "name": "stdout",
     "output_type": "stream",
     "text": [
      "[852]\tvalid_0's l1: 0.106568\n",
      "[853]\tvalid_0's l1: 0.106567\n",
      "[854]\tvalid_0's l1: 0.106566\n",
      "[855]\tvalid_0's l1: 0.106559\n",
      "[856]\tvalid_0's l1: 0.106557\n",
      "[857]\tvalid_0's l1: 0.106556\n",
      "[858]\tvalid_0's l1: 0.106541\n",
      "[859]\tvalid_0's l1: 0.106539\n",
      "[860]\tvalid_0's l1: 0.106535\n",
      "[861]\tvalid_0's l1: 0.106525\n",
      "[862]\tvalid_0's l1: 0.106514\n",
      "[863]\tvalid_0's l1: 0.106508\n",
      "[864]\tvalid_0's l1: 0.106501\n",
      "[865]\tvalid_0's l1: 0.106498\n",
      "[866]\tvalid_0's l1: 0.10649\n",
      "[867]\tvalid_0's l1: 0.106487\n",
      "[868]\tvalid_0's l1: 0.106484\n",
      "[869]\tvalid_0's l1: 0.106476\n",
      "[870]\tvalid_0's l1: 0.106476\n",
      "[871]\tvalid_0's l1: 0.106474\n",
      "[872]\tvalid_0's l1: 0.106466\n",
      "[873]\tvalid_0's l1: 0.106464\n",
      "[874]\tvalid_0's l1: 0.106451\n",
      "[875]\tvalid_0's l1: 0.106448\n",
      "[876]\tvalid_0's l1: 0.106437\n",
      "[877]\tvalid_0's l1: 0.106436\n",
      "[878]\tvalid_0's l1: 0.106433\n",
      "[879]\tvalid_0's l1: 0.106428\n",
      "[880]\tvalid_0's l1: 0.106424\n",
      "[881]\tvalid_0's l1: 0.106421\n",
      "[882]\tvalid_0's l1: 0.10642\n",
      "[883]\tvalid_0's l1: 0.106413\n",
      "[884]\tvalid_0's l1: 0.106405\n",
      "[885]\tvalid_0's l1: 0.106403\n",
      "[886]\tvalid_0's l1: 0.106401\n",
      "[887]\tvalid_0's l1: 0.1064\n",
      "[888]\tvalid_0's l1: 0.106386\n",
      "[889]\tvalid_0's l1: 0.106369\n",
      "[890]\tvalid_0's l1: 0.106355\n",
      "[891]\tvalid_0's l1: 0.106347\n",
      "[892]\tvalid_0's l1: 0.106341\n",
      "[893]\tvalid_0's l1: 0.106335\n",
      "[894]\tvalid_0's l1: 0.106334\n",
      "[895]\tvalid_0's l1: 0.106333\n",
      "[896]\tvalid_0's l1: 0.106321\n",
      "[897]\tvalid_0's l1: 0.106321\n",
      "[898]\tvalid_0's l1: 0.106319\n",
      "[899]\tvalid_0's l1: 0.106319\n",
      "[900]\tvalid_0's l1: 0.106315\n",
      "[901]\tvalid_0's l1: 0.106305\n",
      "[902]\tvalid_0's l1: 0.106302\n",
      "[903]\tvalid_0's l1: 0.1063\n",
      "[904]\tvalid_0's l1: 0.106294\n",
      "[905]\tvalid_0's l1: 0.106295\n",
      "[906]\tvalid_0's l1: 0.106294\n",
      "[907]\tvalid_0's l1: 0.106293\n",
      "[908]\tvalid_0's l1: 0.106285\n",
      "[909]\tvalid_0's l1: 0.106283\n",
      "[910]\tvalid_0's l1: 0.106273\n",
      "[911]\tvalid_0's l1: 0.106259\n",
      "[912]\tvalid_0's l1: 0.106239\n",
      "[913]\tvalid_0's l1: 0.106224\n",
      "[914]\tvalid_0's l1: 0.106223\n",
      "[915]\tvalid_0's l1: 0.106211\n",
      "[916]\tvalid_0's l1: 0.106204\n",
      "[917]\tvalid_0's l1: 0.106191\n",
      "[918]\tvalid_0's l1: 0.10619\n",
      "[919]\tvalid_0's l1: 0.106186\n",
      "[920]\tvalid_0's l1: 0.106173\n",
      "[921]\tvalid_0's l1: 0.106163\n",
      "[922]\tvalid_0's l1: 0.106163\n",
      "[923]\tvalid_0's l1: 0.106161\n",
      "[924]\tvalid_0's l1: 0.106148\n",
      "[925]\tvalid_0's l1: 0.106134\n",
      "[926]\tvalid_0's l1: 0.106132\n",
      "[927]\tvalid_0's l1: 0.106132\n",
      "[928]\tvalid_0's l1: 0.106131\n",
      "[929]\tvalid_0's l1: 0.106127\n",
      "[930]\tvalid_0's l1: 0.106126\n",
      "[931]\tvalid_0's l1: 0.106119\n",
      "[932]\tvalid_0's l1: 0.106118\n",
      "[933]\tvalid_0's l1: 0.106114\n",
      "[934]\tvalid_0's l1: 0.106113\n",
      "[935]\tvalid_0's l1: 0.106113\n",
      "[936]\tvalid_0's l1: 0.106113\n",
      "[937]\tvalid_0's l1: 0.106105\n",
      "[938]\tvalid_0's l1: 0.106101\n",
      "[939]\tvalid_0's l1: 0.106091\n",
      "[940]\tvalid_0's l1: 0.106081\n",
      "[941]\tvalid_0's l1: 0.106079\n",
      "[942]\tvalid_0's l1: 0.106069\n",
      "[943]\tvalid_0's l1: 0.106056\n",
      "[944]\tvalid_0's l1: 0.106045\n",
      "[945]\tvalid_0's l1: 0.106035\n",
      "[946]\tvalid_0's l1: 0.106024\n",
      "[947]\tvalid_0's l1: 0.10601\n",
      "[948]\tvalid_0's l1: 0.106002\n",
      "[949]\tvalid_0's l1: 0.105993\n",
      "[950]\tvalid_0's l1: 0.105989\n",
      "[951]\tvalid_0's l1: 0.10598\n",
      "[952]\tvalid_0's l1: 0.10598\n",
      "[953]\tvalid_0's l1: 0.105976\n",
      "[954]\tvalid_0's l1: 0.105968\n",
      "[955]\tvalid_0's l1: 0.105965\n",
      "[956]\tvalid_0's l1: 0.105954\n",
      "[957]\tvalid_0's l1: 0.105948\n",
      "[958]\tvalid_0's l1: 0.105933\n",
      "[959]\tvalid_0's l1: 0.10592\n",
      "[960]\tvalid_0's l1: 0.10592\n",
      "[961]\tvalid_0's l1: 0.105911\n",
      "[962]\tvalid_0's l1: 0.105907\n",
      "[963]\tvalid_0's l1: 0.105907\n",
      "[964]\tvalid_0's l1: 0.105891\n",
      "[965]\tvalid_0's l1: 0.105886\n",
      "[966]\tvalid_0's l1: 0.105879\n",
      "[967]\tvalid_0's l1: 0.105871\n",
      "[968]\tvalid_0's l1: 0.105856\n",
      "[969]\tvalid_0's l1: 0.105851\n",
      "[970]\tvalid_0's l1: 0.105842\n",
      "[971]\tvalid_0's l1: 0.105839\n",
      "[972]\tvalid_0's l1: 0.105837\n",
      "[973]\tvalid_0's l1: 0.105832\n",
      "[974]\tvalid_0's l1: 0.105831\n",
      "[975]\tvalid_0's l1: 0.105823\n",
      "[976]\tvalid_0's l1: 0.10582\n",
      "[977]\tvalid_0's l1: 0.10582\n",
      "[978]\tvalid_0's l1: 0.105816\n",
      "[979]\tvalid_0's l1: 0.105812\n",
      "[980]\tvalid_0's l1: 0.105808\n",
      "[981]\tvalid_0's l1: 0.105806\n",
      "[982]\tvalid_0's l1: 0.105801\n",
      "[983]\tvalid_0's l1: 0.105793\n",
      "[984]\tvalid_0's l1: 0.105787\n",
      "[985]\tvalid_0's l1: 0.10578\n",
      "[986]\tvalid_0's l1: 0.105776\n",
      "[987]\tvalid_0's l1: 0.105774\n",
      "[988]\tvalid_0's l1: 0.105772\n",
      "[989]\tvalid_0's l1: 0.105761\n",
      "[990]\tvalid_0's l1: 0.105757\n",
      "[991]\tvalid_0's l1: 0.105753\n",
      "[992]\tvalid_0's l1: 0.10575\n",
      "[993]\tvalid_0's l1: 0.105737\n",
      "[994]\tvalid_0's l1: 0.105733\n",
      "[995]\tvalid_0's l1: 0.105732\n",
      "[996]\tvalid_0's l1: 0.105725\n",
      "[997]\tvalid_0's l1: 0.105719\n",
      "[998]\tvalid_0's l1: 0.105709\n",
      "[999]\tvalid_0's l1: 0.105705\n",
      "[1000]\tvalid_0's l1: 0.105702\n",
      "Did not meet early stopping. Best iteration is:\n",
      "[1000]\tvalid_0's l1: 0.105702\n"
     ]
    }
   ],
   "source": [
    "import lightgbm as lgb\n",
    "\n",
    "trains = lgb.Dataset(train_X, train_y)\n",
    "valids = lgb.Dataset(val_X, val_y)\n",
    "\n",
    "params = {\n",
    "    \"objective\": \"regression\",\n",
    "    \"metrics\": \"mae\"\n",
    "}\n",
    "\n",
    "model = lgb.train(params, trains, valid_sets=valids, num_boost_round=1000, early_stopping_rounds=100)"
   ]
  },
  {
   "cell_type": "code",
   "execution_count": null,
   "id": "feffac34",
   "metadata": {},
   "outputs": [],
   "source": [
    "pred=model.predict(train_X)"
   ]
  },
  {
   "cell_type": "code",
   "execution_count": null,
   "id": "198a021e",
   "metadata": {},
   "outputs": [],
   "source": [
    "np.mean(np.abs(train_y-pred))"
   ]
  },
  {
   "cell_type": "code",
   "execution_count": 90,
   "id": "e373b3f0",
   "metadata": {},
   "outputs": [],
   "source": [
    "#文字化け防止\n",
    "import matplotlib.pyplot as plt\n",
    "plt.rc('font', family='Hiragino sans')"
   ]
  },
  {
   "cell_type": "code",
   "execution_count": 91,
   "id": "bbccf537",
   "metadata": {},
   "outputs": [
    {
     "data": {
      "text/plain": [
       "<AxesSubplot:title={'center':'Feature importance'}, xlabel='Feature importance', ylabel='Features'>"
      ]
     },
     "execution_count": 91,
     "metadata": {},
     "output_type": "execute_result"
    },
    {
     "data": {
      "image/png": "[encoded data removed]",
      "text/plain": [
       "<Figure size 864x576 with 1 Axes>"
      ]
     },
     "metadata": {
      "needs_background": "light"
     },
     "output_type": "display_data"
    }
   ],
   "source": [
    "#各特徴量の重要度を確認\n",
    "lgb.plot_importance(model, figsize=(12,8), max_num_features=50, importance_type='gain')"
   ]
  },
  {
   "cell_type": "code",
   "execution_count": 82,
   "id": "511e8079",
   "metadata": {},
   "outputs": [
    {
     "data": {
      "text/plain": [
       "Index(['最寄駅：距離（分）', '面積（㎡）', '建築年', '建物の構造', '今後の利用目的', '都市計画', '計'], dtype='object')"
      ]
     },
     "execution_count": 82,
     "metadata": {},
     "output_type": "execute_result"
    }
   ],
   "source": [
    "train_X.columns"
   ]
  },
  {
   "cell_type": "code",
   "execution_count": 81,
   "id": "f43a6370",
   "metadata": {},
   "outputs": [
    {
     "data": {
      "text/plain": [
       "array([ 4513,  4158,  6230,   759,   706,  1002, 12632], dtype=int32)"
      ]
     },
     "execution_count": 81,
     "metadata": {},
     "output_type": "execute_result"
    }
   ],
   "source": [
    "model.feature_importance()"
   ]
  },
  {
   "cell_type": "markdown",
   "id": "d37d4733",
   "metadata": {},
   "source": [
    "## テストデータ読み込み"
   ]
  },
  {
   "cell_type": "code",
   "execution_count": null,
   "id": "fc0f61fa",
   "metadata": {},
   "outputs": [],
   "source": [
    "#テストデータ読み込み\n",
    "test=pd.read_csv('./data/test.csv')\n",
    "#人口データ読み込み\n",
    "population_test=pd.read_csv('population_test.csv')\n",
    "#提出用サンプルファイル読み込み\n",
    "sample=pd.read_csv('./data/sample_submission.csv')\n",
    "\n",
    "#欠損値の多いカラムを除去\n",
    "#インスタンス化して訓練データを更新する\n",
    "Adj_Data=Delete_Null_Data(test)\n",
    "test=Adj_Data.delete_null_columns()\n",
    "\n",
    "#人口データをカラムに追加\n",
    "test['計']=population_test['計']\n",
    "\n",
    "test.head()"
   ]
  },
  {
   "cell_type": "code",
   "execution_count": null,
   "id": "d903aeae",
   "metadata": {},
   "outputs": [],
   "source": [
    "test.columns"
   ]
  },
  {
   "cell_type": "markdown",
   "id": "6cee775b",
   "metadata": {},
   "source": [
    "## 最寄駅　距離"
   ]
  },
  {
   "cell_type": "code",
   "execution_count": null,
   "id": "6a1d4380",
   "metadata": {},
   "outputs": [],
   "source": [
    "test['最寄駅：距離（分）'].unique()"
   ]
  },
  {
   "cell_type": "code",
   "execution_count": null,
   "id": "76fa5e91",
   "metadata": {},
   "outputs": [],
   "source": [
    "#時間がわからない部分の補完、欠損値は10で補完\n",
    "test['最寄駅：距離（分）']=test['最寄駅：距離（分）'].replace({'30分?60分':'45', '1H30?2H':'105', '1H?1H30':'75', '2H?':'120'})\n",
    "test['最寄駅：距離（分）']=test['最寄駅：距離（分）'].fillna('10')\n",
    "\n",
    "#文字列型から整数型に変換\n",
    "test['最寄駅：距離（分）']=test['最寄駅：距離（分）'].astype(int)\n",
    "test['最寄駅：距離（分）'].unique()"
   ]
  },
  {
   "cell_type": "markdown",
   "id": "236d9c07",
   "metadata": {},
   "source": [
    "## 面積"
   ]
  },
  {
   "cell_type": "code",
   "execution_count": null,
   "id": "42dd6a9d",
   "metadata": {},
   "outputs": [],
   "source": [
    "#面積の欠損値はなし、'2000㎡以上'は'2000'で補完\n",
    "test['面積（㎡）']=test['面積（㎡）'].replace('2000㎡以上','2000')\n",
    "test['面積（㎡）'].unique()\n",
    "#文字列型から整数型に変換\n",
    "test['面積（㎡）']=test['面積（㎡）'].astype(int)\n",
    "test['面積（㎡）'].unique()"
   ]
  },
  {
   "cell_type": "markdown",
   "id": "699f2ef2",
   "metadata": {},
   "source": [
    "## 建築年"
   ]
  },
  {
   "cell_type": "code",
   "execution_count": null,
   "id": "02bdf9db",
   "metadata": {},
   "outputs": [],
   "source": [
    "#欠損値を補完, nanのままだとうまくいかないので文字列でnullと入れておく\n",
    "test['建築年']=test['建築年'].fillna('null')\n",
    "\n",
    "#trainデータをseireki関数の引数として渡して、結果を変数resultに格納\n",
    "result=seireki(test)\n",
    "print(len(result))\n",
    "\n",
    "#resultをtrain['建築年']に格納\n",
    "test['建築年']=result"
   ]
  },
  {
   "cell_type": "code",
   "execution_count": null,
   "id": "ea10bd8d",
   "metadata": {},
   "outputs": [],
   "source": [
    "test['建築年'].unique()"
   ]
  },
  {
   "cell_type": "markdown",
   "id": "c25073d8",
   "metadata": {},
   "source": [
    "## 建物の構造"
   ]
  },
  {
   "cell_type": "code",
   "execution_count": null,
   "id": "dc95ac3b",
   "metadata": {},
   "outputs": [],
   "source": [
    "#欠損値は文字列nullで対応\n",
    "test['建物の構造']=test['建物の構造'].fillna('null')\n",
    "\n",
    "#nullは最も多いRCで補完\n",
    "test['建物の構造']=='null'\n",
    "test['建物の構造']=test['建物の構造'].replace('null','ＲＣ')\n",
    "test['建物の構造'].unique()\n",
    "\n",
    "#建物の構造ごとにいくつあるか集計\n",
    "test.groupby(['建物の構造']).count() \n",
    "\n",
    "#RC:488914, SRC:208345, 鉄構造:4717の順に多い\n",
    "#全体の平均：train['取引価格（総額）_log'].mean()=7.227968247625857より高いor低いの2グループに分ける\n",
    "#建物の構造_new: 0=低い、1=高い\n",
    "test['建物の構造']=test['建物の構造'].replace('ブロック造',0)\n",
    "test['建物の構造']=test['建物の構造'].replace('木造',0)\n",
    "test['建物の構造']=test['建物の構造'].replace('鉄骨造',0)\n",
    "test['建物の構造']=test['建物の構造'].replace('ＲＣ、ブロック造',0)\n",
    "test['建物の構造']=test['建物の構造'].replace('ＳＲＣ',0)\n",
    "test['建物の構造']=test['建物の構造'].replace('ＳＲＣ、鉄骨造',0)\n",
    "test['建物の構造']=test['建物の構造'].replace('ＳＲＣ、ＲＣ',0)\n",
    "\n",
    "test['建物の構造']=test['建物の構造'].replace('軽量鉄骨造',1)\n",
    "test['建物の構造']=test['建物の構造'].replace('ＲＣ',1)\n",
    "test['建物の構造']=test['建物の構造'].replace('ＲＣ、木造',1)\n",
    "test['建物の構造']=test['建物の構造'].replace('ＲＣ、鉄骨造',1)\n",
    "test['建物の構造']=test['建物の構造'].replace('ＳＲＣ、ＲＣ、鉄骨造',1)\n",
    "\n",
    "len(test['建物の構造'])"
   ]
  },
  {
   "cell_type": "code",
   "execution_count": null,
   "id": "be2a10c5",
   "metadata": {},
   "outputs": [],
   "source": []
  },
  {
   "cell_type": "markdown",
   "id": "b2d45d61",
   "metadata": {},
   "source": [
    "## 今後の利用目的"
   ]
  },
  {
   "cell_type": "code",
   "execution_count": null,
   "id": "b5cdafe0",
   "metadata": {},
   "outputs": [],
   "source": [
    "#欠損値はnull、都市計画と価格の関係\n",
    "test['今後の利用目的']=test['今後の利用目的'].fillna('その他')\n",
    "#住宅は1,そのほかは0\n",
    "test['今後の利用目的']=test['今後の利用目的'].replace('住宅',1)\n",
    "test['今後の利用目的']=test['今後の利用目的'].replace({'その他':0, '事務所':0, '店舗':0})"
   ]
  },
  {
   "cell_type": "code",
   "execution_count": null,
   "id": "61107c9c",
   "metadata": {},
   "outputs": [],
   "source": []
  },
  {
   "cell_type": "markdown",
   "id": "dcad16e5",
   "metadata": {},
   "source": [
    "## 都市計画"
   ]
  },
  {
   "cell_type": "code",
   "execution_count": null,
   "id": "db8d1455",
   "metadata": {},
   "outputs": [],
   "source": [
    "#住居グループ:1と商業工業グループ:0に分ける\n",
    "test['都市計画']=test['都市計画'].replace('商業地域',0)\n",
    "test['都市計画']=test['都市計画'].replace('工業地域',0)\n",
    "test['都市計画']=test['都市計画'].replace('工業専用地域',0)\n",
    "test['都市計画']=test['都市計画'].replace('近隣商業地域',0)\n",
    "test['都市計画']=test['都市計画'].replace('商業地域',0)\n",
    "test['都市計画']=test['都市計画'].replace('準工業地域',0)\n",
    "test['都市計画']=test['都市計画'].replace('準都市計画区域',0)\n",
    "\n",
    "test['都市計画']=test['都市計画'].replace('市街化区域及び市街化調整区域外の都市計画区域',1)\n",
    "test['都市計画']=test['都市計画'].replace('市街化調整区域',1)\n",
    "test['都市計画']=test['都市計画'].replace('準住居地域',1)\n",
    "test['都市計画']=test['都市計画'].replace('第１種中高層住居専用地域',1)\n",
    "test['都市計画']=test['都市計画'].replace('第１種低層住居専用地域',1)\n",
    "test['都市計画']=test['都市計画'].replace('第１種住居地域',1)\n",
    "test['都市計画']=test['都市計画'].replace('第２種中高層住居専用地域',1)\n",
    "test['都市計画']=test['都市計画'].replace('第２種低層住居専用地域',1)\n",
    "test['都市計画']=test['都市計画'].replace('第２種住居地域',1)\n",
    "test['都市計画']=test['都市計画'].replace('都市計画区域外',1)\n",
    "\n",
    "test['都市計画']=test['都市計画'].fillna(1)\n",
    "\n",
    "#train['取引価格（総額）_log'].groupby(train['都市計画']).mean()\n",
    "test['都市計画'].unique()"
   ]
  },
  {
   "cell_type": "code",
   "execution_count": null,
   "id": "b289c381",
   "metadata": {},
   "outputs": [],
   "source": []
  },
  {
   "cell_type": "markdown",
   "id": "5691587c",
   "metadata": {},
   "source": [
    "## 人口の合計"
   ]
  },
  {
   "cell_type": "code",
   "execution_count": null,
   "id": "3e4580b2",
   "metadata": {},
   "outputs": [],
   "source": [
    "test['計']"
   ]
  },
  {
   "cell_type": "code",
   "execution_count": null,
   "id": "b4da119e",
   "metadata": {},
   "outputs": [],
   "source": [
    "test=test[['最寄駅：距離（分）','面積（㎡）','建築年', '建物の構造', '今後の利用目的', '都市計画', '計']]\n",
    "test.info()\n",
    "len(test)"
   ]
  },
  {
   "cell_type": "markdown",
   "id": "773438fd",
   "metadata": {},
   "source": [
    "## モデルの実装、予測"
   ]
  },
  {
   "cell_type": "code",
   "execution_count": null,
   "id": "84da205f",
   "metadata": {},
   "outputs": [],
   "source": [
    "#ランダムフォレスト(submission2)\n",
    "pred_r=rfr.predict(test)\n",
    "\n",
    "#LIghtGBM(submission3)\n",
    "pred_l=model.predict(test)"
   ]
  },
  {
   "cell_type": "code",
   "execution_count": null,
   "id": "2a6d4f7c",
   "metadata": {},
   "outputs": [],
   "source": [
    "print(len(pred_r))\n",
    "pred_r"
   ]
  },
  {
   "cell_type": "code",
   "execution_count": null,
   "id": "0824f4ee",
   "metadata": {},
   "outputs": [],
   "source": [
    "print(len(pred_l))\n",
    "pred_l"
   ]
  },
  {
   "cell_type": "code",
   "execution_count": null,
   "id": "8faa5c2b",
   "metadata": {},
   "outputs": [],
   "source": [
    "#提出用ファイルに予測結果格納(ランダムフォレスト)\n",
    "sample['取引価格（総額）_log']=pred_r\n",
    "sample.to_csv('submission2.csv', index=None)\n",
    "\n",
    "\n",
    "#提出用ファイルに予測結果格納(LightGBM)\n",
    "sample['取引価格（総額）_log']=pred_l\n",
    "sample.to_csv('submission3.csv', index=None)\n",
    "\n"
   ]
  },
  {
   "cell_type": "code",
   "execution_count": null,
   "id": "653870d7",
   "metadata": {},
   "outputs": [],
   "source": [
    "#LIghtGBM(submission5)\n",
    "pred_l=model.predict(test)\n",
    "\n",
    "#提出用ファイルに予測結果格納(LightGBM)\n",
    "sample['取引価格（総額）_log']=pred_l\n",
    "sample.to_csv('submission5.csv', index=None)"
   ]
  },
  {
   "cell_type": "code",
   "execution_count": 93,
   "id": "54bb7117",
   "metadata": {},
   "outputs": [
    {
     "data": {
      "text/plain": [
       "(0.9511101304657719, 0.9514747859181732)"
      ]
     },
     "execution_count": 93,
     "metadata": {},
     "output_type": "execute_result"
    }
   ],
   "source": [
    "0.995**10, 1/1.051"
   ]
  },
  {
   "cell_type": "code",
   "execution_count": 94,
   "id": "35355767",
   "metadata": {},
   "outputs": [
    {
     "data": {
      "text/plain": [
       "0.3378789101771686"
      ]
     },
     "execution_count": 94,
     "metadata": {},
     "output_type": "execute_result"
    }
   ],
   "source": [
    "5*0.1056*(1-0.1056)**4"
   ]
  },
  {
   "cell_type": "code",
   "execution_count": 98,
   "id": "cd5106ea",
   "metadata": {},
   "outputs": [
    {
     "data": {
      "text/plain": [
       "0.1562934518505317"
      ]
     },
     "execution_count": 98,
     "metadata": {},
     "output_type": "execute_result"
    }
   ],
   "source": [
    "(4**5)/(np.exp(4)*120)"
   ]
  },
  {
   "cell_type": "code",
   "execution_count": null,
   "id": "4f4cb767",
   "metadata": {},
   "outputs": [],
   "source": []
  }
 ],
 "metadata": {
  "kernelspec": {
   "display_name": "Python 3 (ipykernel)",
   "language": "python",
   "name": "python3"
  },
  "language_info": {
   "codemirror_mode": {
    "name": "ipython",
    "version": 3
   },
   "file_extension": ".py",
   "mimetype": "text/x-python",
   "name": "python",
   "nbconvert_exporter": "python",
   "pygments_lexer": "ipython3",
   "version": "3.9.12"
  }
 },
 "nbformat": 4,
 "nbformat_minor": 5
}
